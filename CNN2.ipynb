{
 "cells": [
  {
   "metadata": {
    "ExecuteTime": {
     "end_time": "2025-01-14T23:06:19.401575Z",
     "start_time": "2025-01-14T23:06:19.395444Z"
    }
   },
   "cell_type": "code",
   "source": [
    "# Imports cell with respect to the pytorch library.\n",
    "import os\n",
    "import torch\n",
    "import torch.nn as nn\n",
    "import torch.optim as optim\n",
    "import torchvision.transforms as transforms\n",
    "from torch.utils.data import random_split, DataLoader\n",
    "from torchvision.datasets import ImageFolder\n",
    "from sklearn.metrics import accuracy_score, recall_score, precision_score\n",
    "import matplotlib.pyplot as plt\n",
    "from tqdm import tqdm\n",
    "import numpy as np"
   ],
   "id": "4484da35068463e",
   "outputs": [],
   "execution_count": 22
  },
  {
   "metadata": {
    "ExecuteTime": {
     "end_time": "2025-01-14T23:06:19.421255Z",
     "start_time": "2025-01-14T23:06:19.411089Z"
    }
   },
   "cell_type": "code",
   "source": [
    "# CNN Model Definition and architecture\n",
    "class SimpleCNN(nn.Module):\n",
    "    def __init__(self, num_classes, dropout):\n",
    "        super(SimpleCNN, self).__init__()\n",
    "        self.conv1 = nn.Conv2d(3, 32, kernel_size=3, padding=1)\n",
    "        self.bn1 = nn.BatchNorm2d(32)\n",
    "        self.conv2 = nn.Conv2d(32, 32, kernel_size=3, padding=1)\n",
    "        self.bn2 = nn.BatchNorm2d(32)\n",
    "        self.pool1 = nn.MaxPool2d(2, 2)\n",
    "\n",
    "        self.conv3 = nn.Conv2d(32, 64, kernel_size=3, padding=1)\n",
    "        self.bn3 = nn.BatchNorm2d(64)\n",
    "        self.conv4 = nn.Conv2d(64, 64, kernel_size=3, padding=1)\n",
    "        self.bn4 = nn.BatchNorm2d(64)\n",
    "        self.pool2 = nn.MaxPool2d(2, 2)\n",
    "\n",
    "        self.conv5 = nn.Conv2d(64, 128, kernel_size=3, padding=1)\n",
    "        self.bn5 = nn.BatchNorm2d(128)\n",
    "        self.conv6 = nn.Conv2d(128, 128, kernel_size=3, padding=1)\n",
    "        self.bn6 = nn.BatchNorm2d(128)\n",
    "        self.pool3 = nn.MaxPool2d(2, 2)\n",
    "\n",
    "        self.fc1 = nn.Linear(128 * 8 * 8, 512)\n",
    "        self.dropout = nn.Dropout(dropout)\n",
    "        self.fc2 = nn.Linear(512, num_classes)\n",
    "        self.relu = nn.ReLU(inplace=True)\n",
    "\n",
    "    def forward(self, x):\n",
    "        x = self.relu(self.bn1(self.conv1(x)))\n",
    "        x = self.relu(self.bn2(self.conv2(x)))\n",
    "        x = self.pool1(x)\n",
    "\n",
    "        x = self.relu(self.bn3(self.conv3(x)))\n",
    "        x = self.relu(self.bn4(self.conv4(x)))\n",
    "        x = self.pool2(x)\n",
    "\n",
    "        x = self.relu(self.bn5(self.conv5(x)))\n",
    "        x = self.relu(self.bn6(self.conv6(x)))\n",
    "        x = self.pool3(x)\n",
    "\n",
    "        x = x.view(x.size(0), -1)\n",
    "        x = self.relu(self.fc1(x))\n",
    "        x = self.dropout(x)\n",
    "        x = self.fc2(x)\n",
    "        return x"
   ],
   "id": "6c9b7d616442ea5e",
   "outputs": [],
   "execution_count": 23
  },
  {
   "metadata": {
    "ExecuteTime": {
     "end_time": "2025-01-14T23:06:21.144296Z",
     "start_time": "2025-01-14T23:06:20.786271Z"
    }
   },
   "cell_type": "code",
   "source": [
    "# Data Transforms and Loading\n",
    "transform_train = transforms.Compose([\n",
    "    transforms.Resize((128, 128)),\n",
    "    transforms.ToTensor(),\n",
    "    transforms.Normalize(mean=[0.5375, 0.4891, 0.4224], std=[0.1923, 0.1820, 0.1725])\n",
    "])\n",
    "\n",
    "transform_val = transforms.Compose([\n",
    "    transforms.Resize((64, 64)),\n",
    "    transforms.ToTensor(),\n",
    "    transforms.Normalize(mean=[0.5375, 0.4891, 0.4224], std=[0.1923, 0.1820, 0.1725])\n",
    "])\n",
    "\n",
    "dataset_root = r\"C:\\Users\\yozev\\OneDrive\\Desktop\\artFiltered\"\n",
    "full_dataset = ImageFolder(root=dataset_root, transform=transform_train)"
   ],
   "id": "37fd372244fc887b",
   "outputs": [],
   "execution_count": 24
  },
  {
   "metadata": {
    "ExecuteTime": {
     "end_time": "2025-01-14T23:06:21.210374Z",
     "start_time": "2025-01-14T23:06:21.144296Z"
    }
   },
   "cell_type": "code",
   "source": [
    "# Dataset Splitting\n",
    "batch_size = 32\n",
    "seed = 42\n",
    "torch.manual_seed(seed)\n",
    "if torch.cuda.is_available():\n",
    "    torch.cuda.manual_seed_all(seed)\n",
    "\n",
    "dataset_size = len(full_dataset)\n",
    "train_size = int(0.75 * dataset_size)\n",
    "val_size = int(0.15 * dataset_size)\n",
    "test_size = dataset_size - train_size - val_size\n",
    "\n",
    "train_dataset, val_dataset, test_dataset = random_split(\n",
    "    full_dataset, [train_size, val_size, test_size],\n",
    "    generator=torch.Generator().manual_seed(seed)\n",
    ")\n",
    "\n",
    "val_dataset.dataset.transform = transform_val\n",
    "test_dataset.dataset.transform = transform_val\n",
    "\n",
    "train_loader = DataLoader(train_dataset, batch_size=batch_size, shuffle=True, num_workers=4)\n",
    "val_loader = DataLoader(val_dataset, batch_size=batch_size, shuffle=False, num_workers=4)\n",
    "test_loader = DataLoader(test_dataset, batch_size=batch_size, shuffle=False, num_workers=4)\n",
    "\n",
    "# Model Initialization and Training Setup\n",
    "device = torch.device(\"cuda\" if torch.cuda.is_available() else \"cpu\")\n",
    "model = SimpleCNN(num_classes=len(full_dataset.classes), dropout=0.4).to(device)\n",
    "criterion = nn.CrossEntropyLoss()\n",
    "optimizer = optim.Adam(model.parameters(), lr=0.0005, weight_decay=0.0001)\n",
    "scheduler = torch.optim.lr_scheduler.ReduceLROnPlateau(optimizer, mode='min', factor=0.5, patience=5)"
   ],
   "id": "70e04fd3e4d06e7e",
   "outputs": [],
   "execution_count": 25
  },
  {
   "metadata": {
    "ExecuteTime": {
     "end_time": "2025-01-14T23:26:39.019751Z",
     "start_time": "2025-01-14T23:06:21.637870Z"
    }
   },
   "cell_type": "code",
   "source": [
    "# Training Loop\n",
    "epochs = 50\n",
    "best_val_loss = float('inf')\n",
    "patience = 5\n",
    "patience_counter = 0\n",
    "\n",
    "train_losses = []\n",
    "val_losses = []\n",
    "train_accuracies = []\n",
    "val_accuracies = []\n",
    "\n",
    "for epoch in range(epochs):\n",
    "    model.train()\n",
    "    running_loss = 0.0\n",
    "    correct_train = 0\n",
    "    total_train = 0\n",
    "\n",
    "    train_loop = tqdm(train_loader, desc=f\"Epoch [{epoch + 1}/{epochs}]\")\n",
    "    for images, labels in train_loop:\n",
    "        images, labels = images.to(device), labels.to(device)\n",
    "        optimizer.zero_grad()\n",
    "        outputs = model(images)\n",
    "        loss = criterion(outputs, labels)\n",
    "        loss.backward()\n",
    "        torch.nn.utils.clip_grad_norm_(model.parameters(), max_norm=1.0)\n",
    "        optimizer.step()\n",
    "\n",
    "        running_loss += loss.item()\n",
    "        _, predicted = torch.max(outputs.data, 1)\n",
    "        total_train += labels.size(0)\n",
    "        correct_train += (predicted == labels).sum().item()\n",
    "\n",
    "        train_loop.set_postfix(loss=loss.item())\n",
    "\n",
    "    avg_train_loss = running_loss / len(train_loader)\n",
    "    train_accuracy = correct_train / total_train\n",
    "\n",
    "    model.eval()\n",
    "    val_loss = 0.0\n",
    "    correct_val = 0\n",
    "    total_val = 0\n",
    "\n",
    "    with torch.no_grad():\n",
    "        val_loop = tqdm(val_loader, desc=\"Validation\")\n",
    "        for images, labels in val_loop:\n",
    "            images, labels = images.to(device), labels.to(device)\n",
    "            outputs = model(images)\n",
    "            loss = criterion(outputs, labels)\n",
    "\n",
    "            val_loss += loss.item()\n",
    "            _, predicted = torch.max(outputs.data, 1)\n",
    "            total_val += labels.size(0)\n",
    "            correct_val += (predicted == labels).sum().item()\n",
    "\n",
    "            val_loop.set_postfix(loss=loss.item())\n",
    "\n",
    "    avg_val_loss = val_loss / len(val_loader)\n",
    "    val_accuracy = correct_val / total_val\n",
    "\n",
    "    scheduler.step(avg_val_loss)\n",
    "\n",
    "    train_losses.append(avg_train_loss)\n",
    "    val_losses.append(avg_val_loss)\n",
    "    train_accuracies.append(train_accuracy)\n",
    "    val_accuracies.append(val_accuracy)\n",
    "\n",
    "    if avg_val_loss < best_val_loss:\n",
    "        best_val_loss = avg_val_loss\n",
    "        patience_counter = 0\n",
    "        torch.save({\n",
    "            'epoch': epoch,\n",
    "            'model_state_dict': model.state_dict(),\n",
    "            'optimizer_state_dict': optimizer.state_dict(),\n",
    "            'val_loss': best_val_loss,\n",
    "        }, 'best_model.pth')\n",
    "    else:\n",
    "        patience_counter += 1\n",
    "        if patience_counter >= patience:\n",
    "            break"
   ],
   "id": "4ec20b6a30603b39",
   "outputs": [
    {
     "name": "stderr",
     "output_type": "stream",
     "text": [
      "Epoch [1/50]: 100%|██████████| 1518/1518 [00:36<00:00, 42.13it/s, loss=2.35]\n",
      "Validation: 100%|██████████| 304/304 [00:18<00:00, 16.84it/s, loss=2.15]\n",
      "Epoch [2/50]: 100%|██████████| 1518/1518 [00:34<00:00, 44.22it/s, loss=2]   \n",
      "Validation: 100%|██████████| 304/304 [00:17<00:00, 17.05it/s, loss=2.1] \n",
      "Epoch [3/50]: 100%|██████████| 1518/1518 [00:34<00:00, 43.91it/s, loss=2.25]\n",
      "Validation: 100%|██████████| 304/304 [00:17<00:00, 17.33it/s, loss=2.09]\n",
      "Epoch [4/50]: 100%|██████████| 1518/1518 [00:35<00:00, 43.36it/s, loss=1.62]\n",
      "Validation: 100%|██████████| 304/304 [00:18<00:00, 16.83it/s, loss=1.95]\n",
      "Epoch [5/50]: 100%|██████████| 1518/1518 [00:35<00:00, 42.22it/s, loss=1.46]\n",
      "Validation: 100%|██████████| 304/304 [00:17<00:00, 17.04it/s, loss=2.21]\n",
      "Epoch [6/50]: 100%|██████████| 1518/1518 [00:35<00:00, 43.21it/s, loss=1.69]\n",
      "Validation: 100%|██████████| 304/304 [00:17<00:00, 17.06it/s, loss=1.88]\n",
      "Epoch [7/50]: 100%|██████████| 1518/1518 [00:34<00:00, 43.43it/s, loss=2.23]\n",
      "Validation: 100%|██████████| 304/304 [00:17<00:00, 17.18it/s, loss=1.94]\n",
      "Epoch [8/50]: 100%|██████████| 1518/1518 [00:34<00:00, 43.38it/s, loss=1.3] \n",
      "Validation: 100%|██████████| 304/304 [00:17<00:00, 17.41it/s, loss=2.04]\n",
      "Epoch [9/50]: 100%|██████████| 1518/1518 [00:35<00:00, 42.54it/s, loss=1.62]\n",
      "Validation: 100%|██████████| 304/304 [00:18<00:00, 16.70it/s, loss=1.98]\n",
      "Epoch [10/50]: 100%|██████████| 1518/1518 [00:35<00:00, 42.46it/s, loss=1.92]\n",
      "Validation: 100%|██████████| 304/304 [00:17<00:00, 16.95it/s, loss=1.91]\n",
      "Epoch [11/50]: 100%|██████████| 1518/1518 [00:35<00:00, 43.26it/s, loss=1.63]\n",
      "Validation: 100%|██████████| 304/304 [00:17<00:00, 17.00it/s, loss=2.1] \n",
      "Epoch [12/50]: 100%|██████████| 1518/1518 [00:35<00:00, 42.51it/s, loss=1.96]\n",
      "Validation: 100%|██████████| 304/304 [00:17<00:00, 17.13it/s, loss=2.32]\n",
      "Epoch [13/50]: 100%|██████████| 1518/1518 [00:35<00:00, 43.24it/s, loss=1.85] \n",
      "Validation: 100%|██████████| 304/304 [00:18<00:00, 16.82it/s, loss=2.02]\n",
      "Epoch [14/50]: 100%|██████████| 1518/1518 [00:35<00:00, 42.30it/s, loss=1.78] \n",
      "Validation: 100%|██████████| 304/304 [00:17<00:00, 17.02it/s, loss=2.24]\n",
      "Epoch [15/50]: 100%|██████████| 1518/1518 [00:35<00:00, 43.03it/s, loss=1.57] \n",
      "Validation: 100%|██████████| 304/304 [00:17<00:00, 17.35it/s, loss=1.85]\n",
      "Epoch [16/50]: 100%|██████████| 1518/1518 [00:35<00:00, 43.16it/s, loss=1.27] \n",
      "Validation: 100%|██████████| 304/304 [00:17<00:00, 17.23it/s, loss=2.08] \n",
      "Epoch [17/50]: 100%|██████████| 1518/1518 [00:35<00:00, 43.23it/s, loss=1.68] \n",
      "Validation: 100%|██████████| 304/304 [00:17<00:00, 17.64it/s, loss=2.07] \n",
      "Epoch [18/50]: 100%|██████████| 1518/1518 [00:35<00:00, 42.61it/s, loss=1.37] \n",
      "Validation: 100%|██████████| 304/304 [00:17<00:00, 16.97it/s, loss=1.83] \n",
      "Epoch [19/50]: 100%|██████████| 1518/1518 [00:35<00:00, 42.43it/s, loss=1.52] \n",
      "Validation: 100%|██████████| 304/304 [00:18<00:00, 16.88it/s, loss=2.52] \n",
      "Epoch [20/50]: 100%|██████████| 1518/1518 [00:35<00:00, 43.13it/s, loss=1.41] \n",
      "Validation: 100%|██████████| 304/304 [00:18<00:00, 16.70it/s, loss=2.15] \n",
      "Epoch [21/50]: 100%|██████████| 1518/1518 [00:35<00:00, 42.42it/s, loss=1.44] \n",
      "Validation: 100%|██████████| 304/304 [00:17<00:00, 17.05it/s, loss=1.97] \n",
      "Epoch [22/50]: 100%|██████████| 1518/1518 [00:35<00:00, 43.20it/s, loss=1.03] \n",
      "Validation: 100%|██████████| 304/304 [00:17<00:00, 16.94it/s, loss=2.03] \n",
      "Epoch [23/50]: 100%|██████████| 1518/1518 [00:35<00:00, 42.83it/s, loss=1.49] \n",
      "Validation: 100%|██████████| 304/304 [00:11<00:00, 27.26it/s, loss=2.38]  \n"
     ]
    }
   ],
   "execution_count": 26
  },
  {
   "metadata": {
    "ExecuteTime": {
     "end_time": "2025-01-14T23:26:39.592048Z",
     "start_time": "2025-01-14T23:26:39.404770Z"
    }
   },
   "cell_type": "code",
   "source": [
    "# Plots of the training part.\n",
    "plt.figure(figsize=(12, 4))\n",
    "plt.subplot(1, 2, 1)\n",
    "plt.plot(train_losses, label='Train Loss')\n",
    "plt.plot(val_losses, label='Validation Loss')\n",
    "plt.title('Loss')\n",
    "plt.xlabel('Epoch')\n",
    "plt.ylabel('Loss')\n",
    "plt.legend()\n",
    "\n",
    "plt.subplot(1, 2, 2)\n",
    "plt.plot(train_accuracies, label='Train Accuracy')\n",
    "plt.plot(val_accuracies, label='Validation Accuracy')\n",
    "plt.title('Accuracy')\n",
    "plt.xlabel('Epoch')\n",
    "plt.ylabel('Accuracy')\n",
    "plt.legend()\n",
    "plt.tight_layout()\n",
    "plt.show()"
   ],
   "id": "7979da3649dbcb67",
   "outputs": [
    {
     "data": {
      "text/plain": [
       "<Figure size 1200x400 with 2 Axes>"
      ],
      "image/png": "[encoded data removed]"
     },
     "metadata": {},
     "output_type": "display_data"
    }
   ],
   "execution_count": 27
  },
  {
   "metadata": {
    "ExecuteTime": {
     "end_time": "2025-01-14T23:26:49.765489Z",
     "start_time": "2025-01-14T23:26:39.602735Z"
    }
   },
   "cell_type": "code",
   "source": [
    "# Model Testing with the best model that we received in the training process\n",
    "checkpoint = torch.load('best_model.pth')\n",
    "model.load_state_dict(checkpoint['model_state_dict'])\n",
    "model.eval()\n",
    "\n",
    "all_predictions = []\n",
    "all_labels = []\n",
    "\n",
    "with torch.no_grad():\n",
    "    for images, labels in test_loader:\n",
    "        images = images.to(device)\n",
    "        labels = labels.to(device)\n",
    "        outputs = model(images)\n",
    "        _, predicted = torch.max(outputs.data, 1)\n",
    "        all_predictions.extend(predicted.cpu().numpy())\n",
    "        all_labels.extend(labels.cpu().numpy())\n",
    "\n",
    "all_predictions = np.array(all_predictions)\n",
    "all_labels = np.array(all_labels)\n",
    "\n",
    "accuracy = accuracy_score(all_labels, all_predictions)\n",
    "recall_per_class = recall_score(all_labels, all_predictions, average=None)\n",
    "precision_per_class = precision_score(all_labels, all_predictions, average=None)\n",
    "macro_recall = recall_score(all_labels, all_predictions, average='macro')\n",
    "macro_precision = precision_score(all_labels, all_predictions, average='macro')"
   ],
   "id": "83ae817ab1edeb95",
   "outputs": [
    {
     "name": "stderr",
     "output_type": "stream",
     "text": [
      "C:\\Users\\yozev\\AppData\\Local\\Temp\\ipykernel_10972\\857053728.py:2: FutureWarning: You are using `torch.load` with `weights_only=False` (the current default value), which uses the default pickle module implicitly. It is possible to construct malicious pickle data which will execute arbitrary code during unpickling (See https://github.com/pytorch/pytorch/blob/main/SECURITY.md#untrusted-models for more details). In a future release, the default value for `weights_only` will be flipped to `True`. This limits the functions that could be executed during unpickling. Arbitrary objects will no longer be allowed to be loaded via this mode unless they are explicitly allowlisted by the user via `torch.serialization.add_safe_globals`. We recommend you start setting `weights_only=True` for any use case where you don't have full control of the loaded file. Please open an issue on GitHub for any issues related to this experimental feature.\n",
      "  checkpoint = torch.load('best_model.pth')\n"
     ]
    }
   ],
   "execution_count": 28
  },
  {
   "metadata": {
    "ExecuteTime": {
     "end_time": "2025-01-14T23:28:06.958703Z",
     "start_time": "2025-01-14T23:28:06.953494Z"
    }
   },
   "cell_type": "code",
   "source": [
    "# rint Final Metrics\n",
    "print(f\"Test Set Results:\")\n",
    "print(f\"Accuracy: {accuracy:.4f}\")\n",
    "print(f\"Macro-Recall: {macro_recall:.4f}\")\n",
    "print(f\"Macro-Precision: {macro_precision:.4f}\")\n",
    "for i, class_name in enumerate(full_dataset.classes):\n",
    "    print(f\"\\nClass {class_name}:\")\n",
    "    print(f\"Recall: {recall_per_class[i]:.4f}\")\n",
    "    print(f\"Precision: {precision_per_class[i]:.4f}\")"
   ],
   "id": "71e3bbece75ddccd",
   "outputs": [
    {
     "name": "stdout",
     "output_type": "stream",
     "text": [
      "Test Set Results:\n",
      "Accuracy: 0.4739\n",
      "Macro-Recall: 0.4764\n",
      "Macro-Precision: 0.4766\n",
      "\n",
      "Class Abstract_Expressionism:\n",
      "Recall: 0.7163\n",
      "Precision: 0.5337\n",
      "\n",
      "Class Art_Nouveau_Modern:\n",
      "Recall: 0.2996\n",
      "Precision: 0.5580\n",
      "\n",
      "Class Baroque:\n",
      "Recall: 0.5720\n",
      "Precision: 0.5451\n",
      "\n",
      "Class Cubism:\n",
      "Recall: 0.6977\n",
      "Precision: 0.5272\n",
      "\n",
      "Class Expressionism:\n",
      "Recall: 0.2432\n",
      "Precision: 0.2778\n",
      "\n",
      "Class Impressionism:\n",
      "Recall: 0.4274\n",
      "Precision: 0.4435\n",
      "\n",
      "Class Naive_Art_Primitivism:\n",
      "Recall: 0.3969\n",
      "Precision: 0.5000\n",
      "\n",
      "Class Northern_Renaissance:\n",
      "Recall: 0.7269\n",
      "Precision: 0.5231\n",
      "\n",
      "Class Post_Impressionism:\n",
      "Recall: 0.3280\n",
      "Precision: 0.3872\n",
      "\n",
      "Class Realism:\n",
      "Recall: 0.4652\n",
      "Precision: 0.3503\n",
      "\n",
      "Class Rococo:\n",
      "Recall: 0.6021\n",
      "Precision: 0.6506\n",
      "\n",
      "Class Romanticism:\n",
      "Recall: 0.3379\n",
      "Precision: 0.5309\n",
      "\n",
      "Class Symbolism:\n",
      "Recall: 0.3802\n",
      "Precision: 0.3687\n"
     ]
    }
   ],
   "execution_count": 31
  },
  {
   "metadata": {
    "ExecuteTime": {
     "end_time": "2025-01-14T23:26:50.147726Z",
     "start_time": "2025-01-14T23:26:50.129981Z"
    }
   },
   "cell_type": "code",
   "source": [
    "from sklearn.metrics import classification_report\n",
    "import pandas as pd\n",
    "\n",
    "# Generate the classification report as a dictionary\n",
    "report_dict = classification_report(all_labels, all_predictions, target_names=full_dataset.classes, zero_division=0, output_dict=True)\n",
    "\n",
    "# Convert the classification report dictionary to a DataFrame\n",
    "report_df = pd.DataFrame(report_dict).transpose()\n",
    "\n",
    "# Display the classification report as a table\n",
    "print(\"Classification Report:\")\n",
    "print(report_df)"
   ],
   "id": "1f55f981019f1e8d",
   "outputs": [
    {
     "name": "stdout",
     "output_type": "stream",
     "text": [
      "Classification Report:\n",
      "                        precision    recall  f1-score      support\n",
      "Abstract_Expressionism   0.533733  0.716298  0.611684   497.000000\n",
      "Art_Nouveau_Modern       0.557971  0.299611  0.389873   514.000000\n",
      "Baroque                  0.545113  0.571992  0.558229   507.000000\n",
      "Cubism                   0.527157  0.697674  0.600546   473.000000\n",
      "Expressionism            0.277778  0.243191  0.259336   514.000000\n",
      "Impressionism            0.443515  0.427419  0.435318   496.000000\n",
      "Naive_Art_Primitivism    0.500000  0.396887  0.442516   514.000000\n",
      "Northern_Renaissance     0.523121  0.726908  0.608403   498.000000\n",
      "Post_Impressionism       0.387173  0.327968  0.355120   497.000000\n",
      "Realism                  0.350299  0.465209  0.399658   503.000000\n",
      "Rococo                   0.650575  0.602128  0.625414   470.000000\n",
      "Romanticism              0.530864  0.337917  0.412965   509.000000\n",
      "Symbolism                0.368737  0.380165  0.374364   484.000000\n",
      "accuracy                 0.473904  0.473904  0.473904     0.473904\n",
      "macro avg                0.476618  0.476413  0.467187  6476.000000\n",
      "weighted avg             0.475777  0.473904  0.465410  6476.000000\n"
     ]
    }
   ],
   "execution_count": 30
  }
 ],
 "metadata": {
  "kernelspec": {
   "display_name": "Python 3",
   "language": "python",
   "name": "python3"
  },
  "language_info": {
   "codemirror_mode": {
    "name": "ipython",
    "version": 2
   },
   "file_extension": ".py",
   "mimetype": "text/x-python",
   "name": "python",
   "nbconvert_exporter": "python",
   "pygments_lexer": "ipython2",
   "version": "2.7.6"
  }
 },
 "nbformat": 4,
 "nbformat_minor": 5
}

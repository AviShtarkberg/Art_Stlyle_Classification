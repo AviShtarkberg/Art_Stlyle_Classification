{
 "cells": [
  {
   "metadata": {
    "ExecuteTime": {
     "end_time": "2025-01-16T19:21:39.840298Z",
     "start_time": "2025-01-16T19:21:39.837203Z"
    }
   },
   "cell_type": "code",
   "source": [
    "import os\n",
    "import numpy as np\n",
    "import pandas as pd\n",
    "import matplotlib.pyplot as plt\n",
    "\n",
    "import torch\n",
    "import torch.nn as nn\n",
    "import torch.optim as optim\n",
    "from torch.utils.data import DataLoader, Dataset, random_split\n",
    "import torchvision.transforms as transforms\n",
    "from PIL import Image\n",
    "\n",
    "from sklearn.metrics import (\n",
    "    accuracy_score, precision_score, recall_score, classification_report\n",
    ")\n",
    "\n",
    "from tqdm import tqdm\n"
   ],
   "id": "85e1d1415043d0bf",
   "outputs": [],
   "execution_count": 5
  },
  {
   "metadata": {
    "ExecuteTime": {
     "end_time": "2025-01-16T19:21:41.785265Z",
     "start_time": "2025-01-16T19:21:39.844528Z"
    }
   },
   "cell_type": "code",
   "source": [
    "class WikiArtDataset(Dataset):\n",
    "    def __init__(self, root_dir, transform=None):\n",
    "        self.root_dir = root_dir\n",
    "        self.transform = transform\n",
    "        self.classes = [\n",
    "            d for d in os.listdir(root_dir) if os.path.isdir(os.path.join(root_dir, d))\n",
    "        ]\n",
    "        self.classes.sort() \n",
    "        self.files = []\n",
    "        for label, cls in enumerate(self.classes):\n",
    "            class_dir = os.path.join(root_dir, cls)\n",
    "            for file_name in os.listdir(class_dir):\n",
    "                file_path = os.path.join(class_dir, file_name)\n",
    "                if os.path.isfile(file_path):\n",
    "                    self.files.append((file_path, label))\n",
    "\n",
    "    def __len__(self):\n",
    "        return len(self.files)\n",
    "\n",
    "    def __getitem__(self, idx):\n",
    "        file_path, label = self.files[idx]\n",
    "        image = Image.open(file_path).convert(\"RGB\")\n",
    "        if self.transform:\n",
    "            image = self.transform(image)\n",
    "        return image, label\n",
    "\n",
    "\n",
    "### Paths and Transforms\n",
    "data_path = r\"C:\\Users\\yozev\\OneDrive\\Desktop\\artFiltered\"\n",
    "\n",
    "transform_train = transforms.Compose([\n",
    "    transforms.Resize((224, 224)),\n",
    "    transforms.ToTensor(),\n",
    "    transforms.Normalize(mean=[0.485, 0.456, 0.406],\n",
    "                         std=[0.229, 0.224, 0.225])\n",
    "])\n",
    "transform_test = transforms.Compose([\n",
    "    transforms.Resize((224, 224)),\n",
    "    transforms.ToTensor(),\n",
    "    transforms.Normalize(mean=[0.485, 0.456, 0.406],\n",
    "                         std=[0.229, 0.224, 0.225])\n",
    "])\n",
    "\n",
    "full_dataset = WikiArtDataset(root_dir=data_path, transform=transform_train)\n",
    "\n",
    "print(\"Loading dataset...\")\n",
    "print(f\"Total images: {len(full_dataset)}\")\n",
    "\n",
    "# Train/Val/Test split\n",
    "train_ratio, val_ratio, test_ratio = 0.8, 0.1, 0.1\n",
    "train_size = int(train_ratio * len(full_dataset))\n",
    "val_size = int(val_ratio * len(full_dataset))\n",
    "test_size = len(full_dataset) - train_size - val_size\n",
    "\n",
    "train_dataset, val_dataset, test_dataset = random_split(\n",
    "    full_dataset,\n",
    "    [train_size, val_size, test_size]\n",
    ")\n",
    "\n",
    "val_dataset.dataset.transform = transform_test\n",
    "test_dataset.dataset.transform = transform_test\n",
    "\n",
    "# Dataloaders\n",
    "batch_size = 32\n",
    "\n",
    "train_loader = DataLoader(train_dataset, batch_size=batch_size, shuffle=True,  num_workers=0)\n",
    "val_loader   = DataLoader(val_dataset,   batch_size=batch_size, shuffle=False, num_workers=0)\n",
    "test_loader  = DataLoader(test_dataset,  batch_size=batch_size, shuffle=False, num_workers=0)\n",
    "\n",
    "print(f\"Train size: {len(train_dataset)}, Val size: {len(val_dataset)}, Test size: {len(test_dataset)}\")\n",
    "\n",
    "# Number of classes\n",
    "num_classes = len(full_dataset.classes)\n",
    "\n",
    "print(f\"Number of Classes: {num_classes}\")\n",
    "device = \"cuda\" if torch.cuda.is_available() else \"cpu\"\n",
    "print(f\"Using device: {device}\")\n"
   ],
   "id": "eba029905a97051a",
   "outputs": [
    {
     "name": "stdout",
     "output_type": "stream",
     "text": [
      "Loading dataset...\n",
      "Total images: 64751\n",
      "Train size: 51800, Val size: 6475, Test size: 6476\n",
      "Number of Classes: 13\n",
      "Using device: cuda\n"
     ]
    }
   ],
   "execution_count": 6
  },
  {
   "metadata": {
    "ExecuteTime": {
     "end_time": "2025-01-16T19:21:44.185741Z",
     "start_time": "2025-01-16T19:21:41.800286Z"
    }
   },
   "cell_type": "code",
   "source": [
    "input_dim = 224 * 224 * 3\n",
    "\n",
    "class DeepArtClassifier(nn.Module):\n",
    "    def __init__(self, input_dim, output_dim):\n",
    "        super(DeepArtClassifier, self).__init__()\n",
    "\n",
    "        self.hidden1 = nn.Linear(input_dim, 2048)\n",
    "        self.bn1     = nn.BatchNorm1d(2048)\n",
    "\n",
    "        self.hidden2 = nn.Linear(2048, 1536)\n",
    "        self.bn2     = nn.BatchNorm1d(1536)\n",
    "\n",
    "        self.hidden3 = nn.Linear(1536, 1024)\n",
    "        self.bn3     = nn.BatchNorm1d(1024)\n",
    "\n",
    "        self.hidden4 = nn.Linear(1024, 768)\n",
    "        self.bn4     = nn.BatchNorm1d(768)\n",
    "\n",
    "        self.hidden5 = nn.Linear(768, 512)\n",
    "        self.bn5     = nn.BatchNorm1d(512)\n",
    "\n",
    "        self.hidden6 = nn.Linear(512, 384)\n",
    "        self.bn6     = nn.BatchNorm1d(384)\n",
    "\n",
    "        self.hidden7 = nn.Linear(384, 256)\n",
    "        self.bn7     = nn.BatchNorm1d(256)\n",
    "\n",
    "        # Final output\n",
    "        self.output = nn.Linear(256, output_dim)\n",
    "\n",
    "        self.dropout = nn.Dropout(p=0.3)\n",
    "\n",
    "    def forward(self, x):\n",
    "        x = torch.relu(self.bn1(self.hidden1(x)))\n",
    "        x = self.dropout(x)\n",
    "\n",
    "        x = torch.relu(self.bn2(self.hidden2(x)))\n",
    "        x = self.dropout(x)\n",
    "\n",
    "        x = torch.relu(self.bn3(self.hidden3(x)))\n",
    "        x = self.dropout(x)\n",
    "\n",
    "        x = torch.relu(self.bn4(self.hidden4(x)))\n",
    "        x = self.dropout(x)\n",
    "\n",
    "        x = torch.relu(self.bn5(self.hidden5(x)))\n",
    "        x = self.dropout(x)\n",
    "\n",
    "        x = torch.relu(self.bn6(self.hidden6(x)))\n",
    "        x = self.dropout(x)\n",
    "\n",
    "        x = torch.relu(self.bn7(self.hidden7(x)))\n",
    "        x = self.dropout(x)\n",
    "\n",
    "        logits = self.output(x)\n",
    "        return logits\n",
    "\n",
    "model = DeepArtClassifier(input_dim, num_classes).to(device)\n",
    "\n",
    "criterion = nn.CrossEntropyLoss()\n",
    "optimizer = optim.Adam(model.parameters(), lr=0.001)\n"
   ],
   "id": "6fd413bec00158f7",
   "outputs": [],
   "execution_count": 7
  },
  {
   "metadata": {
    "ExecuteTime": {
     "end_time": "2025-01-16T23:34:10.029775Z",
     "start_time": "2025-01-16T19:21:44.201769Z"
    }
   },
   "cell_type": "code",
   "source": [
    "import copy\n",
    "\n",
    "epochs = 30\n",
    "patience = 5\n",
    "best_val_loss = float('inf')\n",
    "epochs_no_improve = 0\n",
    "\n",
    "best_model_wts = copy.deepcopy(model.state_dict())\n",
    "\n",
    "train_losses = []\n",
    "val_losses = []\n",
    "val_accuracies = []\n",
    "\n",
    "print(\"Starting training...\\n\")\n",
    "for epoch in range(1, epochs + 1):\n",
    "    print(f\"Epoch {epoch}/{epochs}\")\n",
    "    print(\"-\" * 40)\n",
    "\n",
    "    # TRAINING LOOP \n",
    "    model.train()\n",
    "    running_train_loss = 0.0\n",
    "\n",
    "    pbar_train = tqdm(enumerate(train_loader), total=len(train_loader), leave=False)\n",
    "    for batch_idx, (images, labels) in pbar_train:\n",
    "        images = images.view(images.size(0), -1).to(device)\n",
    "        labels = labels.to(device)\n",
    "\n",
    "        optimizer.zero_grad()\n",
    "        outputs = model(images)\n",
    "        loss = criterion(outputs, labels)\n",
    "        loss.backward()\n",
    "        optimizer.step()\n",
    "\n",
    "        running_train_loss += loss.item() * images.size(0)\n",
    "        avg_loss = running_train_loss / ((batch_idx + 1) * train_loader.batch_size)\n",
    "        pbar_train.set_postfix({\"train_loss\": f\"{avg_loss:.4f}\"})\n",
    "\n",
    "    epoch_train_loss = running_train_loss / len(train_loader.dataset)\n",
    "    train_losses.append(epoch_train_loss)\n",
    "\n",
    "    #VALIDATION LOOP\n",
    "    model.eval()\n",
    "    running_val_loss = 0.0\n",
    "    correct = 0\n",
    "    total = 0\n",
    "\n",
    "    with torch.no_grad():\n",
    "        for images, labels in val_loader:\n",
    "            images = images.view(images.size(0), -1).to(device)\n",
    "            labels = labels.to(device)\n",
    "\n",
    "            outputs = model(images)\n",
    "            loss = criterion(outputs, labels)\n",
    "            running_val_loss += loss.item() * images.size(0)\n",
    "\n",
    "            _, predicted = torch.max(outputs, 1)\n",
    "            correct += (predicted == labels).sum().item()\n",
    "            total += labels.size(0)\n",
    "\n",
    "    epoch_val_loss = running_val_loss / len(val_loader.dataset)\n",
    "    epoch_val_acc  = correct / total\n",
    "    val_losses.append(epoch_val_loss)\n",
    "    val_accuracies.append(epoch_val_acc)\n",
    "\n",
    "    print(f\"Train Loss: {epoch_train_loss:.4f} | Val Loss: {epoch_val_loss:.4f} | Val Acc: {epoch_val_acc:.4f}\")\n",
    "\n",
    "    # Early stopping check\n",
    "    if epoch_val_loss < best_val_loss:\n",
    "        best_val_loss = epoch_val_loss\n",
    "        best_model_wts = copy.deepcopy(model.state_dict())\n",
    "        epochs_no_improve = 0\n",
    "    else:\n",
    "        epochs_no_improve += 1\n",
    "        if epochs_no_improve >= patience:\n",
    "            print(\"Early stopping triggered (no improvement in validation loss).\")\n",
    "            break\n"
   ],
   "id": "8e39fd167d7a8799",
   "outputs": [
    {
     "name": "stdout",
     "output_type": "stream",
     "text": [
      "Starting training...\n",
      "\n",
      "Epoch 1/30\n",
      "----------------------------------------\n"
     ]
    },
    {
     "name": "stderr",
     "output_type": "stream",
     "text": [
      "                                                                      \r"
     ]
    },
    {
     "name": "stdout",
     "output_type": "stream",
     "text": [
      "Train Loss: 2.4465 | Val Loss: 2.3649 | Val Acc: 0.1816\n",
      "Epoch 2/30\n",
      "----------------------------------------\n"
     ]
    },
    {
     "name": "stderr",
     "output_type": "stream",
     "text": [
      "                                                                      \r"
     ]
    },
    {
     "name": "stdout",
     "output_type": "stream",
     "text": [
      "Train Loss: 2.3737 | Val Loss: 2.3445 | Val Acc: 0.1951\n",
      "Epoch 3/30\n",
      "----------------------------------------\n"
     ]
    },
    {
     "name": "stderr",
     "output_type": "stream",
     "text": [
      "                                                                      \r"
     ]
    },
    {
     "name": "stdout",
     "output_type": "stream",
     "text": [
      "Train Loss: 2.3428 | Val Loss: 2.3054 | Val Acc: 0.2091\n",
      "Epoch 4/30\n",
      "----------------------------------------\n"
     ]
    },
    {
     "name": "stderr",
     "output_type": "stream",
     "text": [
      "                                                                      \r"
     ]
    },
    {
     "name": "stdout",
     "output_type": "stream",
     "text": [
      "Train Loss: 2.3137 | Val Loss: 2.2906 | Val Acc: 0.2133\n",
      "Epoch 5/30\n",
      "----------------------------------------\n"
     ]
    },
    {
     "name": "stderr",
     "output_type": "stream",
     "text": [
      "                                                                      \r"
     ]
    },
    {
     "name": "stdout",
     "output_type": "stream",
     "text": [
      "Train Loss: 2.2876 | Val Loss: 2.2620 | Val Acc: 0.2300\n",
      "Epoch 6/30\n",
      "----------------------------------------\n"
     ]
    },
    {
     "name": "stderr",
     "output_type": "stream",
     "text": [
      "                                                                      \r"
     ]
    },
    {
     "name": "stdout",
     "output_type": "stream",
     "text": [
      "Train Loss: 2.2580 | Val Loss: 2.2392 | Val Acc: 0.2361\n",
      "Epoch 7/30\n",
      "----------------------------------------\n"
     ]
    },
    {
     "name": "stderr",
     "output_type": "stream",
     "text": [
      "                                                                      \r"
     ]
    },
    {
     "name": "stdout",
     "output_type": "stream",
     "text": [
      "Train Loss: 2.2233 | Val Loss: 2.2178 | Val Acc: 0.2440\n",
      "Epoch 8/30\n",
      "----------------------------------------\n"
     ]
    },
    {
     "name": "stderr",
     "output_type": "stream",
     "text": [
      "                                                                      \r"
     ]
    },
    {
     "name": "stdout",
     "output_type": "stream",
     "text": [
      "Train Loss: 2.1884 | Val Loss: 2.1859 | Val Acc: 0.2565\n",
      "Epoch 9/30\n",
      "----------------------------------------\n"
     ]
    },
    {
     "name": "stderr",
     "output_type": "stream",
     "text": [
      "                                                                      \r"
     ]
    },
    {
     "name": "stdout",
     "output_type": "stream",
     "text": [
      "Train Loss: 2.1542 | Val Loss: 2.1750 | Val Acc: 0.2593\n",
      "Epoch 10/30\n",
      "----------------------------------------\n"
     ]
    },
    {
     "name": "stderr",
     "output_type": "stream",
     "text": [
      "                                                                      \r"
     ]
    },
    {
     "name": "stdout",
     "output_type": "stream",
     "text": [
      "Train Loss: 2.1089 | Val Loss: 2.1475 | Val Acc: 0.2709\n",
      "Epoch 11/30\n",
      "----------------------------------------\n"
     ]
    },
    {
     "name": "stderr",
     "output_type": "stream",
     "text": [
      "                                                                      \r"
     ]
    },
    {
     "name": "stdout",
     "output_type": "stream",
     "text": [
      "Train Loss: 2.0657 | Val Loss: 2.1450 | Val Acc: 0.2735\n",
      "Epoch 12/30\n",
      "----------------------------------------\n"
     ]
    },
    {
     "name": "stderr",
     "output_type": "stream",
     "text": [
      "                                                                      \r"
     ]
    },
    {
     "name": "stdout",
     "output_type": "stream",
     "text": [
      "Train Loss: 2.0251 | Val Loss: 2.1199 | Val Acc: 0.2871\n",
      "Epoch 13/30\n",
      "----------------------------------------\n"
     ]
    },
    {
     "name": "stderr",
     "output_type": "stream",
     "text": [
      "                                                                      \r"
     ]
    },
    {
     "name": "stdout",
     "output_type": "stream",
     "text": [
      "Train Loss: 1.9810 | Val Loss: 2.1153 | Val Acc: 0.2859\n",
      "Epoch 14/30\n",
      "----------------------------------------\n"
     ]
    },
    {
     "name": "stderr",
     "output_type": "stream",
     "text": [
      "                                                                      \r"
     ]
    },
    {
     "name": "stdout",
     "output_type": "stream",
     "text": [
      "Train Loss: 1.9424 | Val Loss: 2.1294 | Val Acc: 0.2842\n",
      "Epoch 15/30\n",
      "----------------------------------------\n"
     ]
    },
    {
     "name": "stderr",
     "output_type": "stream",
     "text": [
      "                                                                      \r"
     ]
    },
    {
     "name": "stdout",
     "output_type": "stream",
     "text": [
      "Train Loss: 1.8906 | Val Loss: 2.1070 | Val Acc: 0.2987\n",
      "Epoch 16/30\n",
      "----------------------------------------\n"
     ]
    },
    {
     "name": "stderr",
     "output_type": "stream",
     "text": [
      "                                                                      \r"
     ]
    },
    {
     "name": "stdout",
     "output_type": "stream",
     "text": [
      "Train Loss: 1.8487 | Val Loss: 2.0960 | Val Acc: 0.3001\n",
      "Epoch 17/30\n",
      "----------------------------------------\n"
     ]
    },
    {
     "name": "stderr",
     "output_type": "stream",
     "text": [
      "                                                                      \r"
     ]
    },
    {
     "name": "stdout",
     "output_type": "stream",
     "text": [
      "Train Loss: 1.8094 | Val Loss: 2.1076 | Val Acc: 0.3030\n",
      "Epoch 18/30\n",
      "----------------------------------------\n"
     ]
    },
    {
     "name": "stderr",
     "output_type": "stream",
     "text": [
      "                                                                      \r"
     ]
    },
    {
     "name": "stdout",
     "output_type": "stream",
     "text": [
      "Train Loss: 1.7690 | Val Loss: 2.0862 | Val Acc: 0.3072\n",
      "Epoch 19/30\n",
      "----------------------------------------\n"
     ]
    },
    {
     "name": "stderr",
     "output_type": "stream",
     "text": [
      "                                                                      \r"
     ]
    },
    {
     "name": "stdout",
     "output_type": "stream",
     "text": [
      "Train Loss: 1.7215 | Val Loss: 2.1034 | Val Acc: 0.3103\n",
      "Epoch 20/30\n",
      "----------------------------------------\n"
     ]
    },
    {
     "name": "stderr",
     "output_type": "stream",
     "text": [
      "                                                                      \r"
     ]
    },
    {
     "name": "stdout",
     "output_type": "stream",
     "text": [
      "Train Loss: 1.6807 | Val Loss: 2.1178 | Val Acc: 0.3137\n",
      "Epoch 21/30\n",
      "----------------------------------------\n"
     ]
    },
    {
     "name": "stderr",
     "output_type": "stream",
     "text": [
      "                                                                      \r"
     ]
    },
    {
     "name": "stdout",
     "output_type": "stream",
     "text": [
      "Train Loss: 1.6479 | Val Loss: 2.0939 | Val Acc: 0.3149\n",
      "Epoch 22/30\n",
      "----------------------------------------\n"
     ]
    },
    {
     "name": "stderr",
     "output_type": "stream",
     "text": [
      "                                                                      \r"
     ]
    },
    {
     "name": "stdout",
     "output_type": "stream",
     "text": [
      "Train Loss: 1.6038 | Val Loss: 2.0958 | Val Acc: 0.3236\n",
      "Epoch 23/30\n",
      "----------------------------------------\n"
     ]
    },
    {
     "name": "stderr",
     "output_type": "stream",
     "text": [
      "                                                                      \r"
     ]
    },
    {
     "name": "stdout",
     "output_type": "stream",
     "text": [
      "Train Loss: 1.5608 | Val Loss: 2.1253 | Val Acc: 0.3157\n",
      "Early stopping triggered (no improvement in validation loss).\n"
     ]
    }
   ],
   "execution_count": 8
  },
  {
   "metadata": {
    "ExecuteTime": {
     "end_time": "2025-01-16T23:34:14.605935Z",
     "start_time": "2025-01-16T23:34:11.008893Z"
    }
   },
   "cell_type": "code",
   "source": [
    "# Restore best weights (lowest val loss)\n",
    "model.load_state_dict(best_model_wts)\n",
    "\n",
    "# Plot training & validation loss\n",
    "plt.figure(figsize=(12, 5))\n",
    "\n",
    "plt.subplot(1, 2, 1)\n",
    "plt.plot(train_losses, label='Train Loss')\n",
    "plt.plot(val_losses, label='Val Loss')\n",
    "plt.title('Loss Over Epochs')\n",
    "plt.xlabel('Epoch')\n",
    "plt.ylabel('Loss')\n",
    "plt.legend()\n",
    "plt.grid(True)\n",
    "\n",
    "# Plot validation accuracy\n",
    "plt.subplot(1, 2, 2)\n",
    "plt.plot(val_accuracies, label='Val Accuracy')\n",
    "plt.title('Validation Accuracy Over Epochs')\n",
    "plt.xlabel('Epoch')\n",
    "plt.ylabel('Accuracy')\n",
    "plt.legend()\n",
    "plt.grid(True)\n",
    "\n",
    "plt.tight_layout()\n",
    "plt.show()\n",
    "\n",
    "# Save the best model\n",
    "best_model_path = \"best_model.pth\"\n",
    "torch.save({\n",
    "    'model_state_dict': model.state_dict(),\n",
    "    'train_losses': train_losses,\n",
    "    'val_losses': val_losses,\n",
    "    'val_accuracies': val_accuracies\n",
    "}, best_model_path)\n",
    "print(f\"Best model saved to '{best_model_path}'\")\n"
   ],
   "id": "3a9ad1fe2067fbd9",
   "outputs": [
    {
     "data": {
      "text/plain": [
       "<Figure size 1200x500 with 2 Axes>"
      ],
      "image/png": "[encoded data removed]"
     },
     "metadata": {},
     "output_type": "display_data"
    },
    {
     "name": "stdout",
     "output_type": "stream",
     "text": [
      "Best model saved to 'best_model.pth'\n"
     ]
    }
   ],
   "execution_count": 9
  },
  {
   "metadata": {
    "ExecuteTime": {
     "end_time": "2025-01-16T23:47:46.390566Z",
     "start_time": "2025-01-16T23:47:32.269598Z"
    }
   },
   "cell_type": "code",
   "source": [
    "checkpoint = torch.load(best_model_path, map_location=device)\n",
    "model.load_state_dict(checkpoint['model_state_dict'])\n",
    "model.eval()\n",
    "\n",
    "all_predictions = []\n",
    "all_labels_list = []\n",
    "\n",
    "with torch.no_grad():\n",
    "    for images, labels in tqdm(test_loader, desc=\"Testing\"):\n",
    "        images = images.view(images.size(0), -1).to(device)\n",
    "        labels = labels.to(device)\n",
    "        outputs = model(images)\n",
    "        _, predicted = torch.max(outputs.data, 1)\n",
    "        all_predictions.extend(predicted.cpu().numpy())\n",
    "        all_labels_list.extend(labels.cpu().numpy())\n",
    "\n",
    "all_predictions = np.array(all_predictions)\n",
    "all_labels_list = np.array(all_labels_list)\n",
    "\n",
    "test_accuracy = accuracy_score(all_labels_list, all_predictions)\n",
    "recall_per_class = recall_score(all_labels_list, all_predictions, average=None, zero_division=0)\n",
    "precision_per_class = precision_score(all_labels_list, all_predictions, average=None, zero_division=0)\n",
    "macro_recall = recall_score(all_labels_list, all_predictions, average='macro', zero_division=0)\n",
    "macro_precision = precision_score(all_labels_list, all_predictions, average='macro', zero_division=0)\n",
    "\n",
    "print(\"\\nTest Set Results:\")\n",
    "print(f\"Accuracy         : {test_accuracy:.4f}\")\n",
    "print(f\"Macro-Recall     : {macro_recall:.4f}\")\n",
    "print(f\"Macro-Precision  : {macro_precision:.4f}\")\n"
   ],
   "id": "75810beb72ae47ad",
   "outputs": [
    {
     "name": "stderr",
     "output_type": "stream",
     "text": [
      "C:\\Users\\yozev\\AppData\\Local\\Temp\\ipykernel_9400\\2391605330.py:2: FutureWarning: You are using `torch.load` with `weights_only=False` (the current default value), which uses the default pickle module implicitly. It is possible to construct malicious pickle data which will execute arbitrary code during unpickling (See https://github.com/pytorch/pytorch/blob/main/SECURITY.md#untrusted-models for more details). In a future release, the default value for `weights_only` will be flipped to `True`. This limits the functions that could be executed during unpickling. Arbitrary objects will no longer be allowed to be loaded via this mode unless they are explicitly allowlisted by the user via `torch.serialization.add_safe_globals`. We recommend you start setting `weights_only=True` for any use case where you don't have full control of the loaded file. Please open an issue on GitHub for any issues related to this experimental feature.\n",
      "  checkpoint = torch.load(best_model_path, map_location=device)\n",
      "Testing: 100%|██████████| 203/203 [00:13<00:00, 15.12it/s]"
     ]
    },
    {
     "name": "stdout",
     "output_type": "stream",
     "text": [
      "\n",
      "Test Set Results:\n",
      "Accuracy         : 0.3241\n",
      "Macro-Recall     : 0.3268\n",
      "Macro-Precision  : 0.3378\n"
     ]
    },
    {
     "name": "stderr",
     "output_type": "stream",
     "text": [
      "\n"
     ]
    }
   ],
   "execution_count": 12
  },
  {
   "metadata": {},
   "cell_type": "code",
   "outputs": [],
   "execution_count": null,
   "source": "",
   "id": "340eac297aa4c50a"
  }
 ],
 "metadata": {
  "kernelspec": {
   "display_name": "Python 3",
   "language": "python",
   "name": "python3"
  },
  "language_info": {
   "codemirror_mode": {
    "name": "ipython",
    "version": 2
   },
   "file_extension": ".py",
   "mimetype": "text/x-python",
   "name": "python",
   "nbconvert_exporter": "python",
   "pygments_lexer": "ipython2",
   "version": "2.7.6"
  }
 },
 "nbformat": 4,
 "nbformat_minor": 5
}

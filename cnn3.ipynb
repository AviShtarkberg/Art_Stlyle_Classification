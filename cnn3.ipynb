{
 "cells": [
  {
   "cell_type": "code",
   "id": "initial_id",
   "metadata": {
    "collapsed": true,
    "ExecuteTime": {
     "end_time": "2025-01-15T01:30:51.933862Z",
     "start_time": "2025-01-15T01:30:51.910046Z"
    }
   },
   "source": [
    "# Imports cell with respect to the pytorch library.\n",
    "import os\n",
    "import torch\n",
    "import torch.nn as nn\n",
    "import torch.optim as optim\n",
    "import torchvision.transforms as transforms\n",
    "from torch.utils.data import random_split, DataLoader\n",
    "from torchvision.datasets import ImageFolder\n",
    "from sklearn.metrics import accuracy_score, recall_score, precision_score, classification_report\n",
    "import matplotlib.pyplot as plt\n",
    "from tqdm import tqdm\n",
    "import numpy as np\n",
    "import pandas as pd"
   ],
   "outputs": [],
   "execution_count": 24
  },
  {
   "metadata": {
    "ExecuteTime": {
     "end_time": "2025-01-15T01:30:51.955042Z",
     "start_time": "2025-01-15T01:30:51.942003Z"
    }
   },
   "cell_type": "code",
   "source": [
    "# CNN Model Definition and architecture\n",
    "class SimpleCNN(nn.Module):\n",
    "    def __init__(self, num_classes, dropout):\n",
    "        super(SimpleCNN, self).__init__()\n",
    "        self.conv1 = nn.Conv2d(3, 32, kernel_size=3, padding=1)\n",
    "        self.bn1 = nn.BatchNorm2d(32)\n",
    "        self.conv2 = nn.Conv2d(32, 32, kernel_size=3, padding=1)\n",
    "        self.bn2 = nn.BatchNorm2d(32)\n",
    "        self.pool1 = nn.MaxPool2d(2, 2)\n",
    "\n",
    "        self.conv3 = nn.Conv2d(32, 64, kernel_size=3, padding=1)\n",
    "        self.bn3 = nn.BatchNorm2d(64)\n",
    "        self.conv4 = nn.Conv2d(64, 64, kernel_size=3, padding=1)\n",
    "        self.bn4 = nn.BatchNorm2d(64)\n",
    "        self.pool2 = nn.MaxPool2d(2, 2)\n",
    "\n",
    "        self.conv5 = nn.Conv2d(64, 128, kernel_size=3, padding=1)\n",
    "        self.bn5 = nn.BatchNorm2d(128)\n",
    "        self.conv6 = nn.Conv2d(128, 128, kernel_size=3, padding=1)\n",
    "        self.bn6 = nn.BatchNorm2d(128)\n",
    "        self.pool3 = nn.MaxPool2d(2, 2)\n",
    "\n",
    "        self.fc1 = nn.Linear(128 * 16 * 16, 512)  # was 128 * 8 * 8\n",
    "        self.dropout = nn.Dropout(dropout)\n",
    "        self.fc2 = nn.Linear(512, num_classes)\n",
    "        self.relu = nn.ReLU(inplace=True)\n",
    "\n",
    "    def forward(self, x):\n",
    "        x = self.relu(self.bn1(self.conv1(x)))\n",
    "        x = self.relu(self.bn2(self.conv2(x)))\n",
    "        x = self.pool1(x)\n",
    "\n",
    "        x = self.relu(self.bn3(self.conv3(x)))\n",
    "        x = self.relu(self.bn4(self.conv4(x)))\n",
    "        x = self.pool2(x)\n",
    "\n",
    "        x = self.relu(self.bn5(self.conv5(x)))\n",
    "        x = self.relu(self.bn6(self.conv6(x)))\n",
    "        x = self.pool3(x)\n",
    "\n",
    "        x = x.view(x.size(0), -1)\n",
    "        x = self.relu(self.fc1(x))\n",
    "        x = self.dropout(x)\n",
    "        x = self.fc2(x)\n",
    "        return x\n"
   ],
   "id": "9f0ec0f009ab57a7",
   "outputs": [],
   "execution_count": 25
  },
  {
   "metadata": {
    "ExecuteTime": {
     "end_time": "2025-01-15T01:30:52.511124Z",
     "start_time": "2025-01-15T01:30:52.250656Z"
    }
   },
   "cell_type": "code",
   "source": [
    "# Data Transforms and Loading\n",
    "transform_train = transforms.Compose([\n",
    "    transforms.Resize((128, 128)),\n",
    "    transforms.RandomResizedCrop(128, scale=(0.8, 1.0)), \n",
    "    transforms.RandomHorizontalFlip(p=0.5),\n",
    "    transforms.RandomVerticalFlip(p=0.2),\n",
    "    transforms.RandomRotation(degrees=20),\n",
    "    transforms.ColorJitter(brightness=0.3, contrast=0.3, saturation=0.3),\n",
    "    transforms.ToTensor(),\n",
    "    transforms.Normalize(mean=[0.5375, 0.4891, 0.4224],\n",
    "                         std=[0.1923, 0.1820, 0.1725])\n",
    "])\n",
    "\n",
    "# Validation and testing should also be 128x128, matching the network:\n",
    "transform_val = transforms.Compose([\n",
    "    transforms.Resize((128, 128)),\n",
    "    transforms.ToTensor(),\n",
    "    transforms.Normalize(mean=[0.5375, 0.4891, 0.4224],\n",
    "                         std=[0.1923, 0.1820, 0.1725])\n",
    "])\n",
    "\n",
    "dataset_root = r\"C:\\Users\\yozev\\OneDrive\\Desktop\\artFiltered\"\n",
    "full_dataset = ImageFolder(root=dataset_root, transform=transform_train)\n",
    "\n",
    "# Dataset Splitting (unchanged)\n",
    "batch_size = 16\n",
    "seed = 42\n",
    "torch.manual_seed(seed)\n",
    "if torch.cuda.is_available():\n",
    "    torch.cuda.manual_seed_all(seed)\n",
    "\n",
    "dataset_size = len(full_dataset)\n",
    "train_size = int(0.75 * dataset_size)\n",
    "val_size = int(0.15 * dataset_size)\n",
    "test_size = dataset_size - train_size - val_size\n",
    "\n",
    "train_dataset, val_dataset, test_dataset = random_split(\n",
    "    full_dataset, [train_size, val_size, test_size],\n",
    "    generator=torch.Generator().manual_seed(seed)\n",
    ")\n",
    "\n",
    "# Update the transforms for validation and test sets to 128x128\n",
    "val_dataset.dataset.transform = transform_val\n",
    "test_dataset.dataset.transform = transform_val\n",
    "\n",
    "train_loader = DataLoader(train_dataset, batch_size=batch_size, shuffle=True, num_workers=4)\n",
    "val_loader = DataLoader(val_dataset, batch_size=batch_size, shuffle=False, num_workers=4)\n",
    "test_loader = DataLoader(test_dataset, batch_size=batch_size, shuffle=False, num_workers=4)\n"
   ],
   "id": "d26b8b301f209de4",
   "outputs": [],
   "execution_count": 26
  },
  {
   "metadata": {
    "ExecuteTime": {
     "end_time": "2025-01-15T01:30:52.803803Z",
     "start_time": "2025-01-15T01:30:52.787093Z"
    }
   },
   "cell_type": "code",
   "source": [
    "# Dataset Splitting\n",
    "\n",
    "batch_size = 32\n",
    "seed = 42\n",
    "torch.manual_seed(seed)\n",
    "if torch.cuda.is_available():\n",
    "    torch.cuda.manual_seed_all(seed)\n",
    "\n",
    "dataset_size = len(full_dataset)\n",
    "train_size = int(0.75 * dataset_size)\n",
    "val_size = int(0.15 * dataset_size)\n",
    "test_size = dataset_size - train_size - val_size\n",
    "\n",
    "train_dataset, val_dataset, test_dataset = random_split(\n",
    "    full_dataset,\n",
    "    [train_size, val_size, test_size],\n",
    "    generator=torch.Generator().manual_seed(seed)\n",
    ")\n",
    "\n",
    "# Change the transforms of validation and test sets\n",
    "val_dataset.dataset.transform = transform_val\n",
    "test_dataset.dataset.transform = transform_val\n",
    "\n",
    "train_loader = DataLoader(train_dataset, batch_size=batch_size, shuffle=True, num_workers=4)\n",
    "val_loader = DataLoader(val_dataset, batch_size=batch_size, shuffle=False, num_workers=4)\n",
    "test_loader = DataLoader(test_dataset, batch_size=batch_size, shuffle=False, num_workers=4)"
   ],
   "id": "b11d54783b64a723",
   "outputs": [],
   "execution_count": 27
  },
  {
   "metadata": {
    "ExecuteTime": {
     "end_time": "2025-01-15T01:30:53.217870Z",
     "start_time": "2025-01-15T01:30:53.091771Z"
    }
   },
   "cell_type": "code",
   "source": [
    "#  Model Initialization\n",
    "device = torch.device(\"cuda\" if torch.cuda.is_available() else \"cpu\")\n",
    "model = SimpleCNN(num_classes=len(full_dataset.classes), dropout=0.5).to(device)"
   ],
   "id": "e4224281b28ba4d6",
   "outputs": [],
   "execution_count": 28
  },
  {
   "metadata": {
    "ExecuteTime": {
     "end_time": "2025-01-15T01:30:53.554654Z",
     "start_time": "2025-01-15T01:30:53.546683Z"
    }
   },
   "cell_type": "code",
   "source": [
    "# Loss, Optimizer, Scheduler\n",
    "\n",
    "criterion = nn.CrossEntropyLoss()\n",
    "optimizer = optim.Adam(model.parameters(), lr=1e-4, weight_decay=1e-4)\n",
    "scheduler = torch.optim.lr_scheduler.ReduceLROnPlateau(optimizer, mode='min', factor=0.5, patience=5)"
   ],
   "id": "71a4fa61bec82fcf",
   "outputs": [],
   "execution_count": 29
  },
  {
   "metadata": {
    "ExecuteTime": {
     "end_time": "2025-01-15T02:25:34.867959Z",
     "start_time": "2025-01-15T01:30:54.072426Z"
    }
   },
   "cell_type": "code",
   "source": [
    "# Training Loop\n",
    "\n",
    "epochs = 100\n",
    "best_val_loss = float('inf')\n",
    "patience = 10\n",
    "patience_counter = 0\n",
    "\n",
    "train_losses = []\n",
    "val_losses = []\n",
    "train_accuracies = []\n",
    "val_accuracies = []\n",
    "\n",
    "for epoch in range(epochs):\n",
    "    model.train()\n",
    "    running_loss = 0.0\n",
    "    correct_train = 0\n",
    "    total_train = 0\n",
    "\n",
    "    train_loop = tqdm(train_loader, desc=f\"Epoch [{epoch + 1}/{epochs}]\")\n",
    "    for images, labels in train_loop:\n",
    "        images, labels = images.to(device), labels.to(device)\n",
    "\n",
    "        optimizer.zero_grad()\n",
    "        outputs = model(images)\n",
    "        loss = criterion(outputs, labels)\n",
    "        loss.backward()\n",
    "\n",
    "        # Gradient clipping\n",
    "        torch.nn.utils.clip_grad_norm_(model.parameters(), max_norm=1.0)\n",
    "        optimizer.step()\n",
    "\n",
    "        running_loss += loss.item()\n",
    "        _, predicted = torch.max(outputs.data, 1)\n",
    "        total_train += labels.size(0)\n",
    "        correct_train += (predicted == labels).sum().item()\n",
    "\n",
    "        train_loop.set_postfix(loss=loss.item())\n",
    "\n",
    "    avg_train_loss = running_loss / len(train_loader)\n",
    "    train_accuracy = correct_train / total_train\n",
    "\n",
    "    model.eval()\n",
    "    val_loss = 0.0\n",
    "    correct_val = 0\n",
    "    total_val = 0\n",
    "\n",
    "    with torch.no_grad():\n",
    "        val_loop = tqdm(val_loader, desc=\"Validation\")\n",
    "        for images, labels in val_loop:\n",
    "            images, labels = images.to(device), labels.to(device)\n",
    "            outputs = model(images)\n",
    "            loss = criterion(outputs, labels)\n",
    "\n",
    "            val_loss += loss.item()\n",
    "            _, predicted = torch.max(outputs.data, 1)\n",
    "            total_val += labels.size(0)\n",
    "            correct_val += (predicted == labels).sum().item()\n",
    "\n",
    "            val_loop.set_postfix(loss=loss.item())\n",
    "\n",
    "    avg_val_loss = val_loss / len(val_loader)\n",
    "    val_accuracy = correct_val / total_val\n",
    "\n",
    "    \n",
    "    scheduler.step(avg_val_loss)\n",
    "\n",
    "    \n",
    "    train_losses.append(avg_train_loss)\n",
    "    val_losses.append(avg_val_loss)\n",
    "    train_accuracies.append(train_accuracy)\n",
    "    val_accuracies.append(val_accuracy)\n",
    "\n",
    "    # Print metrics for this epoch\n",
    "    print(f\"Epoch [{epoch+1}/{epochs}] -> \"\n",
    "          f\"Train Loss: {avg_train_loss:.4f}, Train Acc: {train_accuracy:.4f} | \"\n",
    "          f\"Val Loss: {avg_val_loss:.4f}, Val Acc: {val_accuracy:.4f}\")\n",
    "\n",
    "    # Save best model\n",
    "    if avg_val_loss < best_val_loss:\n",
    "        best_val_loss = avg_val_loss\n",
    "        patience_counter = 0\n",
    "        torch.save({\n",
    "            'epoch': epoch,\n",
    "            'model_state_dict': model.state_dict(),\n",
    "            'optimizer_state_dict': optimizer.state_dict(),\n",
    "            'val_loss': best_val_loss,\n",
    "        }, 'best_model.pth')\n",
    "    else:\n",
    "        patience_counter += 1\n",
    "        if patience_counter >= patience:\n",
    "            print(\"Early stopping triggered.\")\n",
    "            break"
   ],
   "id": "7fd1f27a8e5939a0",
   "outputs": [
    {
     "name": "stderr",
     "output_type": "stream",
     "text": [
      "Epoch [1/100]: 100%|██████████| 1518/1518 [01:23<00:00, 18.14it/s, loss=2.47]\n",
      "Validation: 100%|██████████| 304/304 [00:13<00:00, 23.03it/s, loss=2.28]\n"
     ]
    },
    {
     "name": "stdout",
     "output_type": "stream",
     "text": [
      "Epoch [1/100] -> Train Loss: 2.3096, Train Acc: 0.1927 | Val Loss: 2.1372, Val Acc: 0.2633\n"
     ]
    },
    {
     "name": "stderr",
     "output_type": "stream",
     "text": [
      "Epoch [2/100]: 100%|██████████| 1518/1518 [01:23<00:00, 18.27it/s, loss=1.92]\n",
      "Validation: 100%|██████████| 304/304 [00:13<00:00, 22.67it/s, loss=1.96]\n"
     ]
    },
    {
     "name": "stdout",
     "output_type": "stream",
     "text": [
      "Epoch [2/100] -> Train Loss: 2.1359, Train Acc: 0.2600 | Val Loss: 1.9888, Val Acc: 0.3242\n"
     ]
    },
    {
     "name": "stderr",
     "output_type": "stream",
     "text": [
      "Epoch [3/100]: 100%|██████████| 1518/1518 [01:23<00:00, 18.26it/s, loss=1.56]\n",
      "Validation: 100%|██████████| 304/304 [00:13<00:00, 22.74it/s, loss=1.98]\n"
     ]
    },
    {
     "name": "stdout",
     "output_type": "stream",
     "text": [
      "Epoch [3/100] -> Train Loss: 2.0464, Train Acc: 0.2926 | Val Loss: 1.9366, Val Acc: 0.3365\n"
     ]
    },
    {
     "name": "stderr",
     "output_type": "stream",
     "text": [
      "Epoch [4/100]: 100%|██████████| 1518/1518 [01:23<00:00, 18.22it/s, loss=1.89]\n",
      "Validation: 100%|██████████| 304/304 [00:13<00:00, 22.39it/s, loss=2.04]\n"
     ]
    },
    {
     "name": "stdout",
     "output_type": "stream",
     "text": [
      "Epoch [4/100] -> Train Loss: 1.9669, Train Acc: 0.3201 | Val Loss: 1.9132, Val Acc: 0.3465\n"
     ]
    },
    {
     "name": "stderr",
     "output_type": "stream",
     "text": [
      "Epoch [5/100]: 100%|██████████| 1518/1518 [01:23<00:00, 18.20it/s, loss=1.81]\n",
      "Validation: 100%|██████████| 304/304 [00:13<00:00, 22.41it/s, loss=1.86]\n"
     ]
    },
    {
     "name": "stdout",
     "output_type": "stream",
     "text": [
      "Epoch [5/100] -> Train Loss: 1.9036, Train Acc: 0.3406 | Val Loss: 1.8149, Val Acc: 0.3844\n"
     ]
    },
    {
     "name": "stderr",
     "output_type": "stream",
     "text": [
      "Epoch [6/100]: 100%|██████████| 1518/1518 [01:23<00:00, 18.21it/s, loss=1.72]\n",
      "Validation: 100%|██████████| 304/304 [00:13<00:00, 22.35it/s, loss=1.92]\n"
     ]
    },
    {
     "name": "stdout",
     "output_type": "stream",
     "text": [
      "Epoch [6/100] -> Train Loss: 1.8452, Train Acc: 0.3635 | Val Loss: 1.8039, Val Acc: 0.3847\n"
     ]
    },
    {
     "name": "stderr",
     "output_type": "stream",
     "text": [
      "Epoch [7/100]: 100%|██████████| 1518/1518 [01:23<00:00, 18.20it/s, loss=2.15]\n",
      "Validation: 100%|██████████| 304/304 [00:13<00:00, 22.41it/s, loss=1.78]\n"
     ]
    },
    {
     "name": "stdout",
     "output_type": "stream",
     "text": [
      "Epoch [7/100] -> Train Loss: 1.7868, Train Acc: 0.3863 | Val Loss: 1.7645, Val Acc: 0.4056\n"
     ]
    },
    {
     "name": "stderr",
     "output_type": "stream",
     "text": [
      "Epoch [8/100]: 100%|██████████| 1518/1518 [01:23<00:00, 18.17it/s, loss=2.06]\n",
      "Validation: 100%|██████████| 304/304 [00:13<00:00, 22.78it/s, loss=2]   \n"
     ]
    },
    {
     "name": "stdout",
     "output_type": "stream",
     "text": [
      "Epoch [8/100] -> Train Loss: 1.7316, Train Acc: 0.4061 | Val Loss: 1.7444, Val Acc: 0.4120\n"
     ]
    },
    {
     "name": "stderr",
     "output_type": "stream",
     "text": [
      "Epoch [9/100]: 100%|██████████| 1518/1518 [01:23<00:00, 18.23it/s, loss=1.9] \n",
      "Validation: 100%|██████████| 304/304 [00:13<00:00, 22.53it/s, loss=1.97]\n"
     ]
    },
    {
     "name": "stdout",
     "output_type": "stream",
     "text": [
      "Epoch [9/100] -> Train Loss: 1.6706, Train Acc: 0.4283 | Val Loss: 1.7241, Val Acc: 0.4178\n"
     ]
    },
    {
     "name": "stderr",
     "output_type": "stream",
     "text": [
      "Epoch [10/100]: 100%|██████████| 1518/1518 [01:23<00:00, 18.18it/s, loss=1.36]\n",
      "Validation: 100%|██████████| 304/304 [00:13<00:00, 22.35it/s, loss=1.83]\n"
     ]
    },
    {
     "name": "stdout",
     "output_type": "stream",
     "text": [
      "Epoch [10/100] -> Train Loss: 1.6209, Train Acc: 0.4458 | Val Loss: 1.7203, Val Acc: 0.4291\n"
     ]
    },
    {
     "name": "stderr",
     "output_type": "stream",
     "text": [
      "Epoch [11/100]: 100%|██████████| 1518/1518 [01:23<00:00, 18.16it/s, loss=1.82] \n",
      "Validation: 100%|██████████| 304/304 [00:13<00:00, 22.66it/s, loss=1.93]\n"
     ]
    },
    {
     "name": "stdout",
     "output_type": "stream",
     "text": [
      "Epoch [11/100] -> Train Loss: 1.5684, Train Acc: 0.4611 | Val Loss: 1.6596, Val Acc: 0.4377\n"
     ]
    },
    {
     "name": "stderr",
     "output_type": "stream",
     "text": [
      "Epoch [12/100]: 100%|██████████| 1518/1518 [01:23<00:00, 18.19it/s, loss=1.57]\n",
      "Validation: 100%|██████████| 304/304 [00:13<00:00, 22.80it/s, loss=2.01]\n"
     ]
    },
    {
     "name": "stdout",
     "output_type": "stream",
     "text": [
      "Epoch [12/100] -> Train Loss: 1.5149, Train Acc: 0.4796 | Val Loss: 1.6148, Val Acc: 0.4551\n"
     ]
    },
    {
     "name": "stderr",
     "output_type": "stream",
     "text": [
      "Epoch [13/100]: 100%|██████████| 1518/1518 [01:23<00:00, 18.22it/s, loss=1.69] \n",
      "Validation: 100%|██████████| 304/304 [00:13<00:00, 22.64it/s, loss=1.89]\n"
     ]
    },
    {
     "name": "stdout",
     "output_type": "stream",
     "text": [
      "Epoch [13/100] -> Train Loss: 1.4636, Train Acc: 0.4947 | Val Loss: 1.6296, Val Acc: 0.4552\n"
     ]
    },
    {
     "name": "stderr",
     "output_type": "stream",
     "text": [
      "Epoch [14/100]: 100%|██████████| 1518/1518 [01:23<00:00, 18.17it/s, loss=1.74] \n",
      "Validation: 100%|██████████| 304/304 [00:13<00:00, 22.31it/s, loss=1.91] \n"
     ]
    },
    {
     "name": "stdout",
     "output_type": "stream",
     "text": [
      "Epoch [14/100] -> Train Loss: 1.4170, Train Acc: 0.5121 | Val Loss: 1.6090, Val Acc: 0.4610\n"
     ]
    },
    {
     "name": "stderr",
     "output_type": "stream",
     "text": [
      "Epoch [15/100]: 100%|██████████| 1518/1518 [01:23<00:00, 18.25it/s, loss=1.71] \n",
      "Validation: 100%|██████████| 304/304 [00:13<00:00, 22.30it/s, loss=2.06] \n"
     ]
    },
    {
     "name": "stdout",
     "output_type": "stream",
     "text": [
      "Epoch [15/100] -> Train Loss: 1.3715, Train Acc: 0.5273 | Val Loss: 1.5893, Val Acc: 0.4708\n"
     ]
    },
    {
     "name": "stderr",
     "output_type": "stream",
     "text": [
      "Epoch [16/100]: 100%|██████████| 1518/1518 [01:23<00:00, 18.17it/s, loss=0.949]\n",
      "Validation: 100%|██████████| 304/304 [00:13<00:00, 22.62it/s, loss=1.76] \n"
     ]
    },
    {
     "name": "stdout",
     "output_type": "stream",
     "text": [
      "Epoch [16/100] -> Train Loss: 1.3149, Train Acc: 0.5476 | Val Loss: 1.5809, Val Acc: 0.4742\n"
     ]
    },
    {
     "name": "stderr",
     "output_type": "stream",
     "text": [
      "Epoch [17/100]: 100%|██████████| 1518/1518 [01:23<00:00, 18.13it/s, loss=1.29] \n",
      "Validation: 100%|██████████| 304/304 [00:13<00:00, 22.22it/s, loss=2.22] \n"
     ]
    },
    {
     "name": "stdout",
     "output_type": "stream",
     "text": [
      "Epoch [17/100] -> Train Loss: 1.2660, Train Acc: 0.5627 | Val Loss: 1.6331, Val Acc: 0.4612\n"
     ]
    },
    {
     "name": "stderr",
     "output_type": "stream",
     "text": [
      "Epoch [18/100]: 100%|██████████| 1518/1518 [01:23<00:00, 18.18it/s, loss=1.76] \n",
      "Validation: 100%|██████████| 304/304 [00:13<00:00, 21.93it/s, loss=1.75] \n"
     ]
    },
    {
     "name": "stdout",
     "output_type": "stream",
     "text": [
      "Epoch [18/100] -> Train Loss: 1.2146, Train Acc: 0.5812 | Val Loss: 1.6242, Val Acc: 0.4692\n"
     ]
    },
    {
     "name": "stderr",
     "output_type": "stream",
     "text": [
      "Epoch [19/100]: 100%|██████████| 1518/1518 [01:23<00:00, 18.16it/s, loss=1.11] \n",
      "Validation: 100%|██████████| 304/304 [00:13<00:00, 22.40it/s, loss=1.92] \n"
     ]
    },
    {
     "name": "stdout",
     "output_type": "stream",
     "text": [
      "Epoch [19/100] -> Train Loss: 1.1649, Train Acc: 0.5937 | Val Loss: 1.5851, Val Acc: 0.4808\n"
     ]
    },
    {
     "name": "stderr",
     "output_type": "stream",
     "text": [
      "Epoch [20/100]: 100%|██████████| 1518/1518 [01:23<00:00, 18.21it/s, loss=1.02] \n",
      "Validation: 100%|██████████| 304/304 [00:13<00:00, 22.19it/s, loss=1.98] \n"
     ]
    },
    {
     "name": "stdout",
     "output_type": "stream",
     "text": [
      "Epoch [20/100] -> Train Loss: 1.1151, Train Acc: 0.6133 | Val Loss: 1.6927, Val Acc: 0.4614\n"
     ]
    },
    {
     "name": "stderr",
     "output_type": "stream",
     "text": [
      "Epoch [21/100]: 100%|██████████| 1518/1518 [01:23<00:00, 18.10it/s, loss=1.03] \n",
      "Validation: 100%|██████████| 304/304 [00:13<00:00, 22.14it/s, loss=2.25] \n"
     ]
    },
    {
     "name": "stdout",
     "output_type": "stream",
     "text": [
      "Epoch [21/100] -> Train Loss: 1.0638, Train Acc: 0.6295 | Val Loss: 1.6395, Val Acc: 0.4771\n"
     ]
    },
    {
     "name": "stderr",
     "output_type": "stream",
     "text": [
      "Epoch [22/100]: 100%|██████████| 1518/1518 [01:23<00:00, 18.15it/s, loss=1.23] \n",
      "Validation: 100%|██████████| 304/304 [00:13<00:00, 21.87it/s, loss=1.9]  \n"
     ]
    },
    {
     "name": "stdout",
     "output_type": "stream",
     "text": [
      "Epoch [22/100] -> Train Loss: 1.0190, Train Acc: 0.6482 | Val Loss: 1.5865, Val Acc: 0.4906\n"
     ]
    },
    {
     "name": "stderr",
     "output_type": "stream",
     "text": [
      "Epoch [23/100]: 100%|██████████| 1518/1518 [01:23<00:00, 18.11it/s, loss=0.845]\n",
      "Validation: 100%|██████████| 304/304 [00:14<00:00, 21.41it/s, loss=2.07] \n"
     ]
    },
    {
     "name": "stdout",
     "output_type": "stream",
     "text": [
      "Epoch [23/100] -> Train Loss: 0.8463, Train Acc: 0.7078 | Val Loss: 1.5718, Val Acc: 0.5036\n"
     ]
    },
    {
     "name": "stderr",
     "output_type": "stream",
     "text": [
      "Epoch [24/100]: 100%|██████████| 1518/1518 [01:24<00:00, 18.05it/s, loss=0.563]\n",
      "Validation: 100%|██████████| 304/304 [00:13<00:00, 22.26it/s, loss=2.15] \n"
     ]
    },
    {
     "name": "stdout",
     "output_type": "stream",
     "text": [
      "Epoch [24/100] -> Train Loss: 0.7851, Train Acc: 0.7296 | Val Loss: 1.5793, Val Acc: 0.5031\n"
     ]
    },
    {
     "name": "stderr",
     "output_type": "stream",
     "text": [
      "Epoch [25/100]: 100%|██████████| 1518/1518 [01:23<00:00, 18.09it/s, loss=1.27] \n",
      "Validation: 100%|██████████| 304/304 [00:13<00:00, 22.14it/s, loss=2.4]  \n"
     ]
    },
    {
     "name": "stdout",
     "output_type": "stream",
     "text": [
      "Epoch [25/100] -> Train Loss: 0.7402, Train Acc: 0.7454 | Val Loss: 1.6156, Val Acc: 0.5000\n"
     ]
    },
    {
     "name": "stderr",
     "output_type": "stream",
     "text": [
      "Epoch [26/100]: 100%|██████████| 1518/1518 [01:23<00:00, 18.22it/s, loss=0.902]\n",
      "Validation: 100%|██████████| 304/304 [00:13<00:00, 22.36it/s, loss=2.47] \n"
     ]
    },
    {
     "name": "stdout",
     "output_type": "stream",
     "text": [
      "Epoch [26/100] -> Train Loss: 0.6873, Train Acc: 0.7637 | Val Loss: 1.6180, Val Acc: 0.5018\n"
     ]
    },
    {
     "name": "stderr",
     "output_type": "stream",
     "text": [
      "Epoch [27/100]: 100%|██████████| 1518/1518 [01:23<00:00, 18.20it/s, loss=0.654]\n",
      "Validation: 100%|██████████| 304/304 [00:13<00:00, 22.47it/s, loss=2.25] \n"
     ]
    },
    {
     "name": "stdout",
     "output_type": "stream",
     "text": [
      "Epoch [27/100] -> Train Loss: 0.6573, Train Acc: 0.7740 | Val Loss: 1.6382, Val Acc: 0.5058\n"
     ]
    },
    {
     "name": "stderr",
     "output_type": "stream",
     "text": [
      "Epoch [28/100]: 100%|██████████| 1518/1518 [01:23<00:00, 18.17it/s, loss=0.588]\n",
      "Validation: 100%|██████████| 304/304 [00:13<00:00, 22.31it/s, loss=2.4]  \n"
     ]
    },
    {
     "name": "stdout",
     "output_type": "stream",
     "text": [
      "Epoch [28/100] -> Train Loss: 0.6174, Train Acc: 0.7873 | Val Loss: 1.6828, Val Acc: 0.5016\n"
     ]
    },
    {
     "name": "stderr",
     "output_type": "stream",
     "text": [
      "Epoch [29/100]: 100%|██████████| 1518/1518 [01:27<00:00, 17.38it/s, loss=0.658]\n",
      "Validation: 100%|██████████| 304/304 [00:16<00:00, 18.97it/s, loss=2.18] \n"
     ]
    },
    {
     "name": "stdout",
     "output_type": "stream",
     "text": [
      "Epoch [29/100] -> Train Loss: 0.5805, Train Acc: 0.7988 | Val Loss: 1.7155, Val Acc: 0.4971\n"
     ]
    },
    {
     "name": "stderr",
     "output_type": "stream",
     "text": [
      "Epoch [30/100]: 100%|██████████| 1518/1518 [01:33<00:00, 16.21it/s, loss=0.453]\n",
      "Validation: 100%|██████████| 304/304 [00:19<00:00, 15.51it/s, loss=2.67] \n"
     ]
    },
    {
     "name": "stdout",
     "output_type": "stream",
     "text": [
      "Epoch [30/100] -> Train Loss: 0.4814, Train Acc: 0.8407 | Val Loss: 1.7432, Val Acc: 0.5038\n"
     ]
    },
    {
     "name": "stderr",
     "output_type": "stream",
     "text": [
      "Epoch [31/100]: 100%|██████████| 1518/1518 [01:33<00:00, 16.24it/s, loss=0.447]\n",
      "Validation: 100%|██████████| 304/304 [00:18<00:00, 16.09it/s, loss=2.44] \n"
     ]
    },
    {
     "name": "stdout",
     "output_type": "stream",
     "text": [
      "Epoch [31/100] -> Train Loss: 0.4532, Train Acc: 0.8520 | Val Loss: 1.7500, Val Acc: 0.5042\n"
     ]
    },
    {
     "name": "stderr",
     "output_type": "stream",
     "text": [
      "Epoch [32/100]: 100%|██████████| 1518/1518 [01:34<00:00, 15.99it/s, loss=0.566]\n",
      "Validation: 100%|██████████| 304/304 [00:19<00:00, 15.44it/s, loss=2.46] \n"
     ]
    },
    {
     "name": "stdout",
     "output_type": "stream",
     "text": [
      "Epoch [32/100] -> Train Loss: 0.4281, Train Acc: 0.8612 | Val Loss: 1.7409, Val Acc: 0.5059\n"
     ]
    },
    {
     "name": "stderr",
     "output_type": "stream",
     "text": [
      "Epoch [33/100]: 100%|██████████| 1518/1518 [01:34<00:00, 16.06it/s, loss=0.466]\n",
      "Validation: 100%|██████████| 304/304 [00:19<00:00, 15.49it/s, loss=2.6]  "
     ]
    },
    {
     "name": "stdout",
     "output_type": "stream",
     "text": [
      "Epoch [33/100] -> Train Loss: 0.4078, Train Acc: 0.8678 | Val Loss: 1.8039, Val Acc: 0.5058\n",
      "Early stopping triggered.\n"
     ]
    },
    {
     "name": "stderr",
     "output_type": "stream",
     "text": [
      "\n"
     ]
    }
   ],
   "execution_count": 30
  },
  {
   "metadata": {
    "ExecuteTime": {
     "end_time": "2025-01-15T02:25:35.965496Z",
     "start_time": "2025-01-15T02:25:35.367770Z"
    }
   },
   "cell_type": "code",
   "source": [
    "#  Plots of the training part\n",
    "\n",
    "plt.figure(figsize=(12, 4))\n",
    "\n",
    "plt.subplot(1, 2, 1)\n",
    "plt.plot(train_losses, label='Train Loss')\n",
    "plt.plot(val_losses, label='Validation Loss')\n",
    "plt.title('Loss')\n",
    "plt.xlabel('Epoch')\n",
    "plt.ylabel('Loss')\n",
    "plt.legend()\n",
    "\n",
    "plt.subplot(1, 2, 2)\n",
    "plt.plot(train_accuracies, label='Train Accuracy')\n",
    "plt.plot(val_accuracies, label='Validation Accuracy')\n",
    "plt.title('Accuracy')\n",
    "plt.xlabel('Epoch')\n",
    "plt.ylabel('Accuracy')\n",
    "plt.legend()\n",
    "\n",
    "plt.tight_layout()\n",
    "plt.show()"
   ],
   "id": "944ef1dd0e8e4373",
   "outputs": [
    {
     "data": {
      "text/plain": [
       "<Figure size 1200x400 with 2 Axes>"
      ],
      "image/png": "[encoded data removed]"
     },
     "metadata": {},
     "output_type": "display_data"
    }
   ],
   "execution_count": 31
  },
  {
   "metadata": {
    "ExecuteTime": {
     "end_time": "2025-01-15T02:25:49.434058Z",
     "start_time": "2025-01-15T02:25:36.636151Z"
    }
   },
   "cell_type": "code",
   "source": [
    "# Model Testing\n",
    "\n",
    "checkpoint = torch.load('best_model.pth', map_location=device)\n",
    "model.load_state_dict(checkpoint['model_state_dict'])\n",
    "model.eval()\n",
    "\n",
    "all_predictions = []\n",
    "all_labels = []\n",
    "\n",
    "with torch.no_grad():\n",
    "    for images, labels in test_loader:\n",
    "        images, labels = images.to(device), labels.to(device)\n",
    "        outputs = model(images)\n",
    "        _, predicted = torch.max(outputs.data, 1)\n",
    "        all_predictions.extend(predicted.cpu().numpy())\n",
    "        all_labels.extend(labels.cpu().numpy())\n",
    "\n",
    "all_predictions = np.array(all_predictions)\n",
    "all_labels = np.array(all_labels)"
   ],
   "id": "305cc3db31d2e2be",
   "outputs": [
    {
     "name": "stderr",
     "output_type": "stream",
     "text": [
      "C:\\Users\\yozev\\AppData\\Local\\Temp\\ipykernel_21128\\1799925879.py:4: FutureWarning: You are using `torch.load` with `weights_only=False` (the current default value), which uses the default pickle module implicitly. It is possible to construct malicious pickle data which will execute arbitrary code during unpickling (See https://github.com/pytorch/pytorch/blob/main/SECURITY.md#untrusted-models for more details). In a future release, the default value for `weights_only` will be flipped to `True`. This limits the functions that could be executed during unpickling. Arbitrary objects will no longer be allowed to be loaded via this mode unless they are explicitly allowlisted by the user via `torch.serialization.add_safe_globals`. We recommend you start setting `weights_only=True` for any use case where you don't have full control of the loaded file. Please open an issue on GitHub for any issues related to this experimental feature.\n",
      "  checkpoint = torch.load('best_model.pth', map_location=device)\n"
     ]
    }
   ],
   "execution_count": 32
  },
  {
   "metadata": {
    "ExecuteTime": {
     "end_time": "2025-01-15T02:25:49.471592Z",
     "start_time": "2025-01-15T02:25:49.434058Z"
    }
   },
   "cell_type": "code",
   "source": [
    "# Metrics Computation\n",
    "accuracy = accuracy_score(all_labels, all_predictions)\n",
    "recall_per_class = recall_score(all_labels, all_predictions, average=None, zero_division=0)\n",
    "precision_per_class = precision_score(all_labels, all_predictions, average=None, zero_division=0)\n",
    "macro_recall = recall_score(all_labels, all_predictions, average='macro', zero_division=0)\n",
    "macro_precision = precision_score(all_labels, all_predictions, average='macro', zero_division=0)\n",
    "\n",
    "print(f\"Test Set Results:\")\n",
    "print(f\"Accuracy: {accuracy:.4f}\")\n",
    "print(f\"Macro-Recall: {macro_recall:.4f}\")\n",
    "print(f\"Macro-Precision: {macro_precision:.4f}\")\n",
    "\n",
    "for i, class_name in enumerate(full_dataset.classes):\n",
    "    print(f\"\\nClass {class_name}:\")\n",
    "    print(f\"Recall: {recall_per_class[i]:.4f}\")\n",
    "    print(f\"Precision: {precision_per_class[i]:.4f}\")\n",
    "\n",
    "# Classification report\n",
    "report_dict = classification_report(\n",
    "    all_labels,\n",
    "    all_predictions,\n",
    "    target_names=full_dataset.classes,\n",
    "    zero_division=0,\n",
    "    output_dict=True\n",
    ")\n",
    "report_df = pd.DataFrame(report_dict).transpose()\n",
    "\n",
    "print(\"\\nClassification Report:\")\n",
    "print(report_df)\n"
   ],
   "id": "4fd42010e9c5c07d",
   "outputs": [
    {
     "name": "stdout",
     "output_type": "stream",
     "text": [
      "Test Set Results:\n",
      "Accuracy: 0.5120\n",
      "Macro-Recall: 0.5138\n",
      "Macro-Precision: 0.5197\n",
      "\n",
      "Class Abstract_Expressionism:\n",
      "Recall: 0.6217\n",
      "Precision: 0.7288\n",
      "\n",
      "Class Art_Nouveau_Modern:\n",
      "Recall: 0.4630\n",
      "Precision: 0.4828\n",
      "\n",
      "Class Baroque:\n",
      "Recall: 0.6371\n",
      "Precision: 0.5647\n",
      "\n",
      "Class Cubism:\n",
      "Recall: 0.6998\n",
      "Precision: 0.6152\n",
      "\n",
      "Class Expressionism:\n",
      "Recall: 0.2763\n",
      "Precision: 0.3114\n",
      "\n",
      "Class Impressionism:\n",
      "Recall: 0.4657\n",
      "Precision: 0.4434\n",
      "\n",
      "Class Naive_Art_Primitivism:\n",
      "Recall: 0.5331\n",
      "Precision: 0.5373\n",
      "\n",
      "Class Northern_Renaissance:\n",
      "Recall: 0.6345\n",
      "Precision: 0.7315\n",
      "\n",
      "Class Post_Impressionism:\n",
      "Recall: 0.4266\n",
      "Precision: 0.3403\n",
      "\n",
      "Class Realism:\n",
      "Recall: 0.4175\n",
      "Precision: 0.3882\n",
      "\n",
      "Class Rococo:\n",
      "Recall: 0.6447\n",
      "Precision: 0.6950\n",
      "\n",
      "Class Romanticism:\n",
      "Recall: 0.4479\n",
      "Precision: 0.4851\n",
      "\n",
      "Class Symbolism:\n",
      "Recall: 0.4112\n",
      "Precision: 0.4326\n",
      "\n",
      "Classification Report:\n",
      "                        precision    recall  f1-score      support\n",
      "Abstract_Expressionism   0.728774  0.621730  0.671010   497.000000\n",
      "Art_Nouveau_Modern       0.482759  0.463035  0.472691   514.000000\n",
      "Baroque                  0.564685  0.637081  0.598703   507.000000\n",
      "Cubism                   0.615242  0.699789  0.654797   473.000000\n",
      "Expressionism            0.311404  0.276265  0.292784   514.000000\n",
      "Impressionism            0.443378  0.465726  0.454277   496.000000\n",
      "Naive_Art_Primitivism    0.537255  0.533074  0.535156   514.000000\n",
      "Northern_Renaissance     0.731481  0.634538  0.679570   498.000000\n",
      "Post_Impressionism       0.340289  0.426559  0.378571   497.000000\n",
      "Realism                  0.388170  0.417495  0.402299   503.000000\n",
      "Rococo                   0.694954  0.644681  0.668874   470.000000\n",
      "Romanticism              0.485106  0.447937  0.465781   509.000000\n",
      "Symbolism                0.432609  0.411157  0.421610   484.000000\n",
      "accuracy                 0.512044  0.512044  0.512044     0.512044\n",
      "macro avg                0.519700  0.513774  0.515086  6476.000000\n",
      "weighted avg             0.518121  0.512044  0.513441  6476.000000\n"
     ]
    }
   ],
   "execution_count": 33
  }
 ],
 "metadata": {
  "kernelspec": {
   "display_name": "Python 3",
   "language": "python",
   "name": "python3"
  },
  "language_info": {
   "codemirror_mode": {
    "name": "ipython",
    "version": 2
   },
   "file_extension": ".py",
   "mimetype": "text/x-python",
   "name": "python",
   "nbconvert_exporter": "python",
   "pygments_lexer": "ipython2",
   "version": "2.7.6"
  }
 },
 "nbformat": 4,
 "nbformat_minor": 5
}

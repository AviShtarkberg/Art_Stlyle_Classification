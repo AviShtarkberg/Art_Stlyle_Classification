{
 "cells": [
  {
   "metadata": {},
   "cell_type": "markdown",
   "source": [
    "# This notebook represents our basemodel\n",
    "The model will predict each time the majority class that we have in our data\n"
   ],
   "id": "489fe97843262726"
  },
  {
   "metadata": {
    "collapsed": true,
    "ExecuteTime": {
     "end_time": "2025-01-18T21:48:19.117077Z",
     "start_time": "2025-01-18T21:48:15.644221Z"
    }
   },
   "cell_type": "code",
   "source": [
    "import os\n",
    "import numpy as np\n",
    "from sklearn.metrics import accuracy_score, precision_score, recall_score, f1_score, classification_report\n",
    "from collections import Counter\n",
    "\n",
    "# Load the class distribution (number of images per folder).\n",
    "def load_class_distribution(data_path):\n",
    "    class_counts = {}\n",
    "    for folder_name in os.listdir(data_path):\n",
    "        folder_path = os.path.join(data_path, folder_name)\n",
    "        if os.path.isdir(folder_path):\n",
    "            num_files = len([f for f in os.listdir(folder_path) if f.lower().endswith((\".jpg\", \".jpeg\", \".png\"))])\n",
    "            class_counts[folder_name] = num_files\n",
    "    return class_counts\n",
    "\n",
    "# Predict the majority class for all samples.\n",
    "def majority_class_prediction(y_true):\n",
    "    majority_class = Counter(y_true).most_common(1)[0][0]\n",
    "    y_pred = [majority_class] * len(y_true)\n",
    "    return y_pred, majority_class\n",
    "\n",
    "# Evaluate a baseline model that always predicts the majority class.\n",
    "def evaluate_baseline_model(data_path):\n",
    "\n",
    "    # Load class distribution\n",
    "    class_counts = load_class_distribution(data_path)\n",
    "    print(\"Class Distribution:\", class_counts)\n",
    "\n",
    "    # Generate ground truth (labels) for evaluation\n",
    "    y_true = []\n",
    "    class_to_label = {cls: idx for idx, cls in enumerate(class_counts.keys())}  # Map classes to labels\n",
    "    for cls, count in class_counts.items():\n",
    "        y_true.extend([class_to_label[cls]] * count)\n",
    "\n",
    "    # Predict the majority class\n",
    "    y_pred, majority_class = majority_class_prediction(y_true)\n",
    "    print(f\"Majority Class (Predicted): {list(class_counts.keys())[majority_class]}\")\n",
    "\n",
    "    # Calculate metrics with zero_division handling\n",
    "    acc = accuracy_score(y_true, y_pred)\n",
    "    precision = precision_score(y_true, y_pred, average='weighted', zero_division=0)\n",
    "    recall = recall_score(y_true, y_pred, average='weighted', zero_division=0)\n",
    "    f1 = f1_score(y_true, y_pred, average='weighted', zero_division=0)\n",
    "\n",
    "    # Print metrics\n",
    "    print(\"\\nBaseline Model Performance:\")\n",
    "    print(f\"Accuracy: {acc:.4f}\")\n",
    "    print(f\"Precision: {precision:.4f}\")\n",
    "    print(f\"Recall: {recall:.4f}\")\n",
    "    print(f\"F1 Score: {f1:.4f}\")\n",
    "\n",
    "    # Print classification report with zero_division handling\n",
    "    print(\"\\nClassification Report:\")\n",
    "    print(classification_report(y_true, y_pred, target_names=class_counts.keys(), zero_division=0))\n",
    "\n",
    "if __name__ == \"__main__\":\n",
    "    # Path to the filtered dataset\n",
    "    data_path = r\"C:\\Users\\yozev\\OneDrive\\Desktop\\artFiltered\"\n",
    "\n",
    "    # Evaluate the baseline model\n",
    "    evaluate_baseline_model(data_path)\n"
   ],
   "id": "initial_id",
   "outputs": [
    {
     "name": "stdout",
     "output_type": "stream",
     "text": [
      "Class Distribution: {'Abstract_Expressionism': 4954, 'Art_Nouveau_Modern': 4998, 'Baroque': 4994, 'Cubism': 5006, 'Expressionism': 5000, 'Impressionism': 5000, 'Naive_Art_Primitivism': 4936, 'Northern_Renaissance': 4952, 'Post_Impressionism': 5000, 'Realism': 5000, 'Rococo': 4909, 'Romanticism': 5000, 'Symbolism': 5002}\n",
      "Majority Class (Predicted): Cubism\n",
      "\n",
      "Baseline Model Performance:\n",
      "Accuracy: 0.0773\n",
      "Precision: 0.0060\n",
      "Recall: 0.0773\n",
      "F1 Score: 0.0111\n",
      "\n",
      "Classification Report:\n",
      "                        precision    recall  f1-score   support\n",
      "\n",
      "Abstract_Expressionism       0.00      0.00      0.00      4954\n",
      "    Art_Nouveau_Modern       0.00      0.00      0.00      4998\n",
      "               Baroque       0.00      0.00      0.00      4994\n",
      "                Cubism       0.08      1.00      0.14      5006\n",
      "         Expressionism       0.00      0.00      0.00      5000\n",
      "         Impressionism       0.00      0.00      0.00      5000\n",
      " Naive_Art_Primitivism       0.00      0.00      0.00      4936\n",
      "  Northern_Renaissance       0.00      0.00      0.00      4952\n",
      "    Post_Impressionism       0.00      0.00      0.00      5000\n",
      "               Realism       0.00      0.00      0.00      5000\n",
      "                Rococo       0.00      0.00      0.00      4909\n",
      "           Romanticism       0.00      0.00      0.00      5000\n",
      "             Symbolism       0.00      0.00      0.00      5002\n",
      "\n",
      "              accuracy                           0.08     64751\n",
      "             macro avg       0.01      0.08      0.01     64751\n",
      "          weighted avg       0.01      0.08      0.01     64751\n",
      "\n"
     ]
    }
   ],
   "execution_count": 1
  },
  {
   "metadata": {},
   "cell_type": "code",
   "outputs": [],
   "execution_count": null,
   "source": "",
   "id": "e75115fe629b1022"
  }
 ],
 "metadata": {
  "kernelspec": {
   "display_name": "Python 3",
   "language": "python",
   "name": "python3"
  },
  "language_info": {
   "codemirror_mode": {
    "name": "ipython",
    "version": 2
   },
   "file_extension": ".py",
   "mimetype": "text/x-python",
   "name": "python",
   "nbconvert_exporter": "python",
   "pygments_lexer": "ipython2",
   "version": "2.7.6"
  }
 },
 "nbformat": 4,
 "nbformat_minor": 5
}

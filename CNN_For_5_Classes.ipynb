{
 "cells": [
  {
   "metadata": {
    "ExecuteTime": {
     "end_time": "2025-01-12T01:12:34.686324Z",
     "start_time": "2025-01-12T00:29:35.442960Z"
    }
   },
   "cell_type": "code",
   "source": [
    "import os\n",
    "import torch\n",
    "import torch.nn as nn\n",
    "import torch.optim as optim\n",
    "from torch.utils.data import Dataset, DataLoader, random_split\n",
    "from torchvision import transforms\n",
    "from PIL import Image\n",
    "import copy\n",
    "import matplotlib.pyplot as plt\n",
    "from tqdm import tqdm\n",
    "from sklearn.metrics import accuracy_score, precision_score, recall_score\n",
    "\n",
    "# Dataset Definition (Only 5 classes)\n",
    "class WikiArtDataset(Dataset):\n",
    "    \"\"\"\n",
    "     only the following 5 classes are used:\n",
    "        \"Abstract_Expressionism\",\n",
    "        \"Cubism\",\n",
    "        \"Impressionism\",\n",
    "        \"Rococo\",\n",
    "        \"Northern_Renaissance\"\n",
    "    \"\"\"\n",
    "    ALLOWED_CLASSES = {\n",
    "        \"Abstract_Expressionism\",\n",
    "        \"Cubism\",\n",
    "        \"Impressionism\",\n",
    "        \"Rococo\",\n",
    "        \"Northern_Renaissance\"\n",
    "    }\n",
    "\n",
    "    def __init__(self, root_dir, transform=None):\n",
    "        self.root_dir = root_dir\n",
    "        self.transform = transform\n",
    "\n",
    "        all_dirs = [\n",
    "            d for d in os.listdir(root_dir)\n",
    "            if os.path.isdir(os.path.join(root_dir, d))\n",
    "        ]\n",
    "\n",
    "        self.classes = sorted(\n",
    "            [d for d in all_dirs if d in self.ALLOWED_CLASSES]\n",
    "        )\n",
    "\n",
    "        self.files = []\n",
    "        for label, cls in enumerate(self.classes):\n",
    "            class_dir = os.path.join(root_dir, cls)\n",
    "            for file_name in os.listdir(class_dir):\n",
    "                file_path = os.path.join(class_dir, file_name)\n",
    "                # Basic check: skip if not a file\n",
    "                if not os.path.isfile(file_path):\n",
    "                    continue\n",
    "                self.files.append((file_path, label))\n",
    "\n",
    "    def __len__(self):\n",
    "        return len(self.files)\n",
    "\n",
    "    def __getitem__(self, idx):\n",
    "        file_path, label = self.files[idx]\n",
    "        try:\n",
    "            image = Image.open(file_path).convert(\"RGB\")\n",
    "        except Exception as e:\n",
    "            raise RuntimeError(f\"Error loading image {file_path}: {e}\")\n",
    "\n",
    "        if self.transform:\n",
    "            image = self.transform(image)\n",
    "\n",
    "        return image, label\n",
    "\n",
    "# Simple CNN Definition\n",
    "\n",
    "class SimpleCNN(nn.Module):\n",
    "    def __init__(self, num_classes=5):\n",
    "        super(SimpleCNN, self).__init__()\n",
    "\n",
    "        # Block 1\n",
    "        self.conv1 = nn.Conv2d(3, 32, kernel_size=3, padding=1)\n",
    "        self.pool1 = nn.MaxPool2d(kernel_size=2, stride=2)\n",
    "        self.dropout1 = nn.Dropout(0.2)\n",
    "\n",
    "        # Block 2\n",
    "        self.conv2 = nn.Conv2d(32, 64, kernel_size=3, padding=1)\n",
    "        self.pool2 = nn.MaxPool2d(kernel_size=2, stride=2)\n",
    "        self.dropout2 = nn.Dropout(0.3)\n",
    "\n",
    "        # Block 3\n",
    "        self.conv3 = nn.Conv2d(64, 128, kernel_size=3, padding=1)\n",
    "        self.pool3 = nn.MaxPool2d(kernel_size=2, stride=2)\n",
    "        self.dropout3 = nn.Dropout(0.4)\n",
    "\n",
    "        self.fc = nn.Linear(128 * 28 * 28, num_classes)\n",
    "\n",
    "    def forward(self, x):\n",
    "        # Block 1\n",
    "        x = torch.relu(self.conv1(x))\n",
    "        x = self.pool1(x)\n",
    "        x = self.dropout1(x)\n",
    "\n",
    "        # Block 2\n",
    "        x = torch.relu(self.conv2(x))\n",
    "        x = self.pool2(x)\n",
    "        x = self.dropout2(x)\n",
    "\n",
    "        # Block 3\n",
    "        x = torch.relu(self.conv3(x))\n",
    "        x = self.pool3(x)\n",
    "        x = self.dropout3(x)\n",
    "\n",
    "        # Flatten\n",
    "        x = x.view(x.size(0), -1)\n",
    "\n",
    "        # Output\n",
    "        x = self.fc(x)\n",
    "        return x\n",
    "\n",
    "# Main Code\n",
    "\n",
    "def main():\n",
    "    data_path = r\"C:\\Users\\yozev\\OneDrive\\Desktop\\artFiltered\"\n",
    "\n",
    "    transform = transforms.Compose([\n",
    "        transforms.Resize(256),\n",
    "        transforms.RandomResizedCrop(224),\n",
    "        transforms.RandomHorizontalFlip(p=0.5),\n",
    "        transforms.RandomRotation(degrees=15),\n",
    "        transforms.ToTensor(),\n",
    "        transforms.Normalize(\n",
    "            mean=[0.485, 0.456, 0.406],\n",
    "            std=[0.229, 0.224, 0.225]\n",
    "        )\n",
    "    ])\n",
    "\n",
    "\n",
    "    print(\"Loading dataset...\")\n",
    "    dataset = WikiArtDataset(root_dir=data_path, transform=transform)\n",
    "    num_classes = len(dataset.classes)\n",
    "    print(\"Classes found:\", dataset.classes)\n",
    "    print(\"Total images in dataset:\", len(dataset))\n",
    "\n",
    "    # If there aren't enough images or the 5 classes do not exist, handle that.\n",
    "    if num_classes < 5:\n",
    "        print(\"Warning: We expected 5 classes, but found\", num_classes)\n",
    "        print(\"Classes:\", dataset.classes)\n",
    "\n",
    "    # Create splits (70% train, 15% val, 15% test for instance)\n",
    "    total_size = len(dataset)\n",
    "    train_size = int(0.7 * total_size)\n",
    "    val_size = int(0.15 * total_size)\n",
    "    test_size = total_size - (train_size + val_size)\n",
    "\n",
    "    train_dataset, val_dataset, test_dataset = random_split(\n",
    "        dataset, [train_size, val_size, test_size]\n",
    "    )\n",
    "\n",
    "    # Dataloaders\n",
    "    batch_size = 32\n",
    "    train_loader = DataLoader(train_dataset, batch_size=batch_size, shuffle=True)\n",
    "    val_loader = DataLoader(val_dataset, batch_size=batch_size, shuffle=False)\n",
    "    test_loader = DataLoader(test_dataset, batch_size=batch_size, shuffle=False)\n",
    "\n",
    "    device = torch.device(\"cuda\" if torch.cuda.is_available() else \"cpu\")\n",
    "    print(f\"Using device: {device}\")\n",
    "\n",
    "    model = SimpleCNN(num_classes=num_classes).to(device)\n",
    "    criterion = nn.CrossEntropyLoss()\n",
    "    optimizer = optim.Adam(model.parameters(), lr=0.001, weight_decay=1e-4)\n",
    "\n",
    "    epochs = 20\n",
    "    train_losses = []\n",
    "    val_losses = []\n",
    "    best_val_loss = float(\"inf\")\n",
    "    best_model_wts = copy.deepcopy(model.state_dict())\n",
    "\n",
    "    print(\"\\nStarting training...\")\n",
    "    for epoch in range(epochs):\n",
    "        model.train()\n",
    "        running_train_loss = 0.0\n",
    "\n",
    "        train_pbar = tqdm(train_loader, desc=f\"Epoch [{epoch+1}/{epochs}] (Train)\")\n",
    "        for images, labels in train_pbar:\n",
    "            images, labels = images.to(device), labels.to(device)\n",
    "\n",
    "            optimizer.zero_grad()\n",
    "            outputs = model(images)\n",
    "            loss = criterion(outputs, labels)\n",
    "            loss.backward()\n",
    "            optimizer.step()\n",
    "\n",
    "            running_train_loss += loss.item()\n",
    "\n",
    "            train_pbar.set_postfix({\n",
    "                \"train_loss\": f\"{running_train_loss / len(train_pbar):.4f}\"\n",
    "            })\n",
    "\n",
    "        avg_train_loss = running_train_loss / len(train_loader)\n",
    "        train_losses.append(avg_train_loss)\n",
    "\n",
    "        model.eval()\n",
    "        running_val_loss = 0.0\n",
    "        correct_val = 0\n",
    "        total_val = 0\n",
    "\n",
    "        with torch.no_grad():\n",
    "            for images, labels in val_loader:\n",
    "                images, labels = images.to(device), labels.to(device)\n",
    "                outputs = model(images)\n",
    "                loss = criterion(outputs, labels)\n",
    "                running_val_loss += loss.item()\n",
    "\n",
    "                _, predicted = torch.max(outputs, 1)\n",
    "                correct_val += (predicted == labels).sum().item()\n",
    "                total_val += labels.size(0)\n",
    "\n",
    "        avg_val_loss = running_val_loss / len(val_loader)\n",
    "        val_accuracy = correct_val / total_val if total_val else 0\n",
    "        val_losses.append(avg_val_loss)\n",
    "\n",
    "        # Print epoch summary (val loss & val acc)\n",
    "        print(f\"Epoch [{epoch+1}/{epochs}] \"\n",
    "              f\"- Train Loss: {avg_train_loss:.4f} \"\n",
    "              f\"| Val Loss: {avg_val_loss:.4f} \"\n",
    "              f\"| Val Acc: {val_accuracy:.4f}\")\n",
    "\n",
    "        # Save best weights\n",
    "        if avg_val_loss < best_val_loss:\n",
    "            best_val_loss = avg_val_loss\n",
    "            best_model_wts = copy.deepcopy(model.state_dict())\n",
    "\n",
    "    # Load best weights\n",
    "    model.load_state_dict(best_model_wts)\n",
    "\n",
    "    plt.figure(figsize=(8, 5))\n",
    "    plt.plot(train_losses, label='Train Loss')\n",
    "    plt.plot(val_losses, label='Val Loss')\n",
    "    plt.title(\"Train & Validation Loss Over Epochs\")\n",
    "    plt.xlabel(\"Epoch\")\n",
    "    plt.ylabel(\"Loss\")\n",
    "    plt.legend()\n",
    "    plt.grid(True)\n",
    "    plt.savefig(\"simple_cnn_train_val_loss.png\")\n",
    "    plt.show()\n",
    "\n",
    "    print(\"\\nEvaluating on the test set...\")\n",
    "    model.eval()\n",
    "    all_preds = []\n",
    "    all_labels = []\n",
    "\n",
    "    with torch.no_grad():\n",
    "        for images, labels in tqdm(test_loader, desc=\"Testing\"):\n",
    "            images, labels = images.to(device), labels.to(device)\n",
    "            outputs = model(images)\n",
    "            _, predicted = torch.max(outputs, 1)\n",
    "            all_preds.extend(predicted.cpu().numpy())\n",
    "            all_labels.extend(labels.cpu().numpy())\n",
    "\n",
    "    test_accuracy = accuracy_score(all_labels, all_preds)\n",
    "    test_precision = precision_score(all_labels, all_preds, average='weighted', zero_division=0)\n",
    "    test_recall = recall_score(all_labels, all_preds, average='weighted', zero_division=0)\n",
    "\n",
    "    print(\"=== Test Results ===\")\n",
    "    print(f\"Accuracy:  {test_accuracy:.4f}\")\n",
    "    print(f\"Precision: {test_precision:.4f}\")\n",
    "    print(f\"Recall:    {test_recall:.4f}\")\n",
    "\n",
    "if __name__ == \"__main__\":\n",
    "    main()\n"
   ],
   "id": "8bbf21d0bbe62e87",
   "outputs": [
    {
     "name": "stdout",
     "output_type": "stream",
     "text": [
      "Loading dataset...\n",
      "Classes found: ['Abstract_Expressionism', 'Cubism', 'Impressionism', 'Northern_Renaissance', 'Rococo']\n",
      "Total images in dataset: 24821\n",
      "Using device: cuda\n",
      "\n",
      "Starting training...\n"
     ]
    },
    {
     "name": "stderr",
     "output_type": "stream",
     "text": [
      "Epoch [1/20] (Train): 100%|██████████| 543/543 [01:37<00:00,  5.55it/s, train_loss=1.4723]\n"
     ]
    },
    {
     "name": "stdout",
     "output_type": "stream",
     "text": [
      "Epoch [1/20] - Train Loss: 1.4723 | Val Loss: 1.3404 | Val Acc: 0.4577\n"
     ]
    },
    {
     "name": "stderr",
     "output_type": "stream",
     "text": [
      "Epoch [2/20] (Train): 100%|██████████| 543/543 [01:37<00:00,  5.59it/s, train_loss=1.2760]\n"
     ]
    },
    {
     "name": "stdout",
     "output_type": "stream",
     "text": [
      "Epoch [2/20] - Train Loss: 1.2760 | Val Loss: 1.2431 | Val Acc: 0.4991\n"
     ]
    },
    {
     "name": "stderr",
     "output_type": "stream",
     "text": [
      "Epoch [3/20] (Train): 100%|██████████| 543/543 [01:37<00:00,  5.59it/s, train_loss=1.2003]\n"
     ]
    },
    {
     "name": "stdout",
     "output_type": "stream",
     "text": [
      "Epoch [3/20] - Train Loss: 1.2003 | Val Loss: 1.1882 | Val Acc: 0.5294\n"
     ]
    },
    {
     "name": "stderr",
     "output_type": "stream",
     "text": [
      "Epoch [4/20] (Train): 100%|██████████| 543/543 [01:32<00:00,  5.87it/s, train_loss=1.1572]\n"
     ]
    },
    {
     "name": "stdout",
     "output_type": "stream",
     "text": [
      "Epoch [4/20] - Train Loss: 1.1572 | Val Loss: 1.1530 | Val Acc: 0.5469\n"
     ]
    },
    {
     "name": "stderr",
     "output_type": "stream",
     "text": [
      "Epoch [5/20] (Train): 100%|██████████| 543/543 [01:33<00:00,  5.81it/s, train_loss=1.1227]\n"
     ]
    },
    {
     "name": "stdout",
     "output_type": "stream",
     "text": [
      "Epoch [5/20] - Train Loss: 1.1227 | Val Loss: 1.1294 | Val Acc: 0.5568\n"
     ]
    },
    {
     "name": "stderr",
     "output_type": "stream",
     "text": [
      "Epoch [6/20] (Train): 100%|██████████| 543/543 [01:28<00:00,  6.13it/s, train_loss=1.0923]\n"
     ]
    },
    {
     "name": "stdout",
     "output_type": "stream",
     "text": [
      "Epoch [6/20] - Train Loss: 1.0923 | Val Loss: 1.1708 | Val Acc: 0.5310\n"
     ]
    },
    {
     "name": "stderr",
     "output_type": "stream",
     "text": [
      "Epoch [7/20] (Train): 100%|██████████| 543/543 [01:30<00:00,  5.98it/s, train_loss=1.0706]\n"
     ]
    },
    {
     "name": "stdout",
     "output_type": "stream",
     "text": [
      "Epoch [7/20] - Train Loss: 1.0706 | Val Loss: 1.0692 | Val Acc: 0.5869\n"
     ]
    },
    {
     "name": "stderr",
     "output_type": "stream",
     "text": [
      "Epoch [8/20] (Train): 100%|██████████| 543/543 [01:44<00:00,  5.18it/s, train_loss=1.0533]\n"
     ]
    },
    {
     "name": "stdout",
     "output_type": "stream",
     "text": [
      "Epoch [8/20] - Train Loss: 1.0533 | Val Loss: 1.1006 | Val Acc: 0.5823\n"
     ]
    },
    {
     "name": "stderr",
     "output_type": "stream",
     "text": [
      "Epoch [9/20] (Train): 100%|██████████| 543/543 [02:21<00:00,  3.83it/s, train_loss=1.0302]\n"
     ]
    },
    {
     "name": "stdout",
     "output_type": "stream",
     "text": [
      "Epoch [9/20] - Train Loss: 1.0302 | Val Loss: 1.0742 | Val Acc: 0.5794\n"
     ]
    },
    {
     "name": "stderr",
     "output_type": "stream",
     "text": [
      "Epoch [10/20] (Train): 100%|██████████| 543/543 [03:25<00:00,  2.64it/s, train_loss=1.0147]\n"
     ]
    },
    {
     "name": "stdout",
     "output_type": "stream",
     "text": [
      "Epoch [10/20] - Train Loss: 1.0147 | Val Loss: 1.1118 | Val Acc: 0.5872\n"
     ]
    },
    {
     "name": "stderr",
     "output_type": "stream",
     "text": [
      "Epoch [11/20] (Train): 100%|██████████| 543/543 [02:26<00:00,  3.72it/s, train_loss=1.0123]\n"
     ]
    },
    {
     "name": "stdout",
     "output_type": "stream",
     "text": [
      "Epoch [11/20] - Train Loss: 1.0123 | Val Loss: 1.0854 | Val Acc: 0.5783\n"
     ]
    },
    {
     "name": "stderr",
     "output_type": "stream",
     "text": [
      "Epoch [12/20] (Train): 100%|██████████| 543/543 [03:09<00:00,  2.87it/s, train_loss=1.0068]\n"
     ]
    },
    {
     "name": "stdout",
     "output_type": "stream",
     "text": [
      "Epoch [12/20] - Train Loss: 1.0068 | Val Loss: 1.1183 | Val Acc: 0.5662\n"
     ]
    },
    {
     "name": "stderr",
     "output_type": "stream",
     "text": [
      "Epoch [13/20] (Train): 100%|██████████| 543/543 [01:50<00:00,  4.90it/s, train_loss=0.9965]\n"
     ]
    },
    {
     "name": "stdout",
     "output_type": "stream",
     "text": [
      "Epoch [13/20] - Train Loss: 0.9965 | Val Loss: 1.0191 | Val Acc: 0.6119\n"
     ]
    },
    {
     "name": "stderr",
     "output_type": "stream",
     "text": [
      "Epoch [14/20] (Train): 100%|██████████| 543/543 [02:24<00:00,  3.77it/s, train_loss=0.9784]\n"
     ]
    },
    {
     "name": "stdout",
     "output_type": "stream",
     "text": [
      "Epoch [14/20] - Train Loss: 0.9784 | Val Loss: 1.0302 | Val Acc: 0.6057\n"
     ]
    },
    {
     "name": "stderr",
     "output_type": "stream",
     "text": [
      "Epoch [15/20] (Train): 100%|██████████| 543/543 [01:42<00:00,  5.29it/s, train_loss=0.9770]\n"
     ]
    },
    {
     "name": "stdout",
     "output_type": "stream",
     "text": [
      "Epoch [15/20] - Train Loss: 0.9770 | Val Loss: 1.0651 | Val Acc: 0.6011\n"
     ]
    },
    {
     "name": "stderr",
     "output_type": "stream",
     "text": [
      "Epoch [16/20] (Train): 100%|██████████| 543/543 [01:51<00:00,  4.88it/s, train_loss=0.9743]\n"
     ]
    },
    {
     "name": "stdout",
     "output_type": "stream",
     "text": [
      "Epoch [16/20] - Train Loss: 0.9743 | Val Loss: 1.0183 | Val Acc: 0.6057\n"
     ]
    },
    {
     "name": "stderr",
     "output_type": "stream",
     "text": [
      "Epoch [17/20] (Train): 100%|██████████| 543/543 [00:56<00:00,  9.62it/s, train_loss=0.9669]\n"
     ]
    },
    {
     "name": "stdout",
     "output_type": "stream",
     "text": [
      "Epoch [17/20] - Train Loss: 0.9669 | Val Loss: 1.0004 | Val Acc: 0.6194\n"
     ]
    },
    {
     "name": "stderr",
     "output_type": "stream",
     "text": [
      "Epoch [18/20] (Train): 100%|██████████| 543/543 [00:55<00:00,  9.87it/s, train_loss=0.9663]\n"
     ]
    },
    {
     "name": "stdout",
     "output_type": "stream",
     "text": [
      "Epoch [18/20] - Train Loss: 0.9663 | Val Loss: 1.0294 | Val Acc: 0.6178\n"
     ]
    },
    {
     "name": "stderr",
     "output_type": "stream",
     "text": [
      "Epoch [19/20] (Train): 100%|██████████| 543/543 [01:02<00:00,  8.66it/s, train_loss=0.9595]\n"
     ]
    },
    {
     "name": "stdout",
     "output_type": "stream",
     "text": [
      "Epoch [19/20] - Train Loss: 0.9595 | Val Loss: 0.9782 | Val Acc: 0.6237\n"
     ]
    },
    {
     "name": "stderr",
     "output_type": "stream",
     "text": [
      "Epoch [20/20] (Train): 100%|██████████| 543/543 [01:11<00:00,  7.55it/s, train_loss=0.9539]\n"
     ]
    },
    {
     "name": "stdout",
     "output_type": "stream",
     "text": [
      "Epoch [20/20] - Train Loss: 0.9539 | Val Loss: 1.0187 | Val Acc: 0.6089\n"
     ]
    },
    {
     "data": {
      "text/plain": [
       "<Figure size 800x500 with 1 Axes>"
      ],
      "image/png": "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"
     },
     "metadata": {},
     "output_type": "display_data"
    },
    {
     "name": "stdout",
     "output_type": "stream",
     "text": [
      "\n",
      "Evaluating on the test set...\n"
     ]
    },
    {
     "name": "stderr",
     "output_type": "stream",
     "text": [
      "Testing: 100%|██████████| 117/117 [00:14<00:00,  8.29it/s]\n"
     ]
    },
    {
     "name": "stdout",
     "output_type": "stream",
     "text": [
      "=== Test Results ===\n",
      "Accuracy:  0.6246\n",
      "Precision: 0.6317\n",
      "Recall:    0.6246\n"
     ]
    }
   ],
   "execution_count": 1
  },
  {
   "metadata": {
    "ExecuteTime": {
     "end_time": "2025-01-12T02:57:50.936264Z",
     "start_time": "2025-01-12T01:44:28.892851Z"
    }
   },
   "cell_type": "code",
   "source": [
    "import os\n",
    "import torch\n",
    "import torch.nn as nn\n",
    "import torch.optim as optim\n",
    "from torch.utils.data import Dataset, DataLoader, random_split\n",
    "from torchvision import transforms\n",
    "from PIL import Image\n",
    "import copy\n",
    "import matplotlib.pyplot as plt\n",
    "from tqdm import tqdm\n",
    "from sklearn.metrics import accuracy_score, precision_score, recall_score\n",
    "\n",
    "\n",
    "class WikiArtDataset(Dataset):\n",
    "    ALLOWED_CLASSES = {\n",
    "        \"Abstract_Expressionism\",\n",
    "        \"Cubism\",\n",
    "        \"Impressionism\",\n",
    "        \"Rococo\",\n",
    "        \"Northern_Renaissance\"\n",
    "    }\n",
    "\n",
    "    def __init__(self, root_dir, transform=None):\n",
    "        self.root_dir = root_dir\n",
    "        self.transform = transform\n",
    "\n",
    "        # Collect classes that exist under root_dir\n",
    "        all_dirs = [\n",
    "            d for d in os.listdir(root_dir)\n",
    "            if os.path.isdir(os.path.join(root_dir, d))\n",
    "        ]\n",
    "\n",
    "        # Filter only the allowed classes\n",
    "        self.classes = sorted(\n",
    "            [d for d in all_dirs if d in self.ALLOWED_CLASSES]\n",
    "        )\n",
    "\n",
    "        # Collect (file_path, class_label) tuples\n",
    "        self.files = []\n",
    "        for label, cls in enumerate(self.classes):\n",
    "            class_dir = os.path.join(root_dir, cls)\n",
    "            for file_name in os.listdir(class_dir):\n",
    "                file_path = os.path.join(class_dir, file_name)\n",
    "                # Basic check: skip if not a file\n",
    "                if not os.path.isfile(file_path):\n",
    "                    continue\n",
    "                self.files.append((file_path, label))\n",
    "\n",
    "    def __len__(self):\n",
    "        return len(self.files)\n",
    "\n",
    "    def __getitem__(self, idx):\n",
    "        file_path, label = self.files[idx]\n",
    "        try:\n",
    "            image = Image.open(file_path).convert(\"RGB\")\n",
    "        except Exception as e:\n",
    "            raise RuntimeError(f\"Error loading image {file_path}: {e}\")\n",
    "\n",
    "        if self.transform:\n",
    "            image = self.transform(image)\n",
    "\n",
    "        return image, label\n",
    "\n",
    "\n",
    "# CNN with BatchNorm to Improve Training\n",
    "class SimpleCNN(nn.Module):\n",
    "    def __init__(self, num_classes=5):\n",
    "        super(SimpleCNN, self).__init__()\n",
    "\n",
    "        # Block 1\n",
    "        self.conv1 = nn.Conv2d(3, 32, kernel_size=3, padding=1)\n",
    "        self.bn1   = nn.BatchNorm2d(32)\n",
    "        self.pool1 = nn.MaxPool2d(kernel_size=2, stride=2)\n",
    "        self.dropout1 = nn.Dropout(0.2)\n",
    "\n",
    "        # Block 2\n",
    "        self.conv2 = nn.Conv2d(32, 64, kernel_size=3, padding=1)\n",
    "        self.bn2   = nn.BatchNorm2d(64)\n",
    "        self.pool2 = nn.MaxPool2d(kernel_size=2, stride=2)\n",
    "        self.dropout2 = nn.Dropout(0.3)\n",
    "\n",
    "        # Block 3\n",
    "        self.conv3 = nn.Conv2d(64, 128, kernel_size=3, padding=1)\n",
    "        self.bn3   = nn.BatchNorm2d(128)\n",
    "        self.pool3 = nn.MaxPool2d(kernel_size=2, stride=2)\n",
    "        self.dropout3 = nn.Dropout(0.4)\n",
    "\n",
    "        self.fc = nn.Linear(128 * 28 * 28, num_classes)\n",
    "\n",
    "    def forward(self, x):\n",
    "        # Block 1\n",
    "        x = self.conv1(x)\n",
    "        x = self.bn1(x)\n",
    "        x = torch.relu(x)\n",
    "        x = self.pool1(x)\n",
    "        x = self.dropout1(x)\n",
    "\n",
    "        # Block 2\n",
    "        x = self.conv2(x)\n",
    "        x = self.bn2(x)\n",
    "        x = torch.relu(x)\n",
    "        x = self.pool2(x)\n",
    "        x = self.dropout2(x)\n",
    "\n",
    "        # Block 3\n",
    "        x = self.conv3(x)\n",
    "        x = self.bn3(x)\n",
    "        x = torch.relu(x)\n",
    "        x = self.pool3(x)\n",
    "        x = self.dropout3(x)\n",
    "\n",
    "        # Flatten\n",
    "        x = x.view(x.size(0), -1)\n",
    "\n",
    "        # Output\n",
    "        x = self.fc(x)\n",
    "        return x\n",
    "\n",
    "\n",
    "# Main Code\n",
    "\n",
    "def main():\n",
    "    data_path = r\"C:\\Users\\yozev\\OneDrive\\Desktop\\artFiltered\"\n",
    "\n",
    "    transform = transforms.Compose([\n",
    "        transforms.Resize(256),\n",
    "        transforms.RandomResizedCrop(224, scale=(0.8, 1.0)),  # zoom in a bit\n",
    "        transforms.RandomHorizontalFlip(p=0.5),\n",
    "        transforms.RandomRotation(degrees=15),\n",
    "        transforms.ColorJitter(\n",
    "            brightness=0.2,\n",
    "            contrast=0.2,\n",
    "            saturation=0.2,\n",
    "            hue=0.05\n",
    "        ),\n",
    "        transforms.ToTensor(),\n",
    "        transforms.Normalize(\n",
    "            mean=[0.485, 0.456, 0.406],\n",
    "            std=[0.229, 0.224, 0.225]\n",
    "        )\n",
    "    ])\n",
    "\n",
    "    print(\"Loading dataset...\")\n",
    "    dataset = WikiArtDataset(root_dir=data_path, transform=transform)\n",
    "    num_classes = len(dataset.classes)\n",
    "    print(\"Classes found:\", dataset.classes)\n",
    "    print(\"Total images in dataset:\", len(dataset))\n",
    "\n",
    "    # If there aren't enough images or the 5 classes do not exist, handle that.\n",
    "    if num_classes < 5:\n",
    "        print(\"Warning: We expected 5 classes, but found\", num_classes)\n",
    "        print(\"Classes:\", dataset.classes)\n",
    "\n",
    "    # Create splits (70% train, 15% val, 15% test for instance)\n",
    "    total_size = len(dataset)\n",
    "    train_size = int(0.7 * total_size)\n",
    "    val_size = int(0.15 * total_size)\n",
    "    test_size = total_size - (train_size + val_size)\n",
    "\n",
    "    train_dataset, val_dataset, test_dataset = random_split(\n",
    "        dataset, [train_size, val_size, test_size]\n",
    "    )\n",
    "\n",
    "    # Dataloaders\n",
    "    batch_size = 32\n",
    "    train_loader = DataLoader(train_dataset, batch_size=batch_size, shuffle=True)\n",
    "    val_loader   = DataLoader(val_dataset, batch_size=batch_size, shuffle=False)\n",
    "    test_loader  = DataLoader(test_dataset, batch_size=batch_size, shuffle=False)\n",
    "\n",
    "\n",
    "    device = torch.device(\"cuda\" if torch.cuda.is_available() else \"cpu\")\n",
    "    print(f\"Using device: {device}\")\n",
    "\n",
    "    model = SimpleCNN(num_classes=num_classes).to(device)\n",
    "    criterion = nn.CrossEntropyLoss()\n",
    "\n",
    "    optimizer = optim.Adam(\n",
    "        model.parameters(),\n",
    "        lr=0.001,\n",
    "        weight_decay=1e-4\n",
    "    )\n",
    "\n",
    "    # Add a learning rate scheduler that reduces LR by 0.1 every 7 epochs\n",
    "    scheduler = optim.lr_scheduler.StepLR(optimizer, step_size=7, gamma=0.1)\n",
    "\n",
    "    # Training Loop\n",
    "    epochs = 25  \n",
    "    train_losses = []\n",
    "    val_losses = []\n",
    "    best_val_loss = float(\"inf\")\n",
    "    best_model_wts = copy.deepcopy(model.state_dict())\n",
    "\n",
    "    print(\"\\nStarting training...\")\n",
    "    for epoch in range(epochs):\n",
    "        model.train()\n",
    "        running_train_loss = 0.0\n",
    "\n",
    "        train_pbar = tqdm(train_loader, desc=f\"Epoch [{epoch+1}/{epochs}] (Train)\")\n",
    "        for images, labels in train_pbar:\n",
    "            images, labels = images.to(device), labels.to(device)\n",
    "\n",
    "            optimizer.zero_grad()\n",
    "            outputs = model(images)\n",
    "            loss = criterion(outputs, labels)\n",
    "            loss.backward()\n",
    "            optimizer.step()\n",
    "\n",
    "            running_train_loss += loss.item()\n",
    "\n",
    "            train_pbar.set_postfix({\n",
    "                \"train_loss\": f\"{running_train_loss / len(train_pbar):.4f}\"\n",
    "            })\n",
    "\n",
    "        avg_train_loss = running_train_loss / len(train_loader)\n",
    "        train_losses.append(avg_train_loss)\n",
    "\n",
    "        # Step the scheduler each epoch\n",
    "        scheduler.step()\n",
    "\n",
    "        model.eval()\n",
    "        running_val_loss = 0.0\n",
    "        correct_val = 0\n",
    "        total_val = 0\n",
    "\n",
    "        with torch.no_grad():\n",
    "            for images, labels in val_loader:\n",
    "                images, labels = images.to(device), labels.to(device)\n",
    "                outputs = model(images)\n",
    "                loss = criterion(outputs, labels)\n",
    "                running_val_loss += loss.item()\n",
    "\n",
    "                _, predicted = torch.max(outputs, 1)\n",
    "                correct_val += (predicted == labels).sum().item()\n",
    "                total_val += labels.size(0)\n",
    "\n",
    "        avg_val_loss = running_val_loss / len(val_loader)\n",
    "        val_accuracy = correct_val / total_val if total_val else 0\n",
    "        val_losses.append(avg_val_loss)\n",
    "\n",
    "        # Print epoch summary (val loss & val acc)\n",
    "        print(f\"Epoch [{epoch+1}/{epochs}] \"\n",
    "              f\"- Train Loss: {avg_train_loss:.4f} \"\n",
    "              f\"| Val Loss: {avg_val_loss:.4f} \"\n",
    "              f\"| Val Acc: {val_accuracy:.4f}\")\n",
    "\n",
    "        # Save best weights\n",
    "        if avg_val_loss < best_val_loss:\n",
    "            best_val_loss = avg_val_loss\n",
    "            best_model_wts = copy.deepcopy(model.state_dict())\n",
    "\n",
    "    # Load best weights\n",
    "    model.load_state_dict(best_model_wts)\n",
    "\n",
    "    # Plot Loss Curves\n",
    "\n",
    "    plt.figure(figsize=(8, 5))\n",
    "    plt.plot(train_losses, label='Train Loss')\n",
    "    plt.plot(val_losses, label='Val Loss')\n",
    "    plt.title(\"Train & Validation Loss Over Epochs\")\n",
    "    plt.xlabel(\"Epoch\")\n",
    "    plt.ylabel(\"Loss\")\n",
    "    plt.legend()\n",
    "    plt.grid(True)\n",
    "    plt.savefig(\"simple_cnn_train_val_loss.png\")\n",
    "    plt.show()\n",
    "\n",
    "    # Testing\n",
    "\n",
    "    print(\"\\nEvaluating on the test set...\")\n",
    "    model.eval()\n",
    "    all_preds = []\n",
    "    all_labels = []\n",
    "\n",
    "    with torch.no_grad():\n",
    "        for images, labels in tqdm(test_loader, desc=\"Testing\"):\n",
    "            images, labels = images.to(device), labels.to(device)\n",
    "            outputs = model(images)\n",
    "            _, predicted = torch.max(outputs, 1)\n",
    "            all_preds.extend(predicted.cpu().numpy())\n",
    "            all_labels.extend(labels.cpu().numpy())\n",
    "\n",
    "    test_accuracy = accuracy_score(all_labels, all_preds)\n",
    "    test_precision = precision_score(all_labels, all_preds, average='weighted', zero_division=0)\n",
    "    test_recall = recall_score(all_labels, all_preds, average='weighted', zero_division=0)\n",
    "\n",
    "    print(\"=== Test Results ===\")\n",
    "    print(f\"Accuracy:  {test_accuracy:.4f}\")\n",
    "    print(f\"Precision: {test_precision:.4f}\")\n",
    "    print(f\"Recall:    {test_recall:.4f}\")\n",
    "\n",
    "if __name__ == \"__main__\":\n",
    "    main()\n"
   ],
   "id": "240039d5549eebd0",
   "outputs": [
    {
     "name": "stdout",
     "output_type": "stream",
     "text": [
      "Loading dataset...\n",
      "Classes found: ['Abstract_Expressionism', 'Cubism', 'Impressionism', 'Northern_Renaissance', 'Rococo']\n",
      "Total images in dataset: 24821\n",
      "Using device: cuda\n",
      "\n",
      "Starting training...\n"
     ]
    },
    {
     "name": "stderr",
     "output_type": "stream",
     "text": [
      "Epoch [1/25] (Train): 100%|██████████| 543/543 [02:22<00:00,  3.82it/s, train_loss=4.2805]\n"
     ]
    },
    {
     "name": "stdout",
     "output_type": "stream",
     "text": [
      "Epoch [1/25] - Train Loss: 4.2805 | Val Loss: 1.4005 | Val Acc: 0.4201\n"
     ]
    },
    {
     "name": "stderr",
     "output_type": "stream",
     "text": [
      "Epoch [2/25] (Train): 100%|██████████| 543/543 [02:20<00:00,  3.87it/s, train_loss=1.4752]\n"
     ]
    },
    {
     "name": "stdout",
     "output_type": "stream",
     "text": [
      "Epoch [2/25] - Train Loss: 1.4752 | Val Loss: 1.2835 | Val Acc: 0.4717\n"
     ]
    },
    {
     "name": "stderr",
     "output_type": "stream",
     "text": [
      "Epoch [3/25] (Train): 100%|██████████| 543/543 [02:20<00:00,  3.87it/s, train_loss=1.2753]\n"
     ]
    },
    {
     "name": "stdout",
     "output_type": "stream",
     "text": [
      "Epoch [3/25] - Train Loss: 1.2753 | Val Loss: 1.1582 | Val Acc: 0.5442\n"
     ]
    },
    {
     "name": "stderr",
     "output_type": "stream",
     "text": [
      "Epoch [4/25] (Train): 100%|██████████| 543/543 [02:19<00:00,  3.88it/s, train_loss=1.1757]\n"
     ]
    },
    {
     "name": "stdout",
     "output_type": "stream",
     "text": [
      "Epoch [4/25] - Train Loss: 1.1757 | Val Loss: 1.1726 | Val Acc: 0.5267\n"
     ]
    },
    {
     "name": "stderr",
     "output_type": "stream",
     "text": [
      "Epoch [5/25] (Train): 100%|██████████| 543/543 [02:20<00:00,  3.88it/s, train_loss=1.1293]\n"
     ]
    },
    {
     "name": "stdout",
     "output_type": "stream",
     "text": [
      "Epoch [5/25] - Train Loss: 1.1293 | Val Loss: 1.1470 | Val Acc: 0.5458\n"
     ]
    },
    {
     "name": "stderr",
     "output_type": "stream",
     "text": [
      "Epoch [6/25] (Train): 100%|██████████| 543/543 [02:19<00:00,  3.88it/s, train_loss=1.0940]\n"
     ]
    },
    {
     "name": "stdout",
     "output_type": "stream",
     "text": [
      "Epoch [6/25] - Train Loss: 1.0940 | Val Loss: 1.1086 | Val Acc: 0.5662\n"
     ]
    },
    {
     "name": "stderr",
     "output_type": "stream",
     "text": [
      "Epoch [7/25] (Train): 100%|██████████| 543/543 [02:20<00:00,  3.86it/s, train_loss=1.0616]\n"
     ]
    },
    {
     "name": "stdout",
     "output_type": "stream",
     "text": [
      "Epoch [7/25] - Train Loss: 1.0616 | Val Loss: 1.0745 | Val Acc: 0.5794\n"
     ]
    },
    {
     "name": "stderr",
     "output_type": "stream",
     "text": [
      "Epoch [8/25] (Train): 100%|██████████| 543/543 [02:20<00:00,  3.87it/s, train_loss=0.9625]\n"
     ]
    },
    {
     "name": "stdout",
     "output_type": "stream",
     "text": [
      "Epoch [8/25] - Train Loss: 0.9625 | Val Loss: 1.0053 | Val Acc: 0.6092\n"
     ]
    },
    {
     "name": "stderr",
     "output_type": "stream",
     "text": [
      "Epoch [9/25] (Train): 100%|██████████| 543/543 [03:35<00:00,  2.53it/s, train_loss=0.9399]\n"
     ]
    },
    {
     "name": "stdout",
     "output_type": "stream",
     "text": [
      "Epoch [9/25] - Train Loss: 0.9399 | Val Loss: 1.0115 | Val Acc: 0.6116\n"
     ]
    },
    {
     "name": "stderr",
     "output_type": "stream",
     "text": [
      "Epoch [10/25] (Train): 100%|██████████| 543/543 [03:05<00:00,  2.93it/s, train_loss=0.9290]\n"
     ]
    },
    {
     "name": "stdout",
     "output_type": "stream",
     "text": [
      "Epoch [10/25] - Train Loss: 0.9290 | Val Loss: 0.9969 | Val Acc: 0.6140\n"
     ]
    },
    {
     "name": "stderr",
     "output_type": "stream",
     "text": [
      "Epoch [11/25] (Train): 100%|██████████| 543/543 [02:20<00:00,  3.86it/s, train_loss=0.9211]\n"
     ]
    },
    {
     "name": "stdout",
     "output_type": "stream",
     "text": [
      "Epoch [11/25] - Train Loss: 0.9211 | Val Loss: 1.0002 | Val Acc: 0.6146\n"
     ]
    },
    {
     "name": "stderr",
     "output_type": "stream",
     "text": [
      "Epoch [12/25] (Train): 100%|██████████| 543/543 [02:19<00:00,  3.88it/s, train_loss=0.9070]\n"
     ]
    },
    {
     "name": "stdout",
     "output_type": "stream",
     "text": [
      "Epoch [12/25] - Train Loss: 0.9070 | Val Loss: 0.9727 | Val Acc: 0.6258\n"
     ]
    },
    {
     "name": "stderr",
     "output_type": "stream",
     "text": [
      "Epoch [13/25] (Train): 100%|██████████| 543/543 [02:20<00:00,  3.87it/s, train_loss=0.9079]\n"
     ]
    },
    {
     "name": "stdout",
     "output_type": "stream",
     "text": [
      "Epoch [13/25] - Train Loss: 0.9079 | Val Loss: 0.9899 | Val Acc: 0.6119\n"
     ]
    },
    {
     "name": "stderr",
     "output_type": "stream",
     "text": [
      "Epoch [14/25] (Train): 100%|██████████| 543/543 [02:20<00:00,  3.87it/s, train_loss=0.8838]\n"
     ]
    },
    {
     "name": "stdout",
     "output_type": "stream",
     "text": [
      "Epoch [14/25] - Train Loss: 0.8838 | Val Loss: 1.0177 | Val Acc: 0.6060\n"
     ]
    },
    {
     "name": "stderr",
     "output_type": "stream",
     "text": [
      "Epoch [15/25] (Train): 100%|██████████| 543/543 [02:20<00:00,  3.87it/s, train_loss=0.8694]\n"
     ]
    },
    {
     "name": "stdout",
     "output_type": "stream",
     "text": [
      "Epoch [15/25] - Train Loss: 0.8694 | Val Loss: 0.9548 | Val Acc: 0.6248\n"
     ]
    },
    {
     "name": "stderr",
     "output_type": "stream",
     "text": [
      "Epoch [16/25] (Train): 100%|██████████| 543/543 [02:20<00:00,  3.87it/s, train_loss=0.8641]\n"
     ]
    },
    {
     "name": "stdout",
     "output_type": "stream",
     "text": [
      "Epoch [16/25] - Train Loss: 0.8641 | Val Loss: 0.9708 | Val Acc: 0.6253\n"
     ]
    },
    {
     "name": "stderr",
     "output_type": "stream",
     "text": [
      "Epoch [17/25] (Train): 100%|██████████| 543/543 [02:21<00:00,  3.85it/s, train_loss=0.8593]\n"
     ]
    },
    {
     "name": "stdout",
     "output_type": "stream",
     "text": [
      "Epoch [17/25] - Train Loss: 0.8593 | Val Loss: 0.9652 | Val Acc: 0.6213\n"
     ]
    },
    {
     "name": "stderr",
     "output_type": "stream",
     "text": [
      "Epoch [18/25] (Train): 100%|██████████| 543/543 [02:20<00:00,  3.88it/s, train_loss=0.8598]\n"
     ]
    },
    {
     "name": "stdout",
     "output_type": "stream",
     "text": [
      "Epoch [18/25] - Train Loss: 0.8598 | Val Loss: 0.9363 | Val Acc: 0.6422\n"
     ]
    },
    {
     "name": "stderr",
     "output_type": "stream",
     "text": [
      "Epoch [19/25] (Train): 100%|██████████| 543/543 [02:20<00:00,  3.87it/s, train_loss=0.8642]\n"
     ]
    },
    {
     "name": "stdout",
     "output_type": "stream",
     "text": [
      "Epoch [19/25] - Train Loss: 0.8642 | Val Loss: 0.9468 | Val Acc: 0.6352\n"
     ]
    },
    {
     "name": "stderr",
     "output_type": "stream",
     "text": [
      "Epoch [20/25] (Train): 100%|██████████| 543/543 [02:20<00:00,  3.86it/s, train_loss=0.8539]\n"
     ]
    },
    {
     "name": "stdout",
     "output_type": "stream",
     "text": [
      "Epoch [20/25] - Train Loss: 0.8539 | Val Loss: 0.9542 | Val Acc: 0.6411\n"
     ]
    },
    {
     "name": "stderr",
     "output_type": "stream",
     "text": [
      "Epoch [21/25] (Train): 100%|██████████| 543/543 [02:20<00:00,  3.86it/s, train_loss=0.8552]\n"
     ]
    },
    {
     "name": "stdout",
     "output_type": "stream",
     "text": [
      "Epoch [21/25] - Train Loss: 0.8552 | Val Loss: 0.9595 | Val Acc: 0.6215\n"
     ]
    },
    {
     "name": "stderr",
     "output_type": "stream",
     "text": [
      "Epoch [22/25] (Train): 100%|██████████| 543/543 [02:19<00:00,  3.88it/s, train_loss=0.8515]\n"
     ]
    },
    {
     "name": "stdout",
     "output_type": "stream",
     "text": [
      "Epoch [22/25] - Train Loss: 0.8515 | Val Loss: 0.9709 | Val Acc: 0.6277\n"
     ]
    },
    {
     "name": "stderr",
     "output_type": "stream",
     "text": [
      "Epoch [23/25] (Train): 100%|██████████| 543/543 [02:21<00:00,  3.84it/s, train_loss=0.8528]\n"
     ]
    },
    {
     "name": "stdout",
     "output_type": "stream",
     "text": [
      "Epoch [23/25] - Train Loss: 0.8528 | Val Loss: 0.9495 | Val Acc: 0.6317\n"
     ]
    },
    {
     "name": "stderr",
     "output_type": "stream",
     "text": [
      "Epoch [24/25] (Train): 100%|██████████| 543/543 [02:20<00:00,  3.86it/s, train_loss=0.8520]\n"
     ]
    },
    {
     "name": "stdout",
     "output_type": "stream",
     "text": [
      "Epoch [24/25] - Train Loss: 0.8520 | Val Loss: 0.9550 | Val Acc: 0.6312\n"
     ]
    },
    {
     "name": "stderr",
     "output_type": "stream",
     "text": [
      "Epoch [25/25] (Train): 100%|██████████| 543/543 [02:20<00:00,  3.88it/s, train_loss=0.8491]\n"
     ]
    },
    {
     "name": "stdout",
     "output_type": "stream",
     "text": [
      "Epoch [25/25] - Train Loss: 0.8491 | Val Loss: 0.9531 | Val Acc: 0.6315\n"
     ]
    },
    {
     "data": {
      "text/plain": [
       "<Figure size 800x500 with 1 Axes>"
      ],
      "image/png": "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"
     },
     "metadata": {},
     "output_type": "display_data"
    },
    {
     "name": "stdout",
     "output_type": "stream",
     "text": [
      "\n",
      "Evaluating on the test set...\n"
     ]
    },
    {
     "name": "stderr",
     "output_type": "stream",
     "text": [
      "Testing: 100%|██████████| 117/117 [00:30<00:00,  3.85it/s]"
     ]
    },
    {
     "name": "stdout",
     "output_type": "stream",
     "text": [
      "=== Test Results ===\n",
      "Accuracy:  0.6313\n",
      "Precision: 0.6523\n",
      "Recall:    0.6313\n"
     ]
    },
    {
     "name": "stderr",
     "output_type": "stream",
     "text": [
      "\n"
     ]
    }
   ],
   "execution_count": 2
  },
  {
   "metadata": {
    "ExecuteTime": {
     "end_time": "2025-01-12T04:52:41.248599Z",
     "start_time": "2025-01-12T02:57:50.984084Z"
    }
   },
   "cell_type": "code",
   "source": [
    "import os\n",
    "import torch\n",
    "import torch.nn as nn\n",
    "import torch.optim as optim\n",
    "from torch.utils.data import Dataset, DataLoader, random_split\n",
    "from torchvision import transforms\n",
    "from PIL import Image\n",
    "import copy\n",
    "import matplotlib.pyplot as plt\n",
    "from tqdm import tqdm\n",
    "from sklearn.metrics import accuracy_score, precision_score, recall_score\n",
    "\n",
    "# Dataset Definition (Only 5 classes)\n",
    "class WikiArtDataset(Dataset):\n",
    "    ALLOWED_CLASSES = {\n",
    "        \"Abstract_Expressionism\",\n",
    "        \"Cubism\",\n",
    "        \"Impressionism\",\n",
    "        \"Rococo\",\n",
    "        \"Northern_Renaissance\"\n",
    "    }\n",
    "\n",
    "    def __init__(self, root_dir, transform=None):\n",
    "        self.root_dir = root_dir\n",
    "        self.transform = transform\n",
    "        all_dirs = [\n",
    "            d for d in os.listdir(root_dir)\n",
    "            if os.path.isdir(os.path.join(root_dir, d))\n",
    "        ]\n",
    "        self.classes = sorted(\n",
    "            [d for d in all_dirs if d in self.ALLOWED_CLASSES]\n",
    "        )\n",
    "        self.files = []\n",
    "        for label, cls in enumerate(self.classes):\n",
    "            class_dir = os.path.join(root_dir, cls)\n",
    "            for file_name in os.listdir(class_dir):\n",
    "                file_path = os.path.join(class_dir, file_name)\n",
    "                if os.path.isfile(file_path):\n",
    "                    self.files.append((file_path, label))\n",
    "\n",
    "    def __len__(self):\n",
    "        return len(self.files)\n",
    "\n",
    "    def __getitem__(self, idx):\n",
    "        file_path, label = self.files[idx]\n",
    "        try:\n",
    "            image = Image.open(file_path).convert(\"RGB\")\n",
    "        except Exception as e:\n",
    "            raise RuntimeError(f\"Error loading image {file_path}: {e}\")\n",
    "\n",
    "        if self.transform:\n",
    "            image = self.transform(image)\n",
    "\n",
    "        return image, label\n",
    "\n",
    "\n",
    "\n",
    "# Deeper CNN Definition\n",
    "\n",
    "class DeeperCNN(nn.Module):\n",
    "    def __init__(self, num_classes=5):\n",
    "        super(DeeperCNN, self).__init__()\n",
    "\n",
    "        # Block 1\n",
    "        self.conv1 = nn.Conv2d(3, 32, kernel_size=3, padding=1)\n",
    "        self.bn1 = nn.BatchNorm2d(32)\n",
    "        self.pool1 = nn.MaxPool2d(kernel_size=2, stride=2)\n",
    "        self.dropout1 = nn.Dropout(0.2)\n",
    "\n",
    "        # Block 2\n",
    "        self.conv2 = nn.Conv2d(32, 64, kernel_size=3, padding=1)\n",
    "        self.bn2 = nn.BatchNorm2d(64)\n",
    "        self.pool2 = nn.MaxPool2d(kernel_size=2, stride=2)\n",
    "        self.dropout2 = nn.Dropout(0.3)\n",
    "\n",
    "        # Block 3\n",
    "        self.conv3 = nn.Conv2d(64, 128, kernel_size=3, padding=1)\n",
    "        self.bn3 = nn.BatchNorm2d(128)\n",
    "        self.pool3 = nn.MaxPool2d(kernel_size=2, stride=2)\n",
    "        self.dropout3 = nn.Dropout(0.4)\n",
    "\n",
    "        # Block 4\n",
    "        self.conv4 = nn.Conv2d(128, 256, kernel_size=3, padding=1)\n",
    "        self.bn4 = nn.BatchNorm2d(256)\n",
    "        self.pool4 = nn.MaxPool2d(kernel_size=2, stride=2)\n",
    "        self.dropout4 = nn.Dropout(0.5)\n",
    "\n",
    "        # Block 5\n",
    "        self.conv5 = nn.Conv2d(256, 512, kernel_size=3, padding=1)\n",
    "        self.bn5 = nn.BatchNorm2d(512)\n",
    "        self.pool5 = nn.MaxPool2d(kernel_size=2, stride=2)\n",
    "        self.dropout5 = nn.Dropout(0.5)\n",
    "\n",
    "        # Fully connected layer\n",
    "        self.fc = nn.Linear(512 * 7 * 7, num_classes) 
    "\n",
    "    def forward(self, x):\n",
    "        # Block 1\n",
    "        x = torch.relu(self.bn1(self.conv1(x)))\n",
    "        x = self.pool1(x)\n",
    "        x = self.dropout1(x)\n",
    "\n",
    "        # Block 2\n",
    "        x = torch.relu(self.bn2(self.conv2(x)))\n",
    "        x = self.pool2(x)\n",
    "        x = self.dropout2(x)\n",
    "\n",
    "        # Block 3\n",
    "        x = torch.relu(self.bn3(self.conv3(x)))\n",
    "        x = self.pool3(x)\n",
    "        x = self.dropout3(x)\n",
    "\n",
    "        # Block 4\n",
    "        x = torch.relu(self.bn4(self.conv4(x)))\n",
    "        x = self.pool4(x)\n",
    "        x = self.dropout4(x)\n",
    "\n",
    "        # Block 5\n",
    "        x = torch.relu(self.bn5(self.conv5(x)))\n",
    "        x = self.pool5(x)\n",
    "        x = self.dropout5(x)\n",
    "\n",
    "        # Flatten\n",
    "        x = x.view(x.size(0), -1)\n",
    "\n",
    "        # Fully connected layer\n",
    "        x = self.fc(x)\n",
    "        return x\n",
    "\n",
    "\n",
    "# Main Code with Early Stopping\n",
    "def main():\n",
    "    data_path = r\"C:\\Users\\yozev\\OneDrive\\Desktop\\artFiltered\"\n",
    "\n",
    "    # Data augmentation\n",
    "    transform = transforms.Compose([\n",
    "        transforms.Resize(256),\n",
    "        transforms.RandomResizedCrop(224, scale=(0.8, 1.0)),\n",
    "        transforms.RandomHorizontalFlip(p=0.5),\n",
    "        transforms.RandomRotation(degrees=15),\n",
    "        transforms.ColorJitter(brightness=0.2, contrast=0.2, saturation=0.2, hue=0.05),\n",
    "        transforms.ToTensor(),\n",
    "        transforms.Normalize(mean=[0.485, 0.456, 0.406], std=[0.229, 0.224, 0.225])\n",
    "    ])\n",
    "\n",
    "    # Dataset and splits\n",
    "    print(\"Loading dataset...\")\n",
    "    dataset = WikiArtDataset(root_dir=data_path, transform=transform)\n",
    "    num_classes = len(dataset.classes)\n",
    "    print(\"Classes found:\", dataset.classes)\n",
    "    print(\"Total images in dataset:\", len(dataset))\n",
    "\n",
    "    total_size = len(dataset)\n",
    "    train_size = int(0.7 * total_size)\n",
    "    val_size = int(0.15 * total_size)\n",
    "    test_size = total_size - train_size - val_size\n",
    "\n",
    "    train_dataset, val_dataset, test_dataset = random_split(\n",
    "        dataset, [train_size, val_size, test_size]\n",
    "    )\n",
    "\n",
    "    batch_size = 32\n",
    "    train_loader = DataLoader(train_dataset, batch_size=batch_size, shuffle=True)\n",
    "    val_loader = DataLoader(val_dataset, batch_size=batch_size, shuffle=False)\n",
    "    test_loader = DataLoader(test_dataset, batch_size=batch_size, shuffle=False)\n",
    "\n",
    "    device = torch.device(\"cuda\" if torch.cuda.is_available() else \"cpu\")\n",
    "    print(f\"Using device: {device}\")\n",
    "\n",
    "    # Model, loss, optimizer, scheduler\n",
    "    model = DeeperCNN(num_classes=num_classes).to(device)\n",
    "    criterion = nn.CrossEntropyLoss()\n",
    "    optimizer = optim.Adam(model.parameters(), lr=0.001, weight_decay=1e-4)\n",
    "    scheduler = optim.lr_scheduler.StepLR(optimizer, step_size=10, gamma=0.1)\n",
    "\n",
    "    epochs = 50\n",
    "    patience = 10  \n",
    "    best_val_loss = float(\"inf\")\n",
    "    best_model_wts = copy.deepcopy(model.state_dict())\n",
    "    no_improvement_epochs = 0\n",
    "\n",
    "    train_losses = []\n",
    "    val_losses = []\n",
    "\n",
    "    print(\"\\nStarting training...\")\n",
    "    for epoch in range(epochs):\n",
    "        # Training\n",
    "        model.train()\n",
    "        running_train_loss = 0.0\n",
    "        train_pbar = tqdm(train_loader, desc=f\"Epoch [{epoch+1}/{epochs}] (Train)\")\n",
    "        for images, labels in train_pbar:\n",
    "            images, labels = images.to(device), labels.to(device)\n",
    "\n",
    "            optimizer.zero_grad()\n",
    "            outputs = model(images)\n",
    "            loss = criterion(outputs, labels)\n",
    "            loss.backward()\n",
    "            optimizer.step()\n",
    "\n",
    "            running_train_loss += loss.item()\n",
    "            train_pbar.set_postfix({\"train_loss\": f\"{running_train_loss / len(train_pbar):.4f}\"})\n",
    "\n",
    "        avg_train_loss = running_train_loss / len(train_loader)\n",
    "        train_losses.append(avg_train_loss)\n",
    "\n",
    "        # Validation\n",
    "        model.eval()\n",
    "        running_val_loss = 0.0\n",
    "        correct_val = 0\n",
    "        total_val = 0\n",
    "\n",
    "        with torch.no_grad():\n",
    "            for images, labels in val_loader:\n",
    "                images, labels = images.to(device), labels.to(device)\n",
    "                outputs = model(images)\n",
    "                loss = criterion(outputs, labels)\n",
    "                running_val_loss += loss.item()\n",
    "\n",
    "                _, predicted = torch.max(outputs, 1)\n",
    "                correct_val += (predicted == labels).sum().item()\n",
    "                total_val += labels.size(0)\n",
    "\n",
    "        avg_val_loss = running_val_loss / len(val_loader)\n",
    "        val_accuracy = correct_val / total_val\n",
    "        val_losses.append(avg_val_loss)\n",
    "\n",
    "        print(f\"Epoch [{epoch+1}/{epochs}] \"\n",
    "              f\"- Train Loss: {avg_train_loss:.4f} \"\n",
    "              f\"| Val Loss: {avg_val_loss:.4f} \"\n",
    "              f\"| Val Acc: {val_accuracy:.4f}\")\n",
    "\n",
    "        # Early stopping check\n",
    "        if avg_val_loss < best_val_loss:\n",
    "            best_val_loss = avg_val_loss\n",
    "            best_model_wts = copy.deepcopy(model.state_dict())\n",
    "            no_improvement_epochs = 0\n",
    "        else:\n",
    "            no_improvement_epochs += 1\n",
    "            if no_improvement_epochs >= patience:\n",
    "                print(f\"Early stopping triggered at epoch {epoch+1}\")\n",
    "                break\n",
    "\n",
    "        scheduler.step()\n",
    "\n",
    "    # Load best weights\n",
    "    model.load_state_dict(best_model_wts)\n",
    "\n",
    "    # Plot loss curves\n",
    "    plt.figure(figsize=(8, 5))\n",
    "    plt.plot(train_losses, label='Train Loss')\n",
    "    plt.plot(val_losses, label='Val Loss')\n",
    "    plt.title(\"Train & Validation Loss Over Epochs\")\n",
    "    plt.xlabel(\"Epoch\")\n",
    "    plt.ylabel(\"Loss\")\n",
    "    plt.legend()\n",
    "    plt.grid(True)\n",
    "    plt.savefig(\"deeper_cnn_train_val_loss.png\")\n",
    "    plt.show()\n",
    "\n",
    "    # Testing\n",
    "    print(\"\\nEvaluating on the test set...\")\n",
    "    model.eval()\n",
    "    all_preds = []\n",
    "    all_labels = []\n",
    "\n",
    "    with torch.no_grad():\n",
    "        for images, labels in tqdm(test_loader, desc=\"Testing\"):\n",
    "            images, labels = images.to(device), labels.to(device)\n",
    "            outputs = model(images)\n",
    "            _, predicted = torch.max(outputs, 1)\n",
    "            all_preds.extend(predicted.cpu().numpy())\n",
    "            all_labels.extend(labels.cpu().numpy())\n",
    "\n",
    "    test_accuracy = accuracy_score(all_labels, all_preds)\n",
    "    test_precision = precision_score(all_labels, all_preds, average='weighted', zero_division=0)\n",
    "    test_recall = recall_score(all_labels, all_preds, average='weighted', zero_division=0)\n",
    "\n",
    "    print(\"=== Test Results ===\")\n",
    "    print(f\"Accuracy:  {test_accuracy:.4f}\")\n",
    "    print(f\"Precision: {test_precision:.4f}\")\n",
    "    print(f\"Recall:    {test_recall:.4f}\")\n",
    "\n",
    "\n",
    "if __name__ == \"__main__\":\n",
    "    main()\n"
   ],
   "id": "f95d45a4b62c58ba",
   "outputs": [
    {
     "name": "stdout",
     "output_type": "stream",
     "text": [
      "Loading dataset...\n",
      "Classes found: ['Abstract_Expressionism', 'Cubism', 'Impressionism', 'Northern_Renaissance', 'Rococo']\n",
      "Total images in dataset: 24821\n",
      "Using device: cuda\n",
      "\n",
      "Starting training...\n"
     ]
    },
    {
     "name": "stderr",
     "output_type": "stream",
     "text": [
      "Epoch [1/50] (Train): 100%|██████████| 543/543 [02:23<00:00,  3.80it/s, train_loss=2.9802]\n"
     ]
    },
    {
     "name": "stdout",
     "output_type": "stream",
     "text": [
      "Epoch [1/50] - Train Loss: 2.9802 | Val Loss: 2.3446 | Val Acc: 0.3551\n"
     ]
    },
    {
     "name": "stderr",
     "output_type": "stream",
     "text": [
      "Epoch [2/50] (Train): 100%|██████████| 543/543 [02:22<00:00,  3.80it/s, train_loss=2.3159]\n"
     ]
    },
    {
     "name": "stdout",
     "output_type": "stream",
     "text": [
      "Epoch [2/50] - Train Loss: 2.3159 | Val Loss: 1.7667 | Val Acc: 0.4056\n"
     ]
    },
    {
     "name": "stderr",
     "output_type": "stream",
     "text": [
      "Epoch [3/50] (Train): 100%|██████████| 543/543 [02:22<00:00,  3.81it/s, train_loss=1.6376]\n"
     ]
    },
    {
     "name": "stdout",
     "output_type": "stream",
     "text": [
      "Epoch [3/50] - Train Loss: 1.6376 | Val Loss: 1.2643 | Val Acc: 0.4958\n"
     ]
    },
    {
     "name": "stderr",
     "output_type": "stream",
     "text": [
      "Epoch [4/50] (Train): 100%|██████████| 543/543 [02:22<00:00,  3.81it/s, train_loss=1.3248]\n"
     ]
    },
    {
     "name": "stdout",
     "output_type": "stream",
     "text": [
      "Epoch [4/50] - Train Loss: 1.3248 | Val Loss: 1.1765 | Val Acc: 0.5364\n"
     ]
    },
    {
     "name": "stderr",
     "output_type": "stream",
     "text": [
      "Epoch [5/50] (Train): 100%|██████████| 543/543 [02:22<00:00,  3.81it/s, train_loss=1.1628]\n"
     ]
    },
    {
     "name": "stdout",
     "output_type": "stream",
     "text": [
      "Epoch [5/50] - Train Loss: 1.1628 | Val Loss: 1.0414 | Val Acc: 0.5960\n"
     ]
    },
    {
     "name": "stderr",
     "output_type": "stream",
     "text": [
      "Epoch [6/50] (Train): 100%|██████████| 543/543 [02:22<00:00,  3.80it/s, train_loss=1.0666]\n"
     ]
    },
    {
     "name": "stdout",
     "output_type": "stream",
     "text": [
      "Epoch [6/50] - Train Loss: 1.0666 | Val Loss: 0.9837 | Val Acc: 0.6352\n"
     ]
    },
    {
     "name": "stderr",
     "output_type": "stream",
     "text": [
      "Epoch [7/50] (Train): 100%|██████████| 543/543 [02:22<00:00,  3.81it/s, train_loss=1.0130]\n"
     ]
    },
    {
     "name": "stdout",
     "output_type": "stream",
     "text": [
      "Epoch [7/50] - Train Loss: 1.0130 | Val Loss: 0.9868 | Val Acc: 0.6221\n"
     ]
    },
    {
     "name": "stderr",
     "output_type": "stream",
     "text": [
      "Epoch [8/50] (Train): 100%|██████████| 543/543 [02:22<00:00,  3.81it/s, train_loss=0.9822]\n"
     ]
    },
    {
     "name": "stdout",
     "output_type": "stream",
     "text": [
      "Epoch [8/50] - Train Loss: 0.9822 | Val Loss: 0.9402 | Val Acc: 0.6446\n"
     ]
    },
    {
     "name": "stderr",
     "output_type": "stream",
     "text": [
      "Epoch [9/50] (Train): 100%|██████████| 543/543 [02:22<00:00,  3.81it/s, train_loss=0.9471]\n"
     ]
    },
    {
     "name": "stdout",
     "output_type": "stream",
     "text": [
      "Epoch [9/50] - Train Loss: 0.9471 | Val Loss: 0.9411 | Val Acc: 0.6320\n"
     ]
    },
    {
     "name": "stderr",
     "output_type": "stream",
     "text": [
      "Epoch [10/50] (Train): 100%|██████████| 543/543 [02:22<00:00,  3.80it/s, train_loss=0.9289]\n"
     ]
    },
    {
     "name": "stdout",
     "output_type": "stream",
     "text": [
      "Epoch [10/50] - Train Loss: 0.9289 | Val Loss: 0.9380 | Val Acc: 0.6382\n"
     ]
    },
    {
     "name": "stderr",
     "output_type": "stream",
     "text": [
      "Epoch [11/50] (Train): 100%|██████████| 543/543 [02:22<00:00,  3.82it/s, train_loss=0.8328]\n"
     ]
    },
    {
     "name": "stdout",
     "output_type": "stream",
     "text": [
      "Epoch [11/50] - Train Loss: 0.8328 | Val Loss: 0.8579 | Val Acc: 0.6696\n"
     ]
    },
    {
     "name": "stderr",
     "output_type": "stream",
     "text": [
      "Epoch [12/50] (Train): 100%|██████████| 543/543 [02:22<00:00,  3.81it/s, train_loss=0.8084]\n"
     ]
    },
    {
     "name": "stdout",
     "output_type": "stream",
     "text": [
      "Epoch [12/50] - Train Loss: 0.8084 | Val Loss: 0.8225 | Val Acc: 0.6868\n"
     ]
    },
    {
     "name": "stderr",
     "output_type": "stream",
     "text": [
      "Epoch [13/50] (Train): 100%|██████████| 543/543 [02:22<00:00,  3.81it/s, train_loss=0.7964]\n"
     ]
    },
    {
     "name": "stdout",
     "output_type": "stream",
     "text": [
      "Epoch [13/50] - Train Loss: 0.7964 | Val Loss: 0.8174 | Val Acc: 0.6916\n"
     ]
    },
    {
     "name": "stderr",
     "output_type": "stream",
     "text": [
      "Epoch [14/50] (Train): 100%|██████████| 543/543 [02:22<00:00,  3.82it/s, train_loss=0.7854]\n"
     ]
    },
    {
     "name": "stdout",
     "output_type": "stream",
     "text": [
      "Epoch [14/50] - Train Loss: 0.7854 | Val Loss: 0.8373 | Val Acc: 0.6836\n"
     ]
    },
    {
     "name": "stderr",
     "output_type": "stream",
     "text": [
      "Epoch [15/50] (Train): 100%|██████████| 543/543 [02:22<00:00,  3.82it/s, train_loss=0.7688]\n"
     ]
    },
    {
     "name": "stdout",
     "output_type": "stream",
     "text": [
      "Epoch [15/50] - Train Loss: 0.7688 | Val Loss: 0.8162 | Val Acc: 0.6860\n"
     ]
    },
    {
     "name": "stderr",
     "output_type": "stream",
     "text": [
      "Epoch [16/50] (Train): 100%|██████████| 543/543 [02:22<00:00,  3.81it/s, train_loss=0.7592]\n"
     ]
    },
    {
     "name": "stdout",
     "output_type": "stream",
     "text": [
      "Epoch [16/50] - Train Loss: 0.7592 | Val Loss: 0.8449 | Val Acc: 0.6782\n"
     ]
    },
    {
     "name": "stderr",
     "output_type": "stream",
     "text": [
      "Epoch [17/50] (Train): 100%|██████████| 543/543 [02:22<00:00,  3.81it/s, train_loss=0.7544]\n"
     ]
    },
    {
     "name": "stdout",
     "output_type": "stream",
     "text": [
      "Epoch [17/50] - Train Loss: 0.7544 | Val Loss: 0.8123 | Val Acc: 0.6865\n"
     ]
    },
    {
     "name": "stderr",
     "output_type": "stream",
     "text": [
      "Epoch [18/50] (Train): 100%|██████████| 543/543 [02:22<00:00,  3.81it/s, train_loss=0.7538]\n"
     ]
    },
    {
     "name": "stdout",
     "output_type": "stream",
     "text": [
      "Epoch [18/50] - Train Loss: 0.7538 | Val Loss: 0.8561 | Val Acc: 0.6761\n"
     ]
    },
    {
     "name": "stderr",
     "output_type": "stream",
     "text": [
      "Epoch [19/50] (Train): 100%|██████████| 543/543 [02:22<00:00,  3.81it/s, train_loss=0.7413]\n"
     ]
    },
    {
     "name": "stdout",
     "output_type": "stream",
     "text": [
      "Epoch [19/50] - Train Loss: 0.7413 | Val Loss: 0.8058 | Val Acc: 0.6949\n"
     ]
    },
    {
     "name": "stderr",
     "output_type": "stream",
     "text": [
      "Epoch [20/50] (Train): 100%|██████████| 543/543 [02:22<00:00,  3.81it/s, train_loss=0.7439]\n"
     ]
    },
    {
     "name": "stdout",
     "output_type": "stream",
     "text": [
      "Epoch [20/50] - Train Loss: 0.7439 | Val Loss: 0.8182 | Val Acc: 0.6967\n"
     ]
    },
    {
     "name": "stderr",
     "output_type": "stream",
     "text": [
      "Epoch [21/50] (Train): 100%|██████████| 543/543 [02:22<00:00,  3.81it/s, train_loss=0.7308]\n"
     ]
    },
    {
     "name": "stdout",
     "output_type": "stream",
     "text": [
      "Epoch [21/50] - Train Loss: 0.7308 | Val Loss: 0.8033 | Val Acc: 0.6930\n"
     ]
    },
    {
     "name": "stderr",
     "output_type": "stream",
     "text": [
      "Epoch [22/50] (Train): 100%|██████████| 543/543 [02:22<00:00,  3.81it/s, train_loss=0.7159]\n"
     ]
    },
    {
     "name": "stdout",
     "output_type": "stream",
     "text": [
      "Epoch [22/50] - Train Loss: 0.7159 | Val Loss: 0.8012 | Val Acc: 0.6965\n"
     ]
    },
    {
     "name": "stderr",
     "output_type": "stream",
     "text": [
      "Epoch [23/50] (Train): 100%|██████████| 543/543 [02:22<00:00,  3.82it/s, train_loss=0.7121]\n"
     ]
    },
    {
     "name": "stdout",
     "output_type": "stream",
     "text": [
      "Epoch [23/50] - Train Loss: 0.7121 | Val Loss: 0.7690 | Val Acc: 0.7078\n"
     ]
    },
    {
     "name": "stderr",
     "output_type": "stream",
     "text": [
      "Epoch [24/50] (Train): 100%|██████████| 543/543 [02:22<00:00,  3.81it/s, train_loss=0.7123]\n"
     ]
    },
    {
     "name": "stdout",
     "output_type": "stream",
     "text": [
      "Epoch [24/50] - Train Loss: 0.7123 | Val Loss: 0.7925 | Val Acc: 0.6967\n"
     ]
    },
    {
     "name": "stderr",
     "output_type": "stream",
     "text": [
      "Epoch [25/50] (Train): 100%|██████████| 543/543 [02:22<00:00,  3.81it/s, train_loss=0.7148]\n"
     ]
    },
    {
     "name": "stdout",
     "output_type": "stream",
     "text": [
      "Epoch [25/50] - Train Loss: 0.7148 | Val Loss: 0.7993 | Val Acc: 0.7016\n"
     ]
    },
    {
     "name": "stderr",
     "output_type": "stream",
     "text": [
      "Epoch [26/50] (Train): 100%|██████████| 543/543 [02:22<00:00,  3.82it/s, train_loss=0.7120]\n"
     ]
    },
    {
     "name": "stdout",
     "output_type": "stream",
     "text": [
      "Epoch [26/50] - Train Loss: 0.7120 | Val Loss: 0.8046 | Val Acc: 0.6984\n"
     ]
    },
    {
     "name": "stderr",
     "output_type": "stream",
     "text": [
      "Epoch [27/50] (Train): 100%|██████████| 543/543 [02:22<00:00,  3.82it/s, train_loss=0.7069]\n"
     ]
    },
    {
     "name": "stdout",
     "output_type": "stream",
     "text": [
      "Epoch [27/50] - Train Loss: 0.7069 | Val Loss: 0.7943 | Val Acc: 0.6954\n"
     ]
    },
    {
     "name": "stderr",
     "output_type": "stream",
     "text": [
      "Epoch [28/50] (Train): 100%|██████████| 543/543 [02:22<00:00,  3.81it/s, train_loss=0.7049]\n"
     ]
    },
    {
     "name": "stdout",
     "output_type": "stream",
     "text": [
      "Epoch [28/50] - Train Loss: 0.7049 | Val Loss: 0.8178 | Val Acc: 0.6935\n"
     ]
    },
    {
     "name": "stderr",
     "output_type": "stream",
     "text": [
      "Epoch [29/50] (Train): 100%|██████████| 543/543 [02:22<00:00,  3.82it/s, train_loss=0.7124]\n"
     ]
    },
    {
     "name": "stdout",
     "output_type": "stream",
     "text": [
      "Epoch [29/50] - Train Loss: 0.7124 | Val Loss: 0.8048 | Val Acc: 0.7016\n"
     ]
    },
    {
     "name": "stderr",
     "output_type": "stream",
     "text": [
      "Epoch [30/50] (Train): 100%|██████████| 543/543 [02:22<00:00,  3.81it/s, train_loss=0.7109]\n"
     ]
    },
    {
     "name": "stdout",
     "output_type": "stream",
     "text": [
      "Epoch [30/50] - Train Loss: 0.7109 | Val Loss: 0.7643 | Val Acc: 0.7102\n"
     ]
    },
    {
     "name": "stderr",
     "output_type": "stream",
     "text": [
      "Epoch [31/50] (Train): 100%|██████████| 543/543 [02:22<00:00,  3.81it/s, train_loss=0.6972]\n"
     ]
    },
    {
     "name": "stdout",
     "output_type": "stream",
     "text": [
      "Epoch [31/50] - Train Loss: 0.6972 | Val Loss: 0.7880 | Val Acc: 0.7059\n"
     ]
    },
    {
     "name": "stderr",
     "output_type": "stream",
     "text": [
      "Epoch [32/50] (Train): 100%|██████████| 543/543 [02:22<00:00,  3.82it/s, train_loss=0.7052]\n"
     ]
    },
    {
     "name": "stdout",
     "output_type": "stream",
     "text": [
      "Epoch [32/50] - Train Loss: 0.7052 | Val Loss: 0.7872 | Val Acc: 0.6989\n"
     ]
    },
    {
     "name": "stderr",
     "output_type": "stream",
     "text": [
      "Epoch [33/50] (Train): 100%|██████████| 543/543 [02:21<00:00,  3.83it/s, train_loss=0.7032]\n"
     ]
    },
    {
     "name": "stdout",
     "output_type": "stream",
     "text": [
      "Epoch [33/50] - Train Loss: 0.7032 | Val Loss: 0.7940 | Val Acc: 0.7027\n"
     ]
    },
    {
     "name": "stderr",
     "output_type": "stream",
     "text": [
      "Epoch [34/50] (Train): 100%|██████████| 543/543 [02:22<00:00,  3.82it/s, train_loss=0.6999]\n"
     ]
    },
    {
     "name": "stdout",
     "output_type": "stream",
     "text": [
      "Epoch [34/50] - Train Loss: 0.6999 | Val Loss: 0.7868 | Val Acc: 0.6973\n"
     ]
    },
    {
     "name": "stderr",
     "output_type": "stream",
     "text": [
      "Epoch [35/50] (Train): 100%|██████████| 543/543 [02:22<00:00,  3.82it/s, train_loss=0.7084]\n"
     ]
    },
    {
     "name": "stdout",
     "output_type": "stream",
     "text": [
      "Epoch [35/50] - Train Loss: 0.7084 | Val Loss: 0.7930 | Val Acc: 0.6976\n"
     ]
    },
    {
     "name": "stderr",
     "output_type": "stream",
     "text": [
      "Epoch [36/50] (Train): 100%|██████████| 543/543 [02:21<00:00,  3.83it/s, train_loss=0.7068]\n"
     ]
    },
    {
     "name": "stdout",
     "output_type": "stream",
     "text": [
      "Epoch [36/50] - Train Loss: 0.7068 | Val Loss: 0.7850 | Val Acc: 0.7016\n"
     ]
    },
    {
     "name": "stderr",
     "output_type": "stream",
     "text": [
      "Epoch [37/50] (Train): 100%|██████████| 543/543 [02:22<00:00,  3.81it/s, train_loss=0.7097]\n"
     ]
    },
    {
     "name": "stdout",
     "output_type": "stream",
     "text": [
      "Epoch [37/50] - Train Loss: 0.7097 | Val Loss: 0.7846 | Val Acc: 0.7021\n"
     ]
    },
    {
     "name": "stderr",
     "output_type": "stream",
     "text": [
      "Epoch [38/50] (Train): 100%|██████████| 543/543 [02:22<00:00,  3.82it/s, train_loss=0.7045]\n"
     ]
    },
    {
     "name": "stdout",
     "output_type": "stream",
     "text": [
      "Epoch [38/50] - Train Loss: 0.7045 | Val Loss: 0.7972 | Val Acc: 0.6992\n"
     ]
    },
    {
     "name": "stderr",
     "output_type": "stream",
     "text": [
      "Epoch [39/50] (Train): 100%|██████████| 543/543 [02:22<00:00,  3.82it/s, train_loss=0.7012]\n"
     ]
    },
    {
     "name": "stdout",
     "output_type": "stream",
     "text": [
      "Epoch [39/50] - Train Loss: 0.7012 | Val Loss: 0.8139 | Val Acc: 0.6919\n"
     ]
    },
    {
     "name": "stderr",
     "output_type": "stream",
     "text": [
      "Epoch [40/50] (Train): 100%|██████████| 543/543 [02:22<00:00,  3.82it/s, train_loss=0.7038]\n"
     ]
    },
    {
     "name": "stdout",
     "output_type": "stream",
     "text": [
      "Epoch [40/50] - Train Loss: 0.7038 | Val Loss: 0.7795 | Val Acc: 0.7072\n",
      "Early stopping triggered at epoch 40\n"
     ]
    },
    {
     "data": {
      "text/plain": [
       "<Figure size 800x500 with 1 Axes>"
      ],
      "image/png": "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"
     },
     "metadata": {},
     "output_type": "display_data"
    },
    {
     "name": "stdout",
     "output_type": "stream",
     "text": [
      "\n",
      "Evaluating on the test set...\n"
     ]
    },
    {
     "name": "stderr",
     "output_type": "stream",
     "text": [
      "Testing: 100%|██████████| 117/117 [00:30<00:00,  3.85it/s]"
     ]
    },
    {
     "name": "stdout",
     "output_type": "stream",
     "text": [
      "=== Test Results ===\n",
      "Accuracy:  0.7127\n",
      "Precision: 0.7274\n",
      "Recall:    0.7127\n"
     ]
    },
    {
     "name": "stderr",
     "output_type": "stream",
     "text": [
      "\n"
     ]
    }
   ],
   "execution_count": 3
  },
  {
   "metadata": {
    "ExecuteTime": {
     "end_time": "2025-01-12T22:04:20.651247Z",
     "start_time": "2025-01-12T17:41:48.448958Z"
    }
   },
   "cell_type": "code",
   "source": [
    "import os\n",
    "import torch\n",
    "import torch.nn as nn\n",
    "import torch.optim as optim\n",
    "from torch.utils.data import Dataset, DataLoader, random_split\n",
    "from torchvision import transforms, models\n",
    "from PIL import Image\n",
    "import copy\n",
    "import matplotlib.pyplot as plt\n",
    "from tqdm import tqdm\n",
    "from sklearn.metrics import accuracy_score, precision_score, recall_score\n",
    "\n",
    "#  Dataset Definition (Only 5 classes)\n",
    "class WikiArtDataset(Dataset):\n",
    "    ALLOWED_CLASSES = {\n",
    "        \"Abstract_Expressionism\",\n",
    "        \"Cubism\",\n",
    "        \"Impressionism\",\n",
    "        \"Rococo\",\n",
    "        \"Northern_Renaissance\"\n",
    "    }\n",
    "\n",
    "    def __init__(self, root_dir, transform=None):\n",
    "        self.root_dir = root_dir\n",
    "        self.transform = transform\n",
    "        all_dirs = [\n",
    "            d for d in os.listdir(root_dir)\n",
    "            if os.path.isdir(os.path.join(root_dir, d))\n",
    "        ]\n",
    "        self.classes = sorted(\n",
    "            [d for d in all_dirs if d in self.ALLOWED_CLASSES]\n",
    "        )\n",
    "        self.files = []\n",
    "        for label, cls in enumerate(self.classes):\n",
    "            class_dir = os.path.join(root_dir, cls)\n",
    "            for file_name in os.listdir(class_dir):\n",
    "                file_path = os.path.join(class_dir, file_name)\n",
    "                if os.path.isfile(file_path):\n",
    "                    self.files.append((file_path, label))\n",
    "\n",
    "    def __len__(self):\n",
    "        return len(self.files)\n",
    "\n",
    "    def __getitem__(self, idx):\n",
    "        file_path, label = self.files[idx]\n",
    "        try:\n",
    "            image = Image.open(file_path).convert(\"RGB\")\n",
    "        except Exception as e:\n",
    "            raise RuntimeError(f\"Error loading image {file_path}: {e}\")\n",
    "\n",
    "        if self.transform:\n",
    "            image = self.transform(image)\n",
    "\n",
    "        return image, label\n",
    "\n",
    "# Model Definition: Pretrained ResNet with Fine-Tuning\n",
    "class FineTunedResNet(nn.Module):\n",
    "    def __init__(self, num_classes=5):\n",
    "        super(FineTunedResNet, self).__init__()\n",
    "        self.backbone = models.resnet50(weights=\"IMAGENET1K_V1\")\n",
    "        self.backbone.fc = nn.Sequential(\n",
    "            nn.Dropout(0.3),\n",
    "            nn.Linear(self.backbone.fc.in_features, num_classes)\n",
    "        )\n",
    "\n",
    "    def forward(self, x):\n",
    "        return self.backbone(x)\n",
    "\n",
    "# Training and Evaluation Functions\n",
    "def train_and_evaluate(data_path, num_classes):\n",
    "    # Data Augmentation\n",
    "    transform = transforms.Compose([\n",
    "        transforms.Resize(256),\n",
    "        transforms.RandomResizedCrop(224, scale=(0.8, 1.0)),\n",
    "        transforms.RandomHorizontalFlip(p=0.5),\n",
    "        transforms.RandomRotation(degrees=15),\n",
    "        transforms.ColorJitter(brightness=0.2, contrast=0.2, saturation=0.2, hue=0.05),\n",
    "        transforms.ToTensor(),\n",
    "        transforms.Normalize(mean=[0.485, 0.456, 0.406], std=[0.229, 0.224, 0.225])\n",
    "    ])\n",
    "\n",
    "    # Load dataset\n",
    "    dataset = WikiArtDataset(root_dir=data_path, transform=transform)\n",
    "    print(f\"Total images in dataset: {len(dataset)}\")\n",
    "    print(f\"Classes found: {dataset.classes}\")\n",
    "\n",
    "    # Split dataset into train, validation, and test\n",
    "    total_size = len(dataset)\n",
    "    test_size = int(0.15 * total_size)\n",
    "    val_size = int(0.15 * total_size)\n",
    "    train_size = total_size - test_size - val_size\n",
    "    train_dataset, val_dataset, test_dataset = random_split(dataset, [train_size, val_size, test_size])\n",
    "\n",
    "    train_loader = DataLoader(train_dataset, batch_size=16, shuffle=True)\n",
    "    val_loader = DataLoader(val_dataset, batch_size=16, shuffle=False)\n",
    "    test_loader = DataLoader(test_dataset, batch_size=16, shuffle=False)\n",
    "\n",
    "    # Device setup\n",
    "    device = torch.device(\"cuda\" if torch.cuda.is_available() else \"cpu\")\n",
    "    model = FineTunedResNet(num_classes=num_classes).to(device)\n",
    "    criterion = nn.CrossEntropyLoss(label_smoothing=0.1)\n",
    "    optimizer = optim.AdamW(model.parameters(), lr=0.001, weight_decay=1e-4)\n",
    "    scheduler = optim.lr_scheduler.OneCycleLR(\n",
    "        optimizer, max_lr=0.01, steps_per_epoch=len(train_loader), epochs=30\n",
    "    )\n",
    "\n",
    "    # Training loop\n",
    "    train_losses, val_losses, val_accuracies = [], [], []\n",
    "    best_model_wts = copy.deepcopy(model.state_dict())\n",
    "    best_val_accuracy = 0.0\n",
    "\n",
    "    for epoch in range(30):\n",
    "        model.train()\n",
    "        running_train_loss = 0.0\n",
    "        for images, labels in tqdm(train_loader, desc=f\"Epoch [{epoch + 1}/30] (Train)\"):\n",
    "            images, labels = images.to(device), labels.to(device)\n",
    "\n",
    "            optimizer.zero_grad()\n",
    "            outputs = model(images)\n",
    "            loss = criterion(outputs, labels)\n",
    "            loss.backward()\n",
    "            optimizer.step()\n",
    "            scheduler.step()\n",
    "\n",
    "            running_train_loss += loss.item()\n",
    "\n",
    "        train_loss = running_train_loss / len(train_loader)\n",
    "        train_losses.append(train_loss)\n",
    "\n",
    "        model.eval()\n",
    "        running_val_loss = 0.0\n",
    "        correct_val, total_val = 0, 0\n",
    "\n",
    "        with torch.no_grad():\n",
    "            for images, labels in val_loader:\n",
    "                images, labels = images.to(device), labels.to(device)\n",
    "                outputs = model(images)\n",
    "                loss = criterion(outputs, labels)\n",
    "                running_val_loss += loss.item()\n",
    "\n",
    "                _, predicted = torch.max(outputs, 1)\n",
    "                correct_val += (predicted == labels).sum().item()\n",
    "                total_val += labels.size(0)\n",
    "\n",
    "        val_loss = running_val_loss / len(val_loader)\n",
    "        val_accuracy = correct_val / total_val\n",
    "        val_losses.append(val_loss)\n",
    "        val_accuracies.append(val_accuracy)\n",
    "\n",
    "        print(f\"Epoch [{epoch + 1}/30] - Train Loss: {train_loss:.4f} | Val Loss: {val_loss:.4f} | Val Acc: {val_accuracy:.4f}\")\n",
    "\n",
    "        if val_accuracy > best_val_accuracy:\n",
    "            best_val_accuracy = val_accuracy\n",
    "            best_model_wts = copy.deepcopy(model.state_dict())\n",
    "\n",
    "    # Load best model weights\n",
    "    model.load_state_dict(best_model_wts)\n",
    "\n",
    "    # Plot training and validation loss\n",
    "    plt.figure()\n",
    "    plt.plot(train_losses, label=\"Train Loss\")\n",
    "    plt.plot(val_losses, label=\"Validation Loss\")\n",
    "    plt.legend()\n",
    "    plt.title(\"Loss vs. Epochs\")\n",
    "    plt.show()\n",
    "\n",
    "    plt.figure()\n",
    "    plt.plot(val_accuracies, label=\"Validation Accuracy\")\n",
    "    plt.legend()\n",
    "    plt.title(\"Accuracy vs. Epochs\")\n",
    "    plt.show()\n",
    "\n",
    "    # Test evaluation\n",
    "    model.eval()\n",
    "    all_preds, all_labels = [], []\n",
    "    with torch.no_grad():\n",
    "        for images, labels in tqdm(test_loader, desc=\"Testing\"):\n",
    "            images, labels = images.to(device), labels.to(device)\n",
    "            outputs = model(images)\n",
    "            _, predicted = torch.max(outputs, 1)\n",
    "            all_preds.extend(predicted.cpu().numpy())\n",
    "            all_labels.extend(labels.cpu().numpy())\n",
    "\n",
    "    test_accuracy = accuracy_score(all_labels, all_preds)\n",
    "    test_precision = precision_score(all_labels, all_preds, average=\"weighted\", zero_division=0)\n",
    "    test_recall = recall_score(all_labels, all_preds, average=\"weighted\", zero_division=0)\n",
    "\n",
    "    print(\"\\n=== Test Results ===\")\n",
    "    print(f\"Accuracy:  {test_accuracy:.4f}\")\n",
    "    print(f\"Precision: {test_precision:.4f}\")\n",
    "    print(f\"Recall:    {test_recall:.4f}\")\n",
    "\n",
    "# Main Script\n",
    "if __name__ == \"__main__\":\n",
    "    data_path = r\"C:\\\\Users\\\\yozev\\\\OneDrive\\\\Desktop\\\\artFiltered\"\n",
    "    train_and_evaluate(data_path=data_path, num_classes=5)\n"
   ],
   "id": "e99452a8b0dacb1f",
   "outputs": [
    {
     "name": "stdout",
     "output_type": "stream",
     "text": [
      "Total images in dataset: 24821\n",
      "Classes found: ['Abstract_Expressionism', 'Cubism', 'Impressionism', 'Northern_Renaissance', 'Rococo']\n"
     ]
    },
    {
     "name": "stderr",
     "output_type": "stream",
     "text": [
      "Epoch [1/30] (Train): 100%|██████████| 1086/1086 [05:00<00:00,  3.62it/s]\n"
     ]
    },
    {
     "name": "stdout",
     "output_type": "stream",
     "text": [
      "Epoch [1/30] - Train Loss: 1.0514 | Val Loss: 1.1313 | Val Acc: 0.6116\n"
     ]
    },
    {
     "name": "stderr",
     "output_type": "stream",
     "text": [
      "Epoch [2/30] (Train): 100%|██████████| 1086/1086 [06:12<00:00,  2.92it/s]\n"
     ]
    },
    {
     "name": "stdout",
     "output_type": "stream",
     "text": [
      "Epoch [2/30] - Train Loss: 1.0254 | Val Loss: 1.1921 | Val Acc: 0.5941\n"
     ]
    },
    {
     "name": "stderr",
     "output_type": "stream",
     "text": [
      "Epoch [3/30] (Train): 100%|██████████| 1086/1086 [06:36<00:00,  2.74it/s]\n"
     ]
    },
    {
     "name": "stdout",
     "output_type": "stream",
     "text": [
      "Epoch [3/30] - Train Loss: 1.0669 | Val Loss: 1.4977 | Val Acc: 0.4859\n"
     ]
    },
    {
     "name": "stderr",
     "output_type": "stream",
     "text": [
      "Epoch [4/30] (Train): 100%|██████████| 1086/1086 [06:03<00:00,  2.99it/s]\n"
     ]
    },
    {
     "name": "stdout",
     "output_type": "stream",
     "text": [
      "Epoch [4/30] - Train Loss: 1.0946 | Val Loss: 1.0787 | Val Acc: 0.6642\n"
     ]
    },
    {
     "name": "stderr",
     "output_type": "stream",
     "text": [
      "Epoch [5/30] (Train): 100%|██████████| 1086/1086 [06:36<00:00,  2.74it/s]\n"
     ]
    },
    {
     "name": "stdout",
     "output_type": "stream",
     "text": [
      "Epoch [5/30] - Train Loss: 1.1192 | Val Loss: 1.0981 | Val Acc: 0.6360\n"
     ]
    },
    {
     "name": "stderr",
     "output_type": "stream",
     "text": [
      "Epoch [6/30] (Train): 100%|██████████| 1086/1086 [06:53<00:00,  2.63it/s]\n"
     ]
    },
    {
     "name": "stdout",
     "output_type": "stream",
     "text": [
      "Epoch [6/30] - Train Loss: 1.0998 | Val Loss: 1.0691 | Val Acc: 0.6535\n"
     ]
    },
    {
     "name": "stderr",
     "output_type": "stream",
     "text": [
      "Epoch [7/30] (Train): 100%|██████████| 1086/1086 [06:50<00:00,  2.65it/s]\n"
     ]
    },
    {
     "name": "stdout",
     "output_type": "stream",
     "text": [
      "Epoch [7/30] - Train Loss: 1.0723 | Val Loss: 0.9846 | Val Acc: 0.6981\n"
     ]
    },
    {
     "name": "stderr",
     "output_type": "stream",
     "text": [
      "Epoch [8/30] (Train): 100%|██████████| 1086/1086 [07:22<00:00,  2.46it/s]\n"
     ]
    },
    {
     "name": "stdout",
     "output_type": "stream",
     "text": [
      "Epoch [8/30] - Train Loss: 1.0662 | Val Loss: 1.0500 | Val Acc: 0.6683\n"
     ]
    },
    {
     "name": "stderr",
     "output_type": "stream",
     "text": [
      "Epoch [9/30] (Train): 100%|██████████| 1086/1086 [06:47<00:00,  2.66it/s]\n"
     ]
    },
    {
     "name": "stdout",
     "output_type": "stream",
     "text": [
      "Epoch [9/30] - Train Loss: 1.0528 | Val Loss: 1.0192 | Val Acc: 0.6925\n"
     ]
    },
    {
     "name": "stderr",
     "output_type": "stream",
     "text": [
      "Epoch [10/30] (Train): 100%|██████████| 1086/1086 [06:56<00:00,  2.61it/s]\n"
     ]
    },
    {
     "name": "stdout",
     "output_type": "stream",
     "text": [
      "Epoch [10/30] - Train Loss: 1.0244 | Val Loss: 1.0205 | Val Acc: 0.6812\n"
     ]
    },
    {
     "name": "stderr",
     "output_type": "stream",
     "text": [
      "Epoch [11/30] (Train): 100%|██████████| 1086/1086 [06:37<00:00,  2.73it/s]\n"
     ]
    },
    {
     "name": "stdout",
     "output_type": "stream",
     "text": [
      "Epoch [11/30] - Train Loss: 0.9940 | Val Loss: 1.0882 | Val Acc: 0.6747\n"
     ]
    },
    {
     "name": "stderr",
     "output_type": "stream",
     "text": [
      "Epoch [12/30] (Train): 100%|██████████| 1086/1086 [07:07<00:00,  2.54it/s]\n"
     ]
    },
    {
     "name": "stdout",
     "output_type": "stream",
     "text": [
      "Epoch [12/30] - Train Loss: 0.9686 | Val Loss: 0.9849 | Val Acc: 0.7078\n"
     ]
    },
    {
     "name": "stderr",
     "output_type": "stream",
     "text": [
      "Epoch [13/30] (Train): 100%|██████████| 1086/1086 [06:51<00:00,  2.64it/s]\n"
     ]
    },
    {
     "name": "stdout",
     "output_type": "stream",
     "text": [
      "Epoch [13/30] - Train Loss: 0.9461 | Val Loss: 0.9383 | Val Acc: 0.7284\n"
     ]
    },
    {
     "name": "stderr",
     "output_type": "stream",
     "text": [
      "Epoch [14/30] (Train): 100%|██████████| 1086/1086 [10:39<00:00,  1.70it/s]\n"
     ]
    },
    {
     "name": "stdout",
     "output_type": "stream",
     "text": [
      "Epoch [14/30] - Train Loss: 0.9199 | Val Loss: 1.0877 | Val Acc: 0.6578\n"
     ]
    },
    {
     "name": "stderr",
     "output_type": "stream",
     "text": [
      "Epoch [15/30] (Train): 100%|██████████| 1086/1086 [07:04<00:00,  2.56it/s]\n"
     ]
    },
    {
     "name": "stdout",
     "output_type": "stream",
     "text": [
      "Epoch [15/30] - Train Loss: 0.9025 | Val Loss: 0.9172 | Val Acc: 0.7309\n"
     ]
    },
    {
     "name": "stderr",
     "output_type": "stream",
     "text": [
      "Epoch [16/30] (Train): 100%|██████████| 1086/1086 [09:56<00:00,  1.82it/s]\n"
     ]
    },
    {
     "name": "stdout",
     "output_type": "stream",
     "text": [
      "Epoch [16/30] - Train Loss: 0.8770 | Val Loss: 0.8005 | Val Acc: 0.8004\n"
     ]
    },
    {
     "name": "stderr",
     "output_type": "stream",
     "text": [
      "Epoch [17/30] (Train): 100%|██████████| 1086/1086 [08:49<00:00,  2.05it/s]\n"
     ]
    },
    {
     "name": "stdout",
     "output_type": "stream",
     "text": [
      "Epoch [17/30] - Train Loss: 0.8513 | Val Loss: 0.8268 | Val Acc: 0.7969\n"
     ]
    },
    {
     "name": "stderr",
     "output_type": "stream",
     "text": [
      "Epoch [18/30] (Train): 100%|██████████| 1086/1086 [10:45<00:00,  1.68it/s]\n"
     ]
    },
    {
     "name": "stdout",
     "output_type": "stream",
     "text": [
      "Epoch [18/30] - Train Loss: 0.8370 | Val Loss: 0.8062 | Val Acc: 0.8085\n"
     ]
    },
    {
     "name": "stderr",
     "output_type": "stream",
     "text": [
      "Epoch [19/30] (Train): 100%|██████████| 1086/1086 [09:14<00:00,  1.96it/s]\n"
     ]
    },
    {
     "name": "stdout",
     "output_type": "stream",
     "text": [
      "Epoch [19/30] - Train Loss: 0.8078 | Val Loss: 0.7699 | Val Acc: 0.8104\n"
     ]
    },
    {
     "name": "stderr",
     "output_type": "stream",
     "text": [
      "Epoch [20/30] (Train): 100%|██████████| 1086/1086 [07:08<00:00,  2.53it/s]\n"
     ]
    },
    {
     "name": "stdout",
     "output_type": "stream",
     "text": [
      "Epoch [20/30] - Train Loss: 0.7884 | Val Loss: 0.7296 | Val Acc: 0.8410\n"
     ]
    },
    {
     "name": "stderr",
     "output_type": "stream",
     "text": [
      "Epoch [21/30] (Train): 100%|██████████| 1086/1086 [07:05<00:00,  2.55it/s]\n"
     ]
    },
    {
     "name": "stdout",
     "output_type": "stream",
     "text": [
      "Epoch [21/30] - Train Loss: 0.7652 | Val Loss: 0.7617 | Val Acc: 0.8219\n"
     ]
    },
    {
     "name": "stderr",
     "output_type": "stream",
     "text": [
      "Epoch [22/30] (Train): 100%|██████████| 1086/1086 [07:10<00:00,  2.52it/s]\n"
     ]
    },
    {
     "name": "stdout",
     "output_type": "stream",
     "text": [
      "Epoch [22/30] - Train Loss: 0.7420 | Val Loss: 0.7321 | Val Acc: 0.8386\n"
     ]
    },
    {
     "name": "stderr",
     "output_type": "stream",
     "text": [
      "Epoch [23/30] (Train): 100%|██████████| 1086/1086 [07:59<00:00,  2.27it/s]\n"
     ]
    },
    {
     "name": "stdout",
     "output_type": "stream",
     "text": [
      "Epoch [23/30] - Train Loss: 0.7223 | Val Loss: 0.7016 | Val Acc: 0.8550\n"
     ]
    },
    {
     "name": "stderr",
     "output_type": "stream",
     "text": [
      "Epoch [24/30] (Train): 100%|██████████| 1086/1086 [07:54<00:00,  2.29it/s]\n"
     ]
    },
    {
     "name": "stdout",
     "output_type": "stream",
     "text": [
      "Epoch [24/30] - Train Loss: 0.7051 | Val Loss: 0.6935 | Val Acc: 0.8619\n"
     ]
    },
    {
     "name": "stderr",
     "output_type": "stream",
     "text": [
      "Epoch [25/30] (Train): 100%|██████████| 1086/1086 [08:18<00:00,  2.18it/s]\n"
     ]
    },
    {
     "name": "stdout",
     "output_type": "stream",
     "text": [
      "Epoch [25/30] - Train Loss: 0.6886 | Val Loss: 0.6781 | Val Acc: 0.8657\n"
     ]
    },
    {
     "name": "stderr",
     "output_type": "stream",
     "text": [
      "Epoch [26/30] (Train): 100%|██████████| 1086/1086 [09:32<00:00,  1.90it/s]\n"
     ]
    },
    {
     "name": "stdout",
     "output_type": "stream",
     "text": [
      "Epoch [26/30] - Train Loss: 0.6727 | Val Loss: 0.6634 | Val Acc: 0.8759\n"
     ]
    },
    {
     "name": "stderr",
     "output_type": "stream",
     "text": [
      "Epoch [27/30] (Train): 100%|██████████| 1086/1086 [06:46<00:00,  2.67it/s]\n"
     ]
    },
    {
     "name": "stdout",
     "output_type": "stream",
     "text": [
      "Epoch [27/30] - Train Loss: 0.6621 | Val Loss: 0.6641 | Val Acc: 0.8770\n"
     ]
    },
    {
     "name": "stderr",
     "output_type": "stream",
     "text": [
      "Epoch [28/30] (Train): 100%|██████████| 1086/1086 [10:01<00:00,  1.81it/s]\n"
     ]
    },
    {
     "name": "stdout",
     "output_type": "stream",
     "text": [
      "Epoch [28/30] - Train Loss: 0.6537 | Val Loss: 0.6597 | Val Acc: 0.8810\n"
     ]
    },
    {
     "name": "stderr",
     "output_type": "stream",
     "text": [
      "Epoch [29/30] (Train): 100%|██████████| 1086/1086 [10:17<00:00,  1.76it/s]\n"
     ]
    },
    {
     "name": "stdout",
     "output_type": "stream",
     "text": [
      "Epoch [29/30] - Train Loss: 0.6497 | Val Loss: 0.6622 | Val Acc: 0.8813\n"
     ]
    },
    {
     "name": "stderr",
     "output_type": "stream",
     "text": [
      "Epoch [30/30] (Train): 100%|██████████| 1086/1086 [10:02<00:00,  1.80it/s]\n"
     ]
    },
    {
     "name": "stdout",
     "output_type": "stream",
     "text": [
      "Epoch [30/30] - Train Loss: 0.6447 | Val Loss: 0.6589 | Val Acc: 0.8770\n"
     ]
    },
    {
     "data": {
      "text/plain": [
       "<Figure size 640x480 with 1 Axes>"
      ],
      "image/png": "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"
     },
     "metadata": {},
     "output_type": "display_data"
    },
    {
     "data": {
      "text/plain": [
       "<Figure size 640x480 with 1 Axes>"
      ],
      "image/png": "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"
     },
     "metadata": {},
     "output_type": "display_data"
    },
    {
     "name": "stderr",
     "output_type": "stream",
     "text": [
      "Testing: 100%|██████████| 233/233 [01:33<00:00,  2.49it/s]"
     ]
    },
    {
     "name": "stdout",
     "output_type": "stream",
     "text": [
      "\n",
      "=== Test Results ===\n",
      "Accuracy:  0.8764\n",
      "Precision: 0.8769\n",
      "Recall:    0.8764\n"
     ]
    },
    {
     "name": "stderr",
     "output_type": "stream",
     "text": [
      "\n"
     ]
    }
   ],
   "execution_count": 1
  }
 ],
 "metadata": {
  "kernelspec": {
   "display_name": "Python 3",
   "language": "python",
   "name": "python3"
  },
  "language_info": {
   "codemirror_mode": {
    "name": "ipython",
    "version": 2
   },
   "file_extension": ".py",
   "mimetype": "text/x-python",
   "name": "python",
   "nbconvert_exporter": "python",
   "pygments_lexer": "ipython2",
   "version": "2.7.6"
  }
 },
 "nbformat": 4,
 "nbformat_minor": 5
}

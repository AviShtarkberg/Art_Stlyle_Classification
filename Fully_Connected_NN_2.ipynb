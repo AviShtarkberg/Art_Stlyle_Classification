{
 "cells": [
  {
   "cell_type": "code",
   "id": "initial_id",
   "metadata": {
    "collapsed": true,
    "ExecuteTime": {
     "end_time": "2025-01-08T12:20:56.050075Z",
     "start_time": "2025-01-08T09:24:21.700058Z"
    }
   },
   "source": [
    "import os\n",
    "import torch\n",
    "import torch.nn as nn\n",
    "import torch.optim as optim\n",
    "from torch.utils.data import DataLoader, Dataset\n",
    "from torchvision import transforms\n",
    "from sklearn.metrics import precision_score, recall_score, accuracy_score\n",
    "from PIL import Image\n",
    "import matplotlib.pyplot as plt\n",
    "from tqdm import tqdm\n",
    "\n",
    "class WikiArtDataset(Dataset):\n",
    "    def __init__(self, root_dir, transform=None):\n",
    "        self.root_dir = root_dir\n",
    "        self.transform = transform\n",
    "        self.classes = [d for d in os.listdir(root_dir) if os.path.isdir(os.path.join(root_dir, d))]\n",
    "        self.files = []\n",
    "\n",
    "        for label, cls in enumerate(self.classes):\n",
    "            class_dir = os.path.join(root_dir, cls)\n",
    "            for file_name in os.listdir(class_dir):\n",
    "                file_path = os.path.join(class_dir, file_name)\n",
    "                if os.path.isfile(file_path):\n",
    "                    self.files.append((file_path, label))\n",
    "\n",
    "    def __len__(self):\n",
    "        return len(self.files)\n",
    "\n",
    "    def __getitem__(self, idx):\n",
    "        file_path, label = self.files[idx]\n",
    "        try:\n",
    "            image = Image.open(file_path).convert(\"RGB\")\n",
    "        except Exception as e:\n",
    "            raise RuntimeError(f\"Error loading image {file_path}: {e}\")\n",
    "        if self.transform:\n",
    "            image = self.transform(image)\n",
    "        return image, label\n",
    "\n",
    "class DeepArtClassifier(nn.Module):\n",
    "    def __init__(self, input_dim, output_dim):\n",
    "        super(DeepArtClassifier, self).__init__()\n",
    "\n",
    "        # First hidden layer\n",
    "        self.hidden1 = nn.Linear(input_dim, 2048)\n",
    "        self.bn1 = nn.BatchNorm1d(2048)\n",
    "\n",
    "        # Second hidden layer\n",
    "        self.hidden2 = nn.Linear(2048, 1536) \n",
    "        self.bn2 = nn.BatchNorm1d(1536)\n",
    "\n",
    "        # Third hidden layer\n",
    "        self.hidden3 = nn.Linear(1536, 1024)\n",
    "        self.bn3 = nn.BatchNorm1d(1024)\n",
    "\n",
    "        # Fourth hidden layer\n",
    "        self.hidden4 = nn.Linear(1024, 768)\n",
    "        self.bn4 = nn.BatchNorm1d(768)\n",
    "\n",
    "        # Fifth hidden layer\n",
    "        self.hidden5 = nn.Linear(768, 512)\n",
    "        self.bn5 = nn.BatchNorm1d(512)\n",
    "\n",
    "        # Sixth hidden layer\n",
    "        self.hidden6 = nn.Linear(512, 384)\n",
    "        self.bn6 = nn.BatchNorm1d(384)\n",
    "\n",
    "        # Seventh hidden layer\n",
    "        self.hidden7 = nn.Linear(384, 256)\n",
    "        self.bn7 = nn.BatchNorm1d(256)\n",
    "\n",
    "        # Output layer\n",
    "        self.linear = nn.Linear(256, output_dim)\n",
    "\n",
    "    def forward(self, x):\n",
    "        # Apply layers with ReLU activation and batch normalization\n",
    "        x = torch.relu(self.bn1(self.hidden1(x)))\n",
    "        x = torch.relu(self.bn2(self.hidden2(x)))\n",
    "        x = torch.relu(self.bn3(self.hidden3(x)))\n",
    "        x = torch.relu(self.bn4(self.hidden4(x)))\n",
    "        x = torch.relu(self.bn5(self.hidden5(x)))\n",
    "        x = torch.relu(self.bn6(self.hidden6(x)))\n",
    "        x = torch.relu(self.bn7(self.hidden7(x)))\n",
    "        return self.linear(x)\n",
    "\n",
    "if __name__ == \"__main__\":\n",
    "    # Setup\n",
    "    data_path = r\"C:\\Users\\yozev\\OneDrive\\Desktop\\artFiltered\"\n",
    "\n",
    "    # Increased image resolution to 224x224\n",
    "    transform = transforms.Compose([\n",
    "        transforms.Resize((224, 224)), \n",
    "        transforms.ToTensor(),\n",
    "        transforms.Normalize(mean=[0.485, 0.456, 0.406],\n",
    "                           std=[0.229, 0.224, 0.225]) \n",
    "    ])\n",
    "\n",
    "    # Load dataset\n",
    "    print(\"Loading dataset...\")\n",
    "    dataset = WikiArtDataset(root_dir=data_path, transform=transform)\n",
    "    train_size = int(0.8 * len(dataset))\n",
    "    test_size = len(dataset) - train_size\n",
    "    train_dataset, test_dataset = torch.utils.data.random_split(dataset, [train_size, test_size])\n",
    "\n",
    "    # Adjusted batch size for larger images\n",
    "    train_loader = DataLoader(train_dataset, batch_size=32, shuffle=True)\n",
    "    test_loader = DataLoader(test_dataset, batch_size=32, shuffle=False)\n",
    "\n",
    "    input_dim = 224 * 224 * 3 \n",
    "    output_dim = len(dataset.classes)\n",
    "    device = \"cuda\" if torch.cuda.is_available() else \"cpu\"\n",
    "\n",
    "    print(f\"\\nNetwork Architecture:\")\n",
    "    print(f\"Input dimension: {input_dim}\")\n",
    "    print(\"Hidden layers:\")\n",
    "    print(\"  Layer 1: 2048 neurons + BatchNorm\")\n",
    "    print(\"  Layer 2: 1536 neurons + BatchNorm\")\n",
    "    print(\"  Layer 3: 1024 neurons + BatchNorm\")\n",
    "    print(\"  Layer 4: 768 neurons + BatchNorm\")\n",
    "    print(\"  Layer 5: 512 neurons + BatchNorm\")\n",
    "    print(\"  Layer 6: 384 neurons + BatchNorm\")\n",
    "    print(\"  Layer 7: 256 neurons + BatchNorm\")\n",
    "    print(f\"Output dimension: {output_dim}\")\n",
    "    print(f\"Running on: {device}\\n\")\n",
    "\n",
    "    # Initialize model, loss, and optimizer\n",
    "    model = DeepArtClassifier(input_dim, output_dim).to(device)\n",
    "    criterion = nn.CrossEntropyLoss()\n",
    "    optimizer = optim.Adam(model.parameters(), lr=0.001)\n",
    "\n",
    "    # Training loop\n",
    "    epochs = 35\n",
    "    train_losses = []\n",
    "\n",
    "    print(\"Starting training...\")\n",
    "    for epoch in range(epochs):\n",
    "        model.train()\n",
    "        running_loss = 0.0\n",
    "\n",
    "        pbar = tqdm(enumerate(train_loader), total=len(train_loader),\n",
    "                   desc=f'Epoch [{epoch+1}/{epochs}]')\n",
    "\n",
    "        for batch_idx, (images, labels) in pbar:\n",
    "            images = images.view(images.size(0), -1).to(device)\n",
    "            labels = labels.to(device)\n",
    "\n",
    "            # Forward pass\n",
    "            outputs = model(images)\n",
    "            loss = criterion(outputs, labels)\n",
    "\n",
    "            # Backward pass and optimization\n",
    "            optimizer.zero_grad()\n",
    "            loss.backward()\n",
    "            optimizer.step()\n",
    "\n",
    "            running_loss += loss.item()\n",
    "            avg_loss = running_loss / (batch_idx + 1)\n",
    "\n",
    "            # Update progress bar\n",
    "            pbar.set_postfix({'loss': f'{avg_loss:.4f}'})\n",
    "\n",
    "        train_losses.append(avg_loss)\n",
    "        print(f'Epoch [{epoch+1}/{epochs}] Loss: {avg_loss:.4f}')\n",
    "\n",
    "    # Plot training loss\n",
    "    plt.figure(figsize=(10, 5))\n",
    "    plt.plot(train_losses, label='Training Loss')\n",
    "    plt.title('Training Loss Over Time')\n",
    "    plt.xlabel('Epoch')\n",
    "    plt.ylabel('Loss')\n",
    "    plt.legend()\n",
    "    plt.grid(True)\n",
    "    plt.savefig('training_loss_deep.png')\n",
    "    plt.close()\n",
    "\n",
    "    # Evaluation\n",
    "    print(\"\\nEvaluating model...\")\n",
    "    model.eval()\n",
    "    all_preds = []\n",
    "    all_labels = []\n",
    "\n",
    "    with torch.no_grad():\n",
    "        for images, labels in tqdm(test_loader, desc=\"Testing\"):\n",
    "            images = images.view(images.size(0), -1).to(device)\n",
    "            outputs = model(images)\n",
    "            _, predicted = torch.max(outputs.data, 1)\n",
    "            all_preds.extend(predicted.cpu().numpy())\n",
    "            all_labels.extend(labels.numpy())\n",
    "\n",
    "    # Calculate metrics\n",
    "    accuracy = accuracy_score(all_labels, all_preds)\n",
    "    precision = precision_score(all_labels, all_preds, average='weighted')\n",
    "    recall = recall_score(all_labels, all_preds, average='weighted')\n",
    "\n",
    "    print('\\nFinal Results:')\n",
    "    print(f'Accuracy: {accuracy:.4f}')\n",
    "    print(f'Precision: {precision:.4f}')\n",
    "    print(f'Recall: {recall:.4f}')"
   ],
   "outputs": [
    {
     "name": "stdout",
     "output_type": "stream",
     "text": [
      "Loading dataset...\n",
      "\n",
      "Network Architecture:\n",
      "Input dimension: 150528\n",
      "Hidden layers:\n",
      "  Layer 1: 2048 neurons + BatchNorm\n",
      "  Layer 2: 1536 neurons + BatchNorm\n",
      "  Layer 3: 1024 neurons + BatchNorm\n",
      "  Layer 4: 768 neurons + BatchNorm\n",
      "  Layer 5: 512 neurons + BatchNorm\n",
      "  Layer 6: 384 neurons + BatchNorm\n",
      "  Layer 7: 256 neurons + BatchNorm\n",
      "Output dimension: 13\n",
      "Running on: cuda\n",
      "\n",
      "Starting training...\n"
     ]
    },
    {
     "name": "stderr",
     "output_type": "stream",
     "text": [
      "Epoch [1/35]: 100%|██████████| 1619/1619 [04:31<00:00,  5.96it/s, loss=2.4200]\n"
     ]
    },
    {
     "name": "stdout",
     "output_type": "stream",
     "text": [
      "Epoch [1/35] Loss: 2.4200\n"
     ]
    },
    {
     "name": "stderr",
     "output_type": "stream",
     "text": [
      "Epoch [2/35]: 100%|██████████| 1619/1619 [04:27<00:00,  6.04it/s, loss=2.3430]\n"
     ]
    },
    {
     "name": "stdout",
     "output_type": "stream",
     "text": [
      "Epoch [2/35] Loss: 2.3430\n"
     ]
    },
    {
     "name": "stderr",
     "output_type": "stream",
     "text": [
      "Epoch [3/35]: 100%|██████████| 1619/1619 [04:36<00:00,  5.86it/s, loss=2.2929]\n"
     ]
    },
    {
     "name": "stdout",
     "output_type": "stream",
     "text": [
      "Epoch [3/35] Loss: 2.2929\n"
     ]
    },
    {
     "name": "stderr",
     "output_type": "stream",
     "text": [
      "Epoch [4/35]: 100%|██████████| 1619/1619 [04:35<00:00,  5.88it/s, loss=2.2500]\n"
     ]
    },
    {
     "name": "stdout",
     "output_type": "stream",
     "text": [
      "Epoch [4/35] Loss: 2.2500\n"
     ]
    },
    {
     "name": "stderr",
     "output_type": "stream",
     "text": [
      "Epoch [5/35]: 100%|██████████| 1619/1619 [04:34<00:00,  5.90it/s, loss=2.1983]\n"
     ]
    },
    {
     "name": "stdout",
     "output_type": "stream",
     "text": [
      "Epoch [5/35] Loss: 2.1983\n"
     ]
    },
    {
     "name": "stderr",
     "output_type": "stream",
     "text": [
      "Epoch [6/35]: 100%|██████████| 1619/1619 [04:34<00:00,  5.90it/s, loss=2.1416]\n"
     ]
    },
    {
     "name": "stdout",
     "output_type": "stream",
     "text": [
      "Epoch [6/35] Loss: 2.1416\n"
     ]
    },
    {
     "name": "stderr",
     "output_type": "stream",
     "text": [
      "Epoch [7/35]: 100%|██████████| 1619/1619 [04:35<00:00,  5.87it/s, loss=2.0847]\n"
     ]
    },
    {
     "name": "stdout",
     "output_type": "stream",
     "text": [
      "Epoch [7/35] Loss: 2.0847\n"
     ]
    },
    {
     "name": "stderr",
     "output_type": "stream",
     "text": [
      "Epoch [8/35]: 100%|██████████| 1619/1619 [04:40<00:00,  5.78it/s, loss=2.0205]\n"
     ]
    },
    {
     "name": "stdout",
     "output_type": "stream",
     "text": [
      "Epoch [8/35] Loss: 2.0205\n"
     ]
    },
    {
     "name": "stderr",
     "output_type": "stream",
     "text": [
      "Epoch [9/35]: 100%|██████████| 1619/1619 [04:36<00:00,  5.85it/s, loss=1.9502]\n"
     ]
    },
    {
     "name": "stdout",
     "output_type": "stream",
     "text": [
      "Epoch [9/35] Loss: 1.9502\n"
     ]
    },
    {
     "name": "stderr",
     "output_type": "stream",
     "text": [
      "Epoch [10/35]: 100%|██████████| 1619/1619 [04:34<00:00,  5.89it/s, loss=1.8721]\n"
     ]
    },
    {
     "name": "stdout",
     "output_type": "stream",
     "text": [
      "Epoch [10/35] Loss: 1.8721\n"
     ]
    },
    {
     "name": "stderr",
     "output_type": "stream",
     "text": [
      "Epoch [11/35]: 100%|██████████| 1619/1619 [04:34<00:00,  5.90it/s, loss=1.7947]\n"
     ]
    },
    {
     "name": "stdout",
     "output_type": "stream",
     "text": [
      "Epoch [11/35] Loss: 1.7947\n"
     ]
    },
    {
     "name": "stderr",
     "output_type": "stream",
     "text": [
      "Epoch [12/35]: 100%|██████████| 1619/1619 [04:34<00:00,  5.89it/s, loss=1.7186]\n"
     ]
    },
    {
     "name": "stdout",
     "output_type": "stream",
     "text": [
      "Epoch [12/35] Loss: 1.7186\n"
     ]
    },
    {
     "name": "stderr",
     "output_type": "stream",
     "text": [
      "Epoch [13/35]: 100%|██████████| 1619/1619 [04:35<00:00,  5.88it/s, loss=1.6356]\n"
     ]
    },
    {
     "name": "stdout",
     "output_type": "stream",
     "text": [
      "Epoch [13/35] Loss: 1.6356\n"
     ]
    },
    {
     "name": "stderr",
     "output_type": "stream",
     "text": [
      "Epoch [14/35]: 100%|██████████| 1619/1619 [04:36<00:00,  5.86it/s, loss=1.5597]\n"
     ]
    },
    {
     "name": "stdout",
     "output_type": "stream",
     "text": [
      "Epoch [14/35] Loss: 1.5597\n"
     ]
    },
    {
     "name": "stderr",
     "output_type": "stream",
     "text": [
      "Epoch [15/35]: 100%|██████████| 1619/1619 [04:36<00:00,  5.86it/s, loss=1.4773]\n"
     ]
    },
    {
     "name": "stdout",
     "output_type": "stream",
     "text": [
      "Epoch [15/35] Loss: 1.4773\n"
     ]
    },
    {
     "name": "stderr",
     "output_type": "stream",
     "text": [
      "Epoch [16/35]: 100%|██████████| 1619/1619 [04:37<00:00,  5.84it/s, loss=1.4046]\n"
     ]
    },
    {
     "name": "stdout",
     "output_type": "stream",
     "text": [
      "Epoch [16/35] Loss: 1.4046\n"
     ]
    },
    {
     "name": "stderr",
     "output_type": "stream",
     "text": [
      "Epoch [17/35]: 100%|██████████| 1619/1619 [04:37<00:00,  5.84it/s, loss=1.3322]\n"
     ]
    },
    {
     "name": "stdout",
     "output_type": "stream",
     "text": [
      "Epoch [17/35] Loss: 1.3322\n"
     ]
    },
    {
     "name": "stderr",
     "output_type": "stream",
     "text": [
      "Epoch [18/35]: 100%|██████████| 1619/1619 [04:35<00:00,  5.87it/s, loss=1.2600]\n"
     ]
    },
    {
     "name": "stdout",
     "output_type": "stream",
     "text": [
      "Epoch [18/35] Loss: 1.2600\n"
     ]
    },
    {
     "name": "stderr",
     "output_type": "stream",
     "text": [
      "Epoch [19/35]: 100%|██████████| 1619/1619 [04:35<00:00,  5.88it/s, loss=1.2003]\n"
     ]
    },
    {
     "name": "stdout",
     "output_type": "stream",
     "text": [
      "Epoch [19/35] Loss: 1.2003\n"
     ]
    },
    {
     "name": "stderr",
     "output_type": "stream",
     "text": [
      "Epoch [20/35]: 100%|██████████| 1619/1619 [04:35<00:00,  5.87it/s, loss=1.1289]\n"
     ]
    },
    {
     "name": "stdout",
     "output_type": "stream",
     "text": [
      "Epoch [20/35] Loss: 1.1289\n"
     ]
    },
    {
     "name": "stderr",
     "output_type": "stream",
     "text": [
      "Epoch [21/35]: 100%|██████████| 1619/1619 [04:35<00:00,  5.87it/s, loss=1.0738]\n"
     ]
    },
    {
     "name": "stdout",
     "output_type": "stream",
     "text": [
      "Epoch [21/35] Loss: 1.0738\n"
     ]
    },
    {
     "name": "stderr",
     "output_type": "stream",
     "text": [
      "Epoch [22/35]: 100%|██████████| 1619/1619 [04:36<00:00,  5.86it/s, loss=1.0178]\n"
     ]
    },
    {
     "name": "stdout",
     "output_type": "stream",
     "text": [
      "Epoch [22/35] Loss: 1.0178\n"
     ]
    },
    {
     "name": "stderr",
     "output_type": "stream",
     "text": [
      "Epoch [23/35]: 100%|██████████| 1619/1619 [04:36<00:00,  5.85it/s, loss=0.9596]\n"
     ]
    },
    {
     "name": "stdout",
     "output_type": "stream",
     "text": [
      "Epoch [23/35] Loss: 0.9596\n"
     ]
    },
    {
     "name": "stderr",
     "output_type": "stream",
     "text": [
      "Epoch [24/35]: 100%|██████████| 1619/1619 [04:35<00:00,  5.87it/s, loss=0.9080]\n"
     ]
    },
    {
     "name": "stdout",
     "output_type": "stream",
     "text": [
      "Epoch [24/35] Loss: 0.9080\n"
     ]
    },
    {
     "name": "stderr",
     "output_type": "stream",
     "text": [
      "Epoch [25/35]: 100%|██████████| 1619/1619 [04:36<00:00,  5.86it/s, loss=0.8633]\n"
     ]
    },
    {
     "name": "stdout",
     "output_type": "stream",
     "text": [
      "Epoch [25/35] Loss: 0.8633\n"
     ]
    },
    {
     "name": "stderr",
     "output_type": "stream",
     "text": [
      "Epoch [26/35]: 100%|██████████| 1619/1619 [04:36<00:00,  5.85it/s, loss=0.8184]\n"
     ]
    },
    {
     "name": "stdout",
     "output_type": "stream",
     "text": [
      "Epoch [26/35] Loss: 0.8184\n"
     ]
    },
    {
     "name": "stderr",
     "output_type": "stream",
     "text": [
      "Epoch [27/35]: 100%|██████████| 1619/1619 [04:38<00:00,  5.81it/s, loss=0.7769]\n"
     ]
    },
    {
     "name": "stdout",
     "output_type": "stream",
     "text": [
      "Epoch [27/35] Loss: 0.7769\n"
     ]
    },
    {
     "name": "stderr",
     "output_type": "stream",
     "text": [
      "Epoch [28/35]: 100%|██████████| 1619/1619 [04:41<00:00,  5.74it/s, loss=0.7363]\n"
     ]
    },
    {
     "name": "stdout",
     "output_type": "stream",
     "text": [
      "Epoch [28/35] Loss: 0.7363\n"
     ]
    },
    {
     "name": "stderr",
     "output_type": "stream",
     "text": [
      "Epoch [29/35]: 100%|██████████| 1619/1619 [04:38<00:00,  5.81it/s, loss=0.7114]\n"
     ]
    },
    {
     "name": "stdout",
     "output_type": "stream",
     "text": [
      "Epoch [29/35] Loss: 0.7114\n"
     ]
    },
    {
     "name": "stderr",
     "output_type": "stream",
     "text": [
      "Epoch [30/35]: 100%|██████████| 1619/1619 [05:08<00:00,  5.24it/s, loss=0.6754]\n"
     ]
    },
    {
     "name": "stdout",
     "output_type": "stream",
     "text": [
      "Epoch [30/35] Loss: 0.6754\n"
     ]
    },
    {
     "name": "stderr",
     "output_type": "stream",
     "text": [
      "Epoch [31/35]: 100%|██████████| 1619/1619 [06:30<00:00,  4.14it/s, loss=0.6358]\n"
     ]
    },
    {
     "name": "stdout",
     "output_type": "stream",
     "text": [
      "Epoch [31/35] Loss: 0.6358\n"
     ]
    },
    {
     "name": "stderr",
     "output_type": "stream",
     "text": [
      "Epoch [32/35]: 100%|██████████| 1619/1619 [06:22<00:00,  4.23it/s, loss=0.6179]\n"
     ]
    },
    {
     "name": "stdout",
     "output_type": "stream",
     "text": [
      "Epoch [32/35] Loss: 0.6179\n"
     ]
    },
    {
     "name": "stderr",
     "output_type": "stream",
     "text": [
      "Epoch [33/35]: 100%|██████████| 1619/1619 [07:06<00:00,  3.80it/s, loss=0.5890]\n"
     ]
    },
    {
     "name": "stdout",
     "output_type": "stream",
     "text": [
      "Epoch [33/35] Loss: 0.5890\n"
     ]
    },
    {
     "name": "stderr",
     "output_type": "stream",
     "text": [
      "Epoch [34/35]: 100%|██████████| 1619/1619 [07:55<00:00,  3.41it/s, loss=0.5645]\n"
     ]
    },
    {
     "name": "stdout",
     "output_type": "stream",
     "text": [
      "Epoch [34/35] Loss: 0.5645\n"
     ]
    },
    {
     "name": "stderr",
     "output_type": "stream",
     "text": [
      "Epoch [35/35]: 100%|██████████| 1619/1619 [08:19<00:00,  3.24it/s, loss=0.5335]\n"
     ]
    },
    {
     "name": "stdout",
     "output_type": "stream",
     "text": [
      "Epoch [35/35] Loss: 0.5335\n",
      "\n",
      "Evaluating model...\n"
     ]
    },
    {
     "name": "stderr",
     "output_type": "stream",
     "text": [
      "Testing: 100%|██████████| 405/405 [01:45<00:00,  3.85it/s]"
     ]
    },
    {
     "name": "stdout",
     "output_type": "stream",
     "text": [
      "\n",
      "Final Results:\n",
      "Accuracy: 0.3096\n",
      "Precision: 0.3224\n",
      "Recall: 0.3096\n"
     ]
    },
    {
     "name": "stderr",
     "output_type": "stream",
     "text": [
      "\n"
     ]
    }
   ],
   "execution_count": 14
  },
  {
   "metadata": {},
   "cell_type": "code",
   "outputs": [],
   "execution_count": null,
   "source": "",
   "id": "5fb3d3f8afe23363"
  }
 ],
 "metadata": {
  "kernelspec": {
   "display_name": "Python 3",
   "language": "python",
   "name": "python3"
  },
  "language_info": {
   "codemirror_mode": {
    "name": "ipython",
    "version": 2
   },
   "file_extension": ".py",
   "mimetype": "text/x-python",
   "name": "python",
   "nbconvert_exporter": "python",
   "pygments_lexer": "ipython2",
   "version": "2.7.6"
  }
 },
 "nbformat": 4,
 "nbformat_minor": 5
}
